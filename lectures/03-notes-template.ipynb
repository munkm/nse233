{
 "cells": [
  {
   "cell_type": "markdown",
   "metadata": {},
   "source": [
    "# Lecture 3 - NumPy and Matplotlib\n",
    "\n",
    "## NumPy Arrays\n",
    "\n",
    "NumPy is a collection of modules, called a library, with powerful array objects and linear algebra tools.  Basic unit: multi-dimensional array (N-dimensional, or N-D array).  A 1-D array is a vector, a 2-D array is a matrix, and 3-D array is a vector of matrices, or perhaps a tensor. \n",
    "\n",
    "Numpy's [array creation](https://numpy.org/doc/stable/user/basics.creation.html#arrays-creation) documentation is a great useful tool for you to use as reference. We'll be reviewing some key aspects of this page today, but there's quite a bit more linked in that page. \n"
   ]
  },
  {
   "cell_type": "code",
   "execution_count": null,
   "metadata": {},
   "outputs": [],
   "source": [
    "import numpy as np\n",
    "a_vector = # create a vector\n",
    "a_matrix = # create a matrix\n",
    "print(\"The vector\",a_vector)\n",
    "print(\"The matrix\\n\",a_matrix)"
   ]
  },
  {
   "cell_type": "code",
   "execution_count": null,
   "metadata": {},
   "outputs": [],
   "source": [
    "type(a_vector)"
   ]
  },
  {
   "cell_type": "markdown",
   "metadata": {},
   "source": [
    "Note here that I have created `a_vector` with a list with four elements in it. I've created `a_matrix` with a list of tuples. I could also create it with a list of lists. Sometimes using tuples can be easier to identify open and closed brackets. "
   ]
  },
  {
   "cell_type": "code",
   "execution_count": null,
   "metadata": {},
   "outputs": [],
   "source": [
    "a_matrix = np.array([[1,2,3],[4,5,6],[7,8,9]])\n",
    "print(a_matrix)"
   ]
  },
  {
   "cell_type": "markdown",
   "metadata": {},
   "source": [
    "Ok, sometimes we'll be operating on matrices and want to know their dimensions. There are a few ways we can identify them. \n",
    "\n",
    "First, let's use `shape()` to look at each. Let's see what `shape()` does.... "
   ]
  },
  {
   "cell_type": "code",
   "execution_count": null,
   "metadata": {},
   "outputs": [],
   "source": [
    "help(np.shape)"
   ]
  },
  {
   "cell_type": "code",
   "execution_count": null,
   "metadata": {},
   "outputs": [],
   "source": [
    "#shape tells you the shape (shocking!!!)\n",
    "print(\"The shape of a_vector is \", # get the shape of the vector)\n",
    "print(\"The shape of a_matrix is \", # get the shape of the matrix)"
   ]
  },
  {
   "cell_type": "markdown",
   "metadata": {},
   "source": [
    "Note here that `a_matrix` is a square matrix. If we have a matrix $M$ that is defined as: \n",
    "\n",
    "$$\n",
    "M=\n",
    "  \\begin{bmatrix}\n",
    "    1 & 2 & 3 \\\\\n",
    "    4 & 5 & 6 \n",
    "  \\end{bmatrix}\n",
    "$$\n",
    "\n",
    "\n",
    "It is a $2 \\times 3$ matrix, which has two rows, and three columns. \n",
    "\n",
    "### Think-pair-share: Take a look at how we defined `a_vector`. How many rows and columns does `a_vector` have? \n",
    "\n",
    "\n",
    ".\n",
    "\n",
    "\n",
    ".\n",
    "\n",
    "\n",
    ".\n",
    "\n",
    "\n",
    ".\n",
    "\n",
    "."
   ]
  },
  {
   "cell_type": "code",
   "execution_count": null,
   "metadata": {},
   "outputs": [],
   "source": [
    "b_vector = np.array([(1,2,3,4)])\n",
    "b_matrix = np.array([(1,2,3),(4,5,6)])\n",
    "print(\"The shape of b_vector is \", b_vector.shape)\n",
    "print(\"The shape of b_matrix is \", b_matrix.shape)\n",
    "print(b_vector)\n",
    "print(b_matrix)"
   ]
  },
  {
   "cell_type": "markdown",
   "metadata": {},
   "source": [
    "`ndim()` is a method that can be used to find the number of dimensions of an object. Note that objects can be passed to `ndim()` or if they are already numpy array objects they have that method available to them. "
   ]
  },
  {
   "cell_type": "code",
   "execution_count": null,
   "metadata": {},
   "outputs": [],
   "source": [
    "#ndim tells you the dimensionality of an array\n",
    "print(\"The dimension of a scalar is \", np.ndim(1))\n",
    "print(\"The dimension of a_vector is \", a_vector.ndim)\n",
    "print(\"The dimension of a_matrix is \", a_matrix.ndim)"
   ]
  },
  {
   "cell_type": "markdown",
   "metadata": {},
   "source": [
    "`size()` is a method that tells us the total number of elements in the array. It is the product of the number of elements in each dimension. "
   ]
  },
  {
   "cell_type": "code",
   "execution_count": null,
   "metadata": {},
   "outputs": [],
   "source": [
    "print(\"The size of a_vector is \", a_vector.size,\"= \",\n",
    "      a_vector.shape[0])\n",
    "print(\"The size of a_matrix is \", a_matrix.size,\"=\",\n",
    "      a_matrix.shape[0],\"*\",a_matrix.shape[1])"
   ]
  },
  {
   "cell_type": "markdown",
   "metadata": {},
   "source": [
    "Shape, ndim and size are all characteristics of NumPy arrays. \n",
    "\n",
    "Another neat function we can use is `reshape()`, which will allow us to shape an array into new dimensions. "
   ]
  },
  {
   "cell_type": "code",
   "execution_count": null,
   "metadata": {},
   "outputs": [],
   "source": [
    "A = np.array([2,4,6,8])\n",
    "print(\"A is a vector\",A)\n",
    "A = # reshape a into a 2x2 matrix \n",
    "print(\"A is now a matrix\\n\",A,\"\\nSorcery!\")"
   ]
  },
  {
   "cell_type": "markdown",
   "metadata": {},
   "source": [
    "There are lots of ways to make matrices! Numpy has a function called `arange`, which is a companion to `range` (which we've already used). Like range() it has`start`, `stop`, and `increment` variables. However, it can take float values as well as ints. (range can only take integers)\n"
   ]
  },
  {
   "cell_type": "code",
   "execution_count": null,
   "metadata": {},
   "outputs": [],
   "source": [
    "# Try to get a list of values from 0 to 10 incremented by dx. \n",
    "\n",
    "dx = 0.1\n",
    "xx = # get the values\n",
    "print(xx)"
   ]
  },
  {
   "cell_type": "code",
   "execution_count": null,
   "metadata": {},
   "outputs": [],
   "source": [
    "#let’s make a vector from 0 to 2*pi in intervals of 0.1\n",
    "dx = 0.1\n",
    "X = # do it better with numpy\n",
    "print(X)"
   ]
  },
  {
   "cell_type": "code",
   "execution_count": null,
   "metadata": {},
   "outputs": [],
   "source": [
    "print(type(X))"
   ]
  },
  {
   "cell_type": "markdown",
   "metadata": {},
   "source": [
    "`arange` allowed us to specify the step size. But what if we want to specify the number of steps instead? "
   ]
  },
  {
   "cell_type": "code",
   "execution_count": null,
   "metadata": {},
   "outputs": [],
   "source": [
    "help(np.linspace)"
   ]
  },
  {
   "cell_type": "markdown",
   "metadata": {},
   "source": [
    "Note that `num` generates the number of samples to generate. That is, the len() of the array that will be created"
   ]
  },
  {
   "cell_type": "code",
   "execution_count": null,
   "metadata": {},
   "outputs": [],
   "source": [
    "X = np.linspace(start = 0, stop = 2*np.pi, num = 5)\n",
    "print(len(X))\n",
    "print(X)"
   ]
  },
  {
   "cell_type": "markdown",
   "metadata": {},
   "source": [
    "Sometimes we'll want to make empty vectors and matrices. \n",
    "\n",
    "\n",
    "### Think-pair-share: rather than trusting me, ask yourself and discuss with your neighbor why you might want to do this. \n",
    "\n",
    "\n",
    "\n",
    "\n",
    "Ok, cool. Now let's make zome zero filled objects!"
   ]
  },
  {
   "cell_type": "code",
   "execution_count": null,
   "metadata": {},
   "outputs": [],
   "source": [
    "zero_vector = np.zeros(10) #vector of length 10\n",
    "zero_matrix = np.zeros((4,4)) #4 by 4 matrix\n",
    "print(\"The zero vector:\",zero_vector)\n",
    "print(\"The zero matrix\\n\",zero_matrix)"
   ]
  },
  {
   "cell_type": "code",
   "execution_count": null,
   "metadata": {},
   "outputs": [],
   "source": [
    "ones_vector = np.ones(10) #vector of length 10\n",
    "ones_matrix = np.ones((4,4)) #4 by 4 matrix\n",
    "print(\"The ones vector:\",ones_vector)\n",
    "print(\"The ones matrix\\n\",ones_matrix)"
   ]
  },
  {
   "cell_type": "markdown",
   "metadata": {},
   "source": [
    "Recall last week when I showed you the plot of random points in the circle that we used to calculate pi? I used np.random to do that. Let's take a look at that function and figure out how to make a 2x3 matrix of random numbers. "
   ]
  },
  {
   "cell_type": "code",
   "execution_count": null,
   "metadata": {},
   "outputs": [],
   "source": [
    "help(np.random.rand)"
   ]
  },
  {
   "cell_type": "markdown",
   "metadata": {},
   "source": [
    "Note that this function will create a random array of values between 0 and 1. "
   ]
  },
  {
   "cell_type": "code",
   "execution_count": null,
   "metadata": {},
   "outputs": [],
   "source": [
    "random_matrix = #random 2 x 3 matrix\n",
    "print(\"Here’s a random 2 x 3 matrix\\n\",random_matrix)"
   ]
  },
  {
   "cell_type": "markdown",
   "metadata": {},
   "source": [
    "There are lots of methods on `np.random` that allow us to customize our random arrays. "
   ]
  },
  {
   "cell_type": "code",
   "execution_count": null,
   "metadata": {},
   "outputs": [],
   "source": [
    "print(\"We can also make random arrays between values\")\n",
    "#make a random array between two numbers\n",
    "print(# random array)\n",
    "print(\"We can also make random integer arrays.\")\n",
    "#make random integers\n",
    "print(# random integer array)"
   ]
  },
  {
   "cell_type": "markdown",
   "metadata": {},
   "source": [
    "It is also possible to generate an identity matrix. "
   ]
  },
  {
   "cell_type": "code",
   "execution_count": null,
   "metadata": {},
   "outputs": [],
   "source": [
    "#3 x 3 identity matrix\n",
    "identity33 = np.identity(3)\n",
    "print(identity33)"
   ]
  },
  {
   "cell_type": "markdown",
   "metadata": {},
   "source": [
    "## Array Operations \n",
    "\n",
    "Creating arrays is useful, but a huge benefit of this library is the access you have to array operations! \n",
    "\n",
    "first let's look at some selectors. "
   ]
  },
  {
   "cell_type": "code",
   "execution_count": null,
   "metadata": {},
   "outputs": [],
   "source": [
    "big_matrix = np.random.rand(10,10,10)\n",
    "print(big_matrix)"
   ]
  },
  {
   "cell_type": "markdown",
   "metadata": {},
   "source": [
    "### Think-pair-share: data do you think I will get if I execute `big_matrix[0]`?"
   ]
  },
  {
   "cell_type": "code",
   "execution_count": null,
   "metadata": {},
   "outputs": [],
   "source": [
    "print(big_matrix[0])"
   ]
  },
  {
   "cell_type": "markdown",
   "metadata": {},
   "source": [
    "Numpy selectors work on all dimensions! "
   ]
  },
  {
   "cell_type": "code",
   "execution_count": null,
   "metadata": {},
   "outputs": [],
   "source": [
    "print(big_matrix[9,0,:])"
   ]
  },
  {
   "cell_type": "markdown",
   "metadata": {},
   "source": [
    "Let's make a smaller matrix for things to be easier to see. "
   ]
  },
  {
   "cell_type": "code",
   "execution_count": null,
   "metadata": {},
   "outputs": [],
   "source": [
    "smaller_matrix = np.random.rand(5,5)\n",
    "print(smaller_matrix)"
   ]
  },
  {
   "cell_type": "code",
   "execution_count": null,
   "metadata": {},
   "outputs": [],
   "source": [
    "print(smaller_matrix[0,:]) # prints all elements in the first row\n",
    "print(smaller_matrix[:,0]) # prints all elements in the first column\n",
    "print(smaller_matrix[0:3,0:3]) # get first three elements in x and y"
   ]
  },
  {
   "cell_type": "markdown",
   "metadata": {},
   "source": [
    "Operations on arrays - common operators are overloaded to accomplish this in NumPy. **be careful** so you know what is happening. "
   ]
  },
  {
   "cell_type": "code",
   "execution_count": null,
   "metadata": {},
   "outputs": [],
   "source": [
    "#vector addition\n",
    "x = np.ones(3) #3-vector of ones\n",
    "y = 3*np.ones(3)-1 #3-vector of 2’s\n",
    "print(x,\"+\",y,\"=\",x+y)\n",
    "print(x,\"-\",y,\"=\",x-y)"
   ]
  },
  {
   "cell_type": "markdown",
   "metadata": {},
   "source": [
    "### Think-pair-share: what do you think will happen if I multiply these vectors together? \n",
    "\n",
    ". \n",
    "\n",
    ". \n",
    "\n",
    ".\n",
    "\n",
    ". \n",
    "\n",
    ". \n",
    "\n",
    ". \n",
    "\n",
    ". \n",
    "\n",
    ". "
   ]
  },
  {
   "cell_type": "markdown",
   "metadata": {},
   "source": [
    "Multiplication and division occur \"element-wise\"..."
   ]
  },
  {
   "cell_type": "code",
   "execution_count": null,
   "metadata": {},
   "outputs": [],
   "source": [
    "y = np.array([1.0,2.0,3.0])\n",
    "print(x,\"*\",y,\"=\",x*y)\n",
    "print(x,\"/\",y,\"=\",x/y)"
   ]
  },
  {
   "cell_type": "markdown",
   "metadata": {},
   "source": [
    "To get the scalar product of two vectors we'll use `np.dot()`"
   ]
  },
  {
   "cell_type": "code",
   "execution_count": null,
   "metadata": {},
   "outputs": [],
   "source": [
    "print(x,\"\\u2022\",y,\"=\",np.dot(x,y)) #dot product..."
   ]
  },
  {
   "cell_type": "markdown",
   "metadata": {},
   "source": [
    "And the vector product: "
   ]
  },
  {
   "cell_type": "code",
   "execution_count": null,
   "metadata": {},
   "outputs": [],
   "source": [
    "print(x,\"\\u2715\",y,\"=\",np.cross(x,y))"
   ]
  },
  {
   "cell_type": "code",
   "execution_count": null,
   "metadata": {},
   "outputs": [],
   "source": [
    "silly_matrix = np.array([(1,2,3),(1,2,3),(1,2,3)])\n",
    "print(\"The sum of\\n\",identity33,\"\\nand\\n\",\n",
    "      silly_matrix,\"\\nis\\n\",identity33+silly_matrix)"
   ]
  },
  {
   "cell_type": "code",
   "execution_count": null,
   "metadata": {},
   "outputs": [],
   "source": [
    "identity33 * silly_matrix"
   ]
  },
  {
   "cell_type": "code",
   "execution_count": null,
   "metadata": {},
   "outputs": [],
   "source": [
    "identity33 / silly_matrix"
   ]
  },
  {
   "cell_type": "code",
   "execution_count": null,
   "metadata": {},
   "outputs": [],
   "source": [
    "print(\"The matrix product of\\n\",identity33,\"\\nand\\n\",\n",
    "      silly_matrix,\"\\nis\\n\",\n",
    "      np.dot(identity33,silly_matrix))"
   ]
  },
  {
   "cell_type": "code",
   "execution_count": null,
   "metadata": {},
   "outputs": [],
   "source": [
    "#matrix times a vector\n",
    "print(silly_matrix,\"times\", y, \"is\")\n",
    "print(np.dot(silly_matrix,y))"
   ]
  },
  {
   "cell_type": "markdown",
   "metadata": {},
   "source": [
    "Note: Python will give you an error if you don't provide matrices and vectors with the appropriate sizes...\n",
    "\n",
    "## Universal functions\n",
    "\n",
    "These are common mathematical functions that act on vectors...  Very useful for plotting!"
   ]
  },
  {
   "cell_type": "code",
   "execution_count": null,
   "metadata": {},
   "outputs": [],
   "source": [
    "#recall we defined X as a linspace from 0 to 2pi\n",
    "print(X)\n",
    "#taking the sin(X) should be one whole sine wave\n",
    "print(## stuff)"
   ]
  },
  {
   "cell_type": "code",
   "execution_count": null,
   "metadata": {},
   "outputs": [],
   "source": [
    "import matplotlib.pyplot as plt\n",
    "plt.plot(X,np.sin(X));"
   ]
  },
  {
   "cell_type": "code",
   "execution_count": null,
   "metadata": {},
   "outputs": [],
   "source": [
    "# Let's make another XY plot"
   ]
  },
  {
   "cell_type": "markdown",
   "metadata": {},
   "source": [
    "## Copying Arrays and Scope\n",
    "\n",
    "Things are different with NumPy and arrays than they are for other data types.  Assigning a new variable name to an existing array is like giving that object two names.  The data is not copied into the new array...  The reason is for memory management.  \n",
    "\n",
    "\n",
    "We need to be **really careful** with this. It's an easy thing to confuse. "
   ]
  },
  {
   "cell_type": "code",
   "execution_count": null,
   "metadata": {},
   "outputs": [],
   "source": [
    "a = np.array([1.0,2,3,4,5,6])\n",
    "print(a)\n",
    "#this will make a and b different names for the same array\n",
    "b = a\n",
    "#changing b at position 2\n",
    "b[2] = 2.56"
   ]
  },
  {
   "cell_type": "markdown",
   "metadata": {},
   "source": [
    "### Think-pair-share: do you think a and b will be the same or different? "
   ]
  },
  {
   "cell_type": "code",
   "execution_count": null,
   "metadata": {},
   "outputs": [],
   "source": [
    "print(\"The value of array a is\",a)\n",
    "print(\"The value of array b is\",b)"
   ]
  },
  {
   "cell_type": "markdown",
   "metadata": {},
   "source": [
    "If we truly want to create a new copy, we need to use the `copy()` method. "
   ]
  },
  {
   "cell_type": "code",
   "execution_count": null,
   "metadata": {},
   "outputs": [],
   "source": [
    "a = np.array([1.0,2,3,4,5,6])\n",
    "print(a)\n",
    "#this will make a and b different copies for the same array\n",
    "b = a.copy()\n",
    "#changing b at position 2, will not change a\n",
    "b[2] = 2.56\n",
    "print(\"The value of array a is\",a)\n",
    "print(\"The value of array b is\",b)"
   ]
  },
  {
   "cell_type": "markdown",
   "metadata": {},
   "source": [
    "Recall from a few classes ago that scope affected how variables are changed and modified. In arrays, some of this behavior changes! "
   ]
  },
  {
   "cell_type": "markdown",
   "metadata": {},
   "source": [
    "Passing a variable into a function normally means that variable is copied into the function's memory scope.  Not with NumPy arrays.  When the array is passed, the function just assigns that array another name.  Bottom line: if the array is changed in the function, it is changed outside the function."
   ]
  },
  {
   "cell_type": "code",
   "execution_count": null,
   "metadata": {},
   "outputs": [],
   "source": [
    "def devious_function(func_array):\n",
    "    #changes the value of array passed in\n",
    "    func_array[0] = -1.0e6\n",
    "    \n",
    "a = np.array([1.0,2,3,4,5,6])\n",
    "print(\"Before the function a =\",a)"
   ]
  },
  {
   "cell_type": "markdown",
   "metadata": {},
   "source": [
    "### Think-pair-share: What do you think will happen to a if I use devious_function? "
   ]
  },
  {
   "cell_type": "code",
   "execution_count": null,
   "metadata": {},
   "outputs": [],
   "source": [
    "devious_function(a)\n",
    "print(\"After the function a =\",a)"
   ]
  },
  {
   "cell_type": "markdown",
   "metadata": {},
   "source": [
    "Quick review on slicing "
   ]
  },
  {
   "cell_type": "code",
   "execution_count": null,
   "metadata": {},
   "outputs": [],
   "source": [
    "#bring these guys back\n",
    "a_vector = np.array([1,2,3,4])\n",
    "a_matrix = np.array([(1,2,3),(4,5,6),(7,8,9)])\n",
    "print(\"The vector\",a_vector)\n",
    "print(\"The matrix\\n\",a_matrix)\n",
    "#single colon gives everything\n",
    "print(\"a_vector[:] =\",a_vector[:])\n",
    "#print out position 1 to position 2 (same as for lists)\n",
    "print(\"a_vector[1:3] =\",a_vector[1:3])\n",
    "print(\"For a matrix, we can slice in each dimension\")\n",
    "#every column in row 0\n",
    "print(\"a_matrix[0,:] =\",a_matrix[0,:])\n",
    "#columns 1 and 2 in row 0\n",
    "print(\"a_matrix[0,1:3] =\",a_matrix[0,1:3])\n",
    "#every row in column 2\n",
    "print(\"a_matrix[:,2] =\",a_matrix[:,2])"
   ]
  },
  {
   "cell_type": "code",
   "execution_count": null,
   "metadata": {},
   "outputs": [],
   "source": [
    "a_matrix = np.array([(1,2,3),(4,5,6),(7,8,9)])\n",
    "count = 0\n",
    "for row in a_matrix:\n",
    "    print(\"Row\",count,\"of a_matrix is\",row)\n",
    "    count += 1\n",
    "\n",
    "count = 0\n",
    "for column in a_matrix.transpose():\n",
    "    print(\"Column\",count,\"of a_matrix is\",column)\n",
    "    count += 1"
   ]
  },
  {
   "cell_type": "code",
   "execution_count": null,
   "metadata": {},
   "outputs": [],
   "source": [
    "a_matrix = np.array([(1,2,3),(4,5,6),(7,8,9)])\n",
    "row_count = 0\n",
    "col_count = 0\n",
    "for row in a_matrix:\n",
    "    col_count = 0\n",
    "    for col in row:\n",
    "        print(\"Row\",row_count,\"Column\",col_count,\n",
    "              \"of a_matrix is\",col)\n",
    "        col_count += 1\n",
    "    row_count += 1"
   ]
  },
  {
   "cell_type": "markdown",
   "metadata": {},
   "source": [
    "## Matplotlib Basics\n",
    "\n",
    "Matplotlib is an extremely powerful plotting tool in python. Some of Dr. Munk's favorite resources for matplotlib include: \n",
    "* [Tutorial on the pyplot interface](https://matplotlib.org/stable/tutorials/pyplot.html#sphx-glr-tutorials-pyplot-py) (which we've been using)\n",
    "* [Colormaps in matplotlib](https://matplotlib.org/stable/users/explain/colors/colormaps.html#sphx-glr-users-explain-colors-colormaps-py)\n",
    "* [3d plotting with matplotlib](https://matplotlib.org/stable/gallery/mplot3d/index.html)\n",
    "* [gallery of lines, bars, and markers](https://matplotlib.org/stable/gallery/lines_bars_and_markers/index.html)\n",
    "* Using parameters to customize plots globally [link](https://matplotlib.org/stable/users/explain/customizing.html#customizing)\n",
    "* Information on matplotlib's [artist renderer](https://matplotlib.org/stable/tutorials/artists.html#sphx-glr-tutorials-artists-py)\n",
    "\n",
    "\n",
    "The best way to learn matplotlib is to browse the gallery and try to do your own thing on a plot that you like. \n",
    "\n",
    "Plots in matplotlib are also object oriented. Plot objects have *lots* of methods on them that we can use. \n",
    "\n",
    "\n",
    "This example contains: axis labels and title..."
   ]
  },
  {
   "cell_type": "code",
   "execution_count": null,
   "metadata": {},
   "outputs": [],
   "source": [
    "import matplotlib.pyplot as plt\n",
    "import numpy as np\n",
    "#make a simple plot\n",
    "x = np.linspace(-100,100,1000)\n",
    "y = np.sin(x)/x\n",
    "#plot x versus y\n",
    "plt.plot(x,y)\n",
    "#label the y axis\n",
    "plt.ylabel(\"sinc(x) (arb units)\");\n",
    "#label the x axis\n",
    "plt.xlabel(\"x (cm)\")\n",
    "#give the plot a title\n",
    "plt.title(\"Line plot of the sinc function\")\n",
    "#show the plot\n",
    "plt.show()"
   ]
  },
  {
   "cell_type": "markdown",
   "metadata": {},
   "source": [
    "There are lots of options that can be specified in the plot command, like going from a line to dots..."
   ]
  },
  {
   "cell_type": "code",
   "execution_count": null,
   "metadata": {},
   "outputs": [],
   "source": [
    "x = np.linspace(-3,3,100)\n",
    "y = np.exp(-x**2)\n",
    "plt.plot(x,y,\"ro\"); #red dots on the plot\n",
    "# plt.ylabel(\"$e^{-x^2}$ (arb units)\");\n",
    "# plt.xlabel(\"x (cm)\")\n",
    "# plt.title(\"Plot of $e^{-x^2}$\")\n",
    "plt.show()"
   ]
  },
  {
   "cell_type": "markdown",
   "metadata": {},
   "source": [
    "How about dots and a line?"
   ]
  },
  {
   "cell_type": "code",
   "execution_count": null,
   "metadata": {},
   "outputs": [],
   "source": [
    "x = np.linspace(-3,3,100)\n",
    "y = np.exp(-x**2)\n",
    "plt.plot(x,y,\"\"); #black dots and a line on the plot\n",
    "plt.ylabel(\"$e^{-x^2}$ (arb units)\"); \n",
    "plt.xlabel(\"x (cm)\")\n",
    "plt.title(\"\") # show title with latex formatting\n",
    "plt.show()"
   ]
  },
  {
   "cell_type": "markdown",
   "metadata": {},
   "source": [
    "In this example we have multiple data sets on the plot and a legend. We see the label command being used to pass information into the legend box, and linestyle, color and marker being used to make sure the lines are distinct..."
   ]
  },
  {
   "cell_type": "code",
   "execution_count": null,
   "metadata": {},
   "outputs": [],
   "source": [
    "x = np.linspace(-3,3,100)\n",
    "y = np.exp(-x**2)\n",
    "y1 = np.exp(-x**2/2)\n",
    "y2 = np.exp(-x**2/4)\n",
    "plt.plot(x,y,marker=\"\", color=\"r\",\n",
    "         linestyle=\"--\", label=\"$\\sigma^2 = 1$\")\n",
    "plt.plot(x,y1,color=\"blue\",\n",
    "         label=\"$\\sigma^2 = 2$\")\n",
    "plt.plot(x,y2,color=\"black\",\n",
    "         marker = \"+\", label=\"$\\sigma^2 = 4$\")\n",
    "plt.ylabel(\"$e^{-x^2/\\sigma^2}$ (arb units)\");\n",
    "plt.xlabel(\"x (cm)\")\n",
    "plt.title(\"Plot of $e^{-x^2/\\sigma^2}$\")\n",
    "plt.legend()\n",
    "plt.show()"
   ]
  },
  {
   "cell_type": "code",
   "execution_count": null,
   "metadata": {},
   "outputs": [],
   "source": [
    "phi_m = np.linspace(0, 1, 100)\n",
    "phi_p = np.linspace(0, 1, 100)\n",
    "X,Y = np.meshgrid(phi_p, phi_m)\n",
    "Z = np.sin(X*2*np.pi)*np.cos(Y*2*np.pi)\n",
    "CS = plt.contour(X,Y,Z, colors=\"k\")\n",
    "plt.clabel(CS, fontsize=9, inline=1)\n",
    "plt.xlabel(\"x (cm)\");\n",
    "plt.ylabel(\"y (cm)\");\n",
    "plt.title(\"Second harmonic of $\\phi$ (arb units)\");\n",
    "plt.show()"
   ]
  },
  {
   "cell_type": "markdown",
   "metadata": {},
   "source": [
    "Here are some examples I pulled from the matplotlib gallery. "
   ]
  },
  {
   "cell_type": "code",
   "execution_count": null,
   "metadata": {},
   "outputs": [],
   "source": [
    "t = np.linspace(0, 2 * np.pi, 1024)\n",
    "data2d = np.sin(t)[:, np.newaxis] * np.cos(t)[np.newaxis, :]\n",
    "\n",
    "fig, ax = plt.subplots()\n",
    "im = ax.imshow(data2d)\n",
    "ax.set_title('Pan on the colorbar to shift the color mapping\\n'\n",
    "             'Zoom on the colorbar to scale the color mapping')\n",
    "\n",
    "fig.colorbar(im, ax=ax, label='Interactive colorbar')\n",
    "\n",
    "plt.show()"
   ]
  },
  {
   "cell_type": "code",
   "execution_count": null,
   "metadata": {},
   "outputs": [],
   "source": [
    "\n",
    "import matplotlib.colors as colors\n",
    "N=100\n",
    "X, Y = np.mgrid[-3:3:complex(0, N), -2:2:complex(0, N)]\n",
    "Z1 = np.exp(-X**2 - Y**2)\n",
    "Z2 = np.exp(-(X * 10)**2 - (Y * 10)**2)\n",
    "Z = Z1 + 50 * Z2\n",
    "\n",
    "fig, ax = plt.subplots(2, 1)\n",
    "\n",
    "pcm = ax[0].pcolor(X, Y, Z, cmap='PuBu_r', shading='nearest')\n",
    "fig.colorbar(pcm, ax=ax[0], extend='max', label='linear scaling')\n",
    "\n",
    "pcm = ax[1].pcolor(X, Y, Z, cmap='PuBu_r', shading='nearest',\n",
    "                   norm=colors.LogNorm(vmin=Z.min(), vmax=Z.max()))\n",
    "fig.colorbar(pcm, ax=ax[1], extend='max', label='LogNorm')"
   ]
  },
  {
   "cell_type": "code",
   "execution_count": null,
   "metadata": {},
   "outputs": [],
   "source": [
    "delta = 0.025\n",
    "x = np.arange(-3.0, 3.0, delta)\n",
    "y = np.arange(-2.0, 2.0, delta)\n",
    "X, Y = np.meshgrid(x, y)\n",
    "Z1 = np.exp(-X**2 - Y**2)\n",
    "Z2 = np.exp(-(X - 1)**2 - (Y - 1)**2)\n",
    "Z = (Z1 - Z2) * 2\n",
    "fig, ax = plt.subplots()\n",
    "CS = ax.contour(X, Y, Z)\n",
    "ax.clabel(CS, fontsize=10)\n",
    "ax.set_title('Simplest default with labels')"
   ]
  },
  {
   "cell_type": "code",
   "execution_count": null,
   "metadata": {},
   "outputs": [],
   "source": []
  }
 ],
 "metadata": {
  "kernelspec": {
   "display_name": "Python 3 (ipykernel)",
   "language": "python",
   "name": "python3"
  },
  "language_info": {
   "codemirror_mode": {
    "name": "ipython",
    "version": 3
   },
   "file_extension": ".py",
   "mimetype": "text/x-python",
   "name": "python",
   "nbconvert_exporter": "python",
   "pygments_lexer": "ipython3",
   "version": "3.13.2"
  }
 },
 "nbformat": 4,
 "nbformat_minor": 4
}
