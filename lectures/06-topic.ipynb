{
 "cells": [
  {
   "cell_type": "markdown",
   "metadata": {},
   "source": [
    "# Numerical Methods \n",
    "\n",
    "# Chapter 7 - Gaussian Elimination, boldly into Linear Algebra!\n",
    "\n",
    "So much of what we end up doing when we solve problems in science and engineering is taking governing ordinary or partial differential equations that describe the physics, chemistry and even biology and turning them into systems of linear, or possibly nonlinear, algebraic equations.  We need to know how to efficiently and accurately solve these linear systems of equations.  [Nonlinear equations are often solved by iterating through approximate linear systems of equations...]\n",
    "\n",
    "Let's look at a simple example - just math.  No physics.  A three by three linear system of equations:\n",
    "\n",
    "$$ 3 x_1 + 2 x_2 + x_3 = 6, $$\n",
    "$$ -x_1 + 4 x + 5 x_3 = 8, $$\n",
    "$$ 2 x_1 - 8x_2 + 10 x_3 = 4. $$\n",
    "\n",
    "In matrix form, this is \n",
    "\n",
    "$$\\begin{pmatrix}\n",
    "3 & 2 & 1 \\\\\n",
    "-1 & 4 & 5 \\\\\n",
    "2 &  -8 & 10\n",
    "\\end{pmatrix} \n",
    "\\begin{pmatrix}\n",
    "x_1 \\\\\n",
    "x_2 \\\\\n",
    "x_3 \n",
    "\\end{pmatrix} =\n",
    "\\begin{pmatrix}\n",
    "6 \\\\\n",
    "8 \\\\\n",
    "4 \n",
    "\\end{pmatrix}$$\n",
    "\n",
    "Or, in a shorthand called *augmented matrix form*, it looks like this:\n",
    "\n",
    "$$\\begin{pmatrix}\n",
    "    3 & 2 & 1 &\\bigm| & 6 \\\\\n",
    "    -1 & 4 & 5 &\\bigm| & 8 \\\\\n",
    "    2 & -8 & 10 &\\bigm| & 4 \n",
    "\\end{pmatrix}$$\n",
    "\n",
    "Let's store this 3 by 4 matrix for use later..."
   ]
  },
  {
   "cell_type": "code",
   "execution_count": 2,
   "metadata": {},
   "outputs": [
    {
     "name": "stdout",
     "output_type": "stream",
     "text": [
      "[[ 3.  2.  1.  6.]\n",
      " [-1.  4.  5.  8.]\n",
      " [ 2. -8. 10.  4.]]\n"
     ]
    }
   ],
   "source": [
    "import numpy as np\n",
    "aug_matrix = np.matrix([(3.0,2,1,6),(-1,4,5,8),(2,-8,10,4)])\n",
    "print(aug_matrix)"
   ]
  },
  {
   "cell_type": "markdown",
   "metadata": {},
   "source": [
    "We know how to manually manipulate this system to solve it, by using the tools of elementary algebra to eliminate variables by adding and subtracting equations from each other.  \n",
    "\n",
    "For instance, we we take the second row, and add 1/3 times the first row, we can replace the second row..."
   ]
  },
  {
   "cell_type": "code",
   "execution_count": 3,
   "metadata": {},
   "outputs": [
    {
     "name": "stdout",
     "output_type": "stream",
     "text": [
      "New matrix =\n",
      " [[ 3.          2.          1.          6.        ]\n",
      " [ 0.          4.66666667  5.33333333 10.        ]\n",
      " [ 2.         -8.         10.          4.        ]]\n"
     ]
    }
   ],
   "source": [
    "#add row 2 to 1/3 times row 1\n",
    "row13 = aug_matrix[0]/3 #row1 * 1/3\n",
    "new_row2 = aug_matrix[1] + row13 #add 1/3 row 1 to row 2\n",
    "#replace row 2\n",
    "aug_matrix[1,:] = new_row2\n",
    "print(\"New matrix =\\n\",aug_matrix)"
   ]
  },
  {
   "cell_type": "markdown",
   "metadata": {},
   "source": [
    "This eliminated $x_1$ from the second equation.   Next step:  eliminate $x_1$ from the third equation by adding -2/3 times row 1 to row 3:"
   ]
  },
  {
   "cell_type": "code",
   "execution_count": 4,
   "metadata": {},
   "outputs": [
    {
     "name": "stdout",
     "output_type": "stream",
     "text": [
      "New matrix =\n",
      " [[ 3.          2.          1.          6.        ]\n",
      " [ 0.          4.66666667  5.33333333 10.        ]\n",
      " [ 0.         -9.33333333  9.33333333  0.        ]]\n"
     ]
    }
   ],
   "source": [
    "#add row 3 to -2/3 times row 1\n",
    "row23 = -2*aug_matrix[0]/3 #row1 * -2/3\n",
    "new_row3 = aug_matrix[2] + row23 #add -2/3 row 1 to row 3\n",
    "#replace row 3\n",
    "aug_matrix[2] = new_row3\n",
    "print(\"New matrix =\\n\",aug_matrix)"
   ]
  },
  {
   "cell_type": "markdown",
   "metadata": {},
   "source": [
    "Now, eliminate $x_2$ from the third equation by adding to row 3 the quantity $\\frac{(9 \\frac{1}{3})}{(4 \\frac{2}{3})}$ times row 1 to row3..."
   ]
  },
  {
   "cell_type": "code",
   "execution_count": 5,
   "metadata": {},
   "outputs": [
    {
     "name": "stdout",
     "output_type": "stream",
     "text": [
      "New matrix =\n",
      " [[ 3.          2.          1.          6.        ]\n",
      " [ 0.          4.66666667  5.33333333 10.        ]\n",
      " [ 0.          0.         20.         20.        ]]\n"
     ]
    }
   ],
   "source": [
    "#add row 3 to 9.33333/4.66666 times row 2\n",
    "modrow = (9+1./3)/(4+2./3)*aug_matrix[1] #row2 * (-9+1./3)/(4+2.0/3)\n",
    "new_row3 = aug_matrix[2] + modrow #add -2/3 row 1 to row 3\n",
    "#replace row 3\n",
    "aug_matrix[2] = new_row3.copy()\n",
    "print(\"New matrix =\\n\",aug_matrix)"
   ]
  },
  {
   "cell_type": "markdown",
   "metadata": {},
   "source": [
    "Our original system now has been transformed into this equivalent system:\n",
    "\n",
    "$$\\begin{pmatrix}\n",
    "    3 & 2 & 1 &\\bigm| & 6 \\\\\n",
    "    0 & 4 \\frac{2}{3} & 5 \\frac{1}{3} &\\bigm| & 10 \\\\\n",
    "    0 & 0 & 20 &\\bigm| & 20 \n",
    "\\end{pmatrix}$$\n",
    "\n",
    "We can easily solve this system using *back substitution* - starting with the last row, solve each equation in succession.  In this example, solve the third equation for $x_3$, plug this into the second equation and solve for $x_2$, and then substitute $x_3$ and $x_2$ into the first equation to solve for $x_1$."
   ]
  },
  {
   "cell_type": "code",
   "execution_count": 6,
   "metadata": {},
   "outputs": [
    {
     "name": "stdout",
     "output_type": "stream",
     "text": [
      "x3 = 1.0\n",
      "x2 = 1.0\n",
      "x1 = 1.0\n"
     ]
    }
   ],
   "source": [
    "#backsubstitution\n",
    "x3 = aug_matrix[2,3]/aug_matrix[2,2] #solve for x3\n",
    "print(\"x3 =\",x3)\n",
    "#now solve for x2\n",
    "x2 = (aug_matrix[1,3] - x3*aug_matrix[1,2])/aug_matrix[1,1]\n",
    "print(\"x2 =\",x2)\n",
    "#now solve for x1\n",
    "x1 = (aug_matrix[0,3] - x3*aug_matrix[0,2]-\n",
    "x2*aug_matrix[0,1])/aug_matrix[0,0]\n",
    "print(\"x1 =\",x1)"
   ]
  },
  {
   "cell_type": "markdown",
   "metadata": {},
   "source": [
    "Let's check our answer but computing the residual $r = A x - b$:"
   ]
  },
  {
   "cell_type": "code",
   "execution_count": 7,
   "metadata": {},
   "outputs": [
    {
     "name": "stdout",
     "output_type": "stream",
     "text": [
      "[[6. 8. 4.]] - [6 8 4] = [[0. 0. 0.]]\n"
     ]
    }
   ],
   "source": [
    "A = np.matrix([(3.0,2,1),(-1,4,5),(2,-8,10)])\n",
    "x = np.array([1,1,1])\n",
    "b = np.array([6,8,4])\n",
    "print(np.dot(A,x),\"-\",b,\"=\",np.dot(A,x)-b)"
   ]
  },
  {
   "cell_type": "markdown",
   "metadata": {},
   "source": [
    "Sweet.  We did it.  This is an illustration of vanilla, no bells or whistles, Gaussian Elimination.  We can write the back substitution part very cleanly and abstractly using the following formula:\n",
    "\n",
    "$$ x_i = \\frac{1}{A_{ii}} \\left( b_i - \\sum\\limits_{j=1+1}^{3} A_{ij} x_i \\right), \\qquad i=1, 2, 3$$"
   ]
  },
  {
   "cell_type": "markdown",
   "metadata": {},
   "source": [
    "## Let's make a function for solving 3x3 systems using GE...\n"
   ]
  },
  {
   "cell_type": "code",
   "execution_count": 8,
   "metadata": {},
   "outputs": [
    {
     "name": "stdout",
     "output_type": "stream",
     "text": [
      "[[ 3.          2.          1.          6.        ]\n",
      " [ 0.          4.66666667  5.33333333 10.        ]\n",
      " [ 0.          0.         20.         20.        ]]\n"
     ]
    }
   ],
   "source": [
    "def GaussElim33(A,b):\n",
    "    \"\"\"create a Gaussian elimination matrix for a 3x3 system\n",
    "    Args:\n",
    "        A: 3 by 3 array\n",
    "        b: array of length 3\n",
    "    Returns:\n",
    "        augmented matrix ready for back substitution\n",
    "    \"\"\"\n",
    "    #create augmented matrix\n",
    "    aug_matrix = np.zeros((3,4))\n",
    "    aug_matrix[0:3,0:3] = A\n",
    "    aug_matrix[:,3] = b\n",
    "    #augmented matrix is created\n",
    "    for column in range(0,3):\n",
    "        for row in range(column+1,3):\n",
    "            mod_row = aug_matrix[row,:]\n",
    "            mod_row -= (mod_row[column]/aug_matrix[column,column]*\n",
    "                        aug_matrix[column,:])\n",
    "            aug_matrix[row] = mod_row\n",
    "    return aug_matrix\n",
    "\n",
    "#test function on the problem above\n",
    "aug = GaussElim33(A,b)\n",
    "print(aug)"
   ]
  },
  {
   "cell_type": "markdown",
   "metadata": {},
   "source": [
    "And now, the back substitution..."
   ]
  },
  {
   "cell_type": "code",
   "execution_count": 9,
   "metadata": {},
   "outputs": [
    {
     "name": "stdout",
     "output_type": "stream",
     "text": [
      "The solution is  [1. 1. 1.]\n"
     ]
    }
   ],
   "source": [
    "def BackSub33(aug_matrix,x):\n",
    "    \"\"\"back substitute a 3 by 3 system after Gaussian elimination\n",
    "    Args:\n",
    "        aug_matrix: augmented matrix with zeros below the diagonal\n",
    "        x: length 3 vector to hold solution\n",
    "    Returns:\n",
    "        nothing\n",
    "    Side Effect:\n",
    "        x now contains solution\n",
    "    \"\"\"\n",
    "    #start at the end\n",
    "    for row in [2,1,0]:\n",
    "        RHS = aug_matrix[row,3]\n",
    "        for column in range(row+1,3):\n",
    "            RHS -= x[column]*aug_matrix[row,column]\n",
    "            # Pause here to illustrate the importance of proper indention...\n",
    "        x[row] = RHS/aug_matrix[row,row]\n",
    "    return\n",
    "\n",
    "x = np.zeros(3)\n",
    "BackSub33(aug,x)\n",
    "print(\"The solution is \", x)"
   ]
  },
  {
   "cell_type": "markdown",
   "metadata": {},
   "source": [
    "Point of discussion: passing by reference, vs. passing by value...\n",
    "\n",
    "Let's more rigorously test our functions: how about 100 random 3x3 systems?"
   ]
  },
  {
   "cell_type": "code",
   "execution_count": 10,
   "metadata": {},
   "outputs": [
    {
     "name": "stdout",
     "output_type": "stream",
     "text": [
      "All Tests Passed!\n"
     ]
    }
   ],
   "source": [
    "import numpy as np\n",
    "tests = 100\n",
    "for i in range(tests):\n",
    "    x = np.random.rand(3)\n",
    "    A = np.random.rand(3,3)\n",
    "    b = np.dot(A,x)\n",
    "    aug = GaussElim33(A,b)\n",
    "    sol = np.zeros(3)\n",
    "    BackSub33(aug,sol)\n",
    "    diff = np.abs(sol-x)\n",
    "    try:\n",
    "        assert(np.max(diff) < 1.0e-12)\n",
    "    except AssertionError:\n",
    "        print(\"Test failed with\")\n",
    "        print(\"A = \",A)\n",
    "        print(\"x = \",x)\n",
    "        raise\n",
    "print(\"All Tests Passed!\")"
   ]
  },
  {
   "cell_type": "markdown",
   "metadata": {},
   "source": [
    "## Gaussian Elimination for a General System\n",
    "\n",
    "Would be nice to have something that worked no matter how big the linear algebra problem was, right?  I mean, do you really want to have to rewrite these functions if you have bigger or smaller matrices and vectors?  No, you don't.  Trust me.\n",
    "\n",
    "The main change will be replace the number 3 with a variable $N$, such that our $A$ matrix is $N \\times N$ and the right hand side vector $b$ is of length $N$."
   ]
  },
  {
   "cell_type": "code",
   "execution_count": 17,
   "metadata": {},
   "outputs": [
    {
     "name": "stdout",
     "output_type": "stream",
     "text": [
      "[[ 3.          2.          1.          1.         14.        ]\n",
      " [ 0.          4.66666667  5.33333333 -1.66666667 18.66666667]\n",
      " [ 0.          0.         20.         -7.         32.        ]\n",
      " [ 0.          0.          0.          5.42857143 21.71428571]]\n"
     ]
    }
   ],
   "source": [
    "def GaussElim(A,b):\n",
    "    \"\"\"create a Gaussian elimination matrix for an NxN system\n",
    "    Args:\n",
    "        A: N by N array\n",
    "        b: array of length N\n",
    "    Returns:\n",
    "        augmented matrix ready for back substitution\n",
    "    \"\"\"\n",
    "    #create augmented matrix\n",
    "    [Nrow, Ncol] = A.shape\n",
    "    assert Nrow == Ncol\n",
    "    N = Nrow\n",
    "    assert b.size == N\n",
    "    aug_matrix = np.zeros((N,N+1))\n",
    "    aug_matrix[0:N,0:N] = A\n",
    "    aug_matrix[:,N] = b\n",
    "    #augmented matrix is created\n",
    "    for column in range(0,N):\n",
    "        for row in range(column+1,N):\n",
    "            mod_row = aug_matrix[row,:]\n",
    "            mod_row -= (mod_row[column]/aug_matrix[column,column]*\n",
    "                        aug_matrix[column,:])\n",
    "            aug_matrix[row] = mod_row\n",
    "    return aug_matrix\n",
    "\n",
    "#let’s try it on a 4 x 4 to start\n",
    "A = np.array([(3.0,2,1,1),(-1,4,5,-2),(2,-8,10,-3),(2,3,4,5)])\n",
    "answer = np.arange(4)+1.0 #1,2,3,4\n",
    "b = np.dot(A,answer)\n",
    "aug = GaussElim(A,b)\n",
    "print(aug)"
   ]
  },
  {
   "cell_type": "markdown",
   "metadata": {},
   "source": [
    "Now, let's generalize the backsubstitution function..."
   ]
  },
  {
   "cell_type": "code",
   "execution_count": 12,
   "metadata": {},
   "outputs": [
    {
     "name": "stdout",
     "output_type": "stream",
     "text": [
      "The solution is  [1. 2. 3. 4.]\n"
     ]
    }
   ],
   "source": [
    "def BackSub(aug_matrix,x):\n",
    "    \"\"\"back substitute a N by N system after Gaussian elimination\n",
    "    Args:\n",
    "        aug_matrix: augmented matrix with zeros below the diagonal\n",
    "        x: length N vector to hold solution\n",
    "    Returns:\n",
    "        nothing\n",
    "    Side Effect:\n",
    "        x now contains solution\n",
    "    \"\"\"\n",
    "    N = x.size\n",
    "    [Nrow,Ncol] = aug_matrix.shape\n",
    "    assert Nrow+1 == Ncol\n",
    "    assert N == Nrow\n",
    "    #start at the end\n",
    "    for row in range(N-1,-1,-1):\n",
    "        RHS = aug_matrix[row,N]\n",
    "        for column in range(row+1,N):\n",
    "            RHS -= x[column]*aug_matrix[row,column]\n",
    "            # Pause here to illustrate the importance of proper indention...\n",
    "        x[row] = RHS/aug_matrix[row,row]\n",
    "    return\n",
    "\n",
    "x = np.zeros(4)\n",
    "BackSub(aug,x)\n",
    "print(\"The solution is \", x)"
   ]
  },
  {
   "cell_type": "markdown",
   "metadata": {},
   "source": [
    "Sweet!  We have a generic solver.  Let's do something with it!  Let's fill a large matrix with 2.01 on the diagonals, and -1 on the immediate off diagonals, and zero everywhere else, and then make a simple right hand side.\n"
   ]
  },
  {
   "cell_type": "code",
   "execution_count": 13,
   "metadata": {},
   "outputs": [
    {
     "name": "stdout",
     "output_type": "stream",
     "text": [
      "[[ 2.01 -1.    0.   ...  0.    0.    0.  ]\n",
      " [-1.    2.01 -1.   ...  0.    0.    0.  ]\n",
      " [ 0.   -1.    2.01 ...  0.    0.    0.  ]\n",
      " ...\n",
      " [ 0.    0.    0.   ...  2.01 -1.    0.  ]\n",
      " [ 0.    0.    0.   ... -1.    2.01 -1.  ]\n",
      " [ 0.    0.    0.   ...  0.   -1.    2.01]]\n"
     ]
    },
    {
     "data": {
      "image/png": "[encoded data removed]",
      "text/plain": [
       "<Figure size 432x288 with 1 Axes>"
      ]
     },
     "metadata": {
      "needs_background": "light"
     },
     "output_type": "display_data"
    }
   ],
   "source": [
    "import matplotlib.pyplot as plt\n",
    "mat_size = 100\n",
    "A = np.zeros((mat_size,mat_size))\n",
    "b = np.zeros(mat_size)\n",
    "diag = np.arange(mat_size)\n",
    "A[diag,diag] = 2.01\n",
    "belowDiagRow = np.arange(1,mat_size)\n",
    "A[belowDiagRow,belowDiagRow-1] = -1\n",
    "aboveDiagRow = np.arange(mat_size-1)\n",
    "A[aboveDiagRow,aboveDiagRow+1] = -1\n",
    "print(A)\n",
    "\n",
    "b[50] = 1\n",
    "aug_mat = GaussElim(A,b)\n",
    "x = np.zeros(mat_size)\n",
    "BackSub(aug_mat,x)\n",
    "plt.plot(diag,x,color=\"blue\")\n",
    "plt.xlabel(\"Row\");\n",
    "plt.ylabel(\"x value\");\n",
    "plt.show();"
   ]
  },
  {
   "cell_type": "markdown",
   "metadata": {},
   "source": [
    "## Round off and pivoting...\n",
    "\n",
    "When matrices have very large differences in the magnitudes of the elements, Gaussian Elimination can behave more poorly, the reason for which is the fact that digital computers use arithmetic with finite precision.  Large numbers begin divided by small numbers can lead to significant round-off error, which can propagate through all the calculations in the algorithm.  "
   ]
  },
  {
   "cell_type": "code",
   "execution_count": 14,
   "metadata": {},
   "outputs": [
    {
     "name": "stdout",
     "output_type": "stream",
     "text": [
      "[[ 1.e-14 -1.e+00  1.e+00]\n",
      " [-1.e+00  2.e+00 -1.e+00]\n",
      " [ 2.e+00 -1.e+00  0.e+00]]\n"
     ]
    }
   ],
   "source": [
    "epsilon = 1e-14\n",
    "A = np.array([(epsilon,-1,1),(-1,2,-1),(2,-1,0)])\n",
    "print(A)"
   ]
  },
  {
   "cell_type": "code",
   "execution_count": 15,
   "metadata": {},
   "outputs": [
    {
     "name": "stdout",
     "output_type": "stream",
     "text": [
      "[0. 0. 1.]\n"
     ]
    }
   ],
   "source": [
    "b = np.array([0,0,1.0])\n",
    "print(b)"
   ]
  },
  {
   "cell_type": "code",
   "execution_count": 16,
   "metadata": {},
   "outputs": [
    {
     "name": "stdout",
     "output_type": "stream",
     "text": [
      "The solution is [0.96589403 0.96969697 0.96969697]\n",
      "The residual is [ 0.         -0.00380294  0.03790891]\n"
     ]
    }
   ],
   "source": [
    "aug_mat = GaussElim(A,b)\n",
    "x = np.zeros(3)\n",
    "BackSub(aug_mat,x)\n",
    "print(\"The solution is\",x)\n",
    "print(\"The residual is\",b-np.dot(A,x))"
   ]
  },
  {
   "cell_type": "markdown",
   "metadata": {},
   "source": [
    "This residual is pretty large.  Part of the reason for this is that we have not used the largest row element as the pivot element, or the element we divide by when doing the elimination. In this example, the pivot element is near zero and finite precision error is magnified when we divide by this small number.\n",
    "\n",
    "To correct this issue we could rearrange the rows so that we divide by larger elements. This\n",
    "is called *row pivoting*.\n",
    "\n",
    "Here is another illustration of the nee for pivoting...\n"
   ]
  },
  {
   "cell_type": "code",
   "execution_count": 17,
   "metadata": {},
   "outputs": [
    {
     "name": "stdout",
     "output_type": "stream",
     "text": [
      "A=\n",
      " [[1. 0.]\n",
      " [0. 1.]]\n",
      "b= [2. 6.]\n"
     ]
    }
   ],
   "source": [
    "A = np.array([(1.0,0),(0,1.0)])\n",
    "b = np.array([2,6.0])\n",
    "print(\"A=\\n\",A)\n",
    "print(\"b=\",b)"
   ]
  },
  {
   "cell_type": "code",
   "execution_count": 18,
   "metadata": {},
   "outputs": [
    {
     "name": "stdout",
     "output_type": "stream",
     "text": [
      "[2. 6.]\n"
     ]
    }
   ],
   "source": [
    "aug_mat = GaussElim(A,b)\n",
    "x = np.zeros(2)\n",
    "BackSub(aug_mat,x)\n",
    "print(x)"
   ]
  },
  {
   "cell_type": "markdown",
   "metadata": {},
   "source": [
    "Now, what if we switch the rows in A and try the same thing:"
   ]
  },
  {
   "cell_type": "code",
   "execution_count": 19,
   "metadata": {},
   "outputs": [
    {
     "name": "stdout",
     "output_type": "stream",
     "text": [
      "A =\n",
      " [[0. 1.]\n",
      " [1. 0.]]\n",
      "b = [6. 2.]\n",
      "x = [nan nan]\n"
     ]
    },
    {
     "name": "stderr",
     "output_type": "stream",
     "text": [
      "<ipython-input-11-a3bd6295e940>:21: RuntimeWarning: divide by zero encountered in double_scalars\n",
      "  mod_row -= (mod_row[column]/aug_matrix[column,column]*\n",
      "<ipython-input-11-a3bd6295e940>:21: RuntimeWarning: invalid value encountered in multiply\n",
      "  mod_row -= (mod_row[column]/aug_matrix[column,column]*\n",
      "<ipython-input-12-1fcfcb4aeeef>:21: RuntimeWarning: invalid value encountered in double_scalars\n",
      "  x[row] = RHS/aug_matrix[row,row]\n"
     ]
    }
   ],
   "source": [
    "A = np.array([(0,1.0),(1.0,0)])\n",
    "b = np.array([6.,2.0])\n",
    "print(\"A =\\n\",A)\n",
    "print(\"b =\",b)\n",
    "aug_mat = GaussElim(A,b)\n",
    "x = np.zeros(2)\n",
    "BackSub(aug_mat,x)\n",
    "print(\"x =\",x)"
   ]
  },
  {
   "cell_type": "markdown",
   "metadata": {},
   "source": [
    "We naively divided by zero, since we didn't have the rows arranged to avoid that.  \n",
    "\n",
    "To implement pivoting, we need a function that will __swap rows__ in our augmented matrix:"
   ]
  },
  {
   "cell_type": "code",
   "execution_count": 33,
   "metadata": {},
   "outputs": [
    {
     "name": "stdout",
     "output_type": "stream",
     "text": [
      "Before swap, A =\n",
      " [[ 3.  2.  1.]\n",
      " [-1.  4.  5.]\n",
      " [ 2. -8. 10.]]\n",
      "3 0 1\n",
      "After swapping 0 and 1, A =\n",
      " [[-1.  4.  5.]\n",
      " [ 3.  2.  1.]\n",
      " [ 2. -8. 10.]]\n"
     ]
    }
   ],
   "source": [
    "def swap_rows(A, a, b):\n",
    "    \"\"\"Swap two rows in a matrix: switch row a with row b\n",
    "    args:\n",
    "        A: matrix to perform row swaps on\n",
    "        a: row index of matrix\n",
    "        b: row index of matrix\n",
    "    returns: nothing\n",
    "    side effects:\n",
    "        changes A to have rows a and b swapped\n",
    "    \"\"\"\n",
    "    assert (a>=0) and (b>=0)\n",
    "    N = A.shape[0] #number of rows\n",
    "    print(N,a,b)\n",
    "    assert (a<N) and (b<N) #less than because 0-based indexing\n",
    "    temp = A[a,:].copy()\n",
    "    A[a,:] = A[b,:].copy()\n",
    "    A[b,:] = temp.copy()\n",
    "    return\n",
    "    \n",
    "print(\"Before swap, A =\\n\",A)\n",
    "swap_rows(A,0,1)\n",
    "print(\"After swapping 0 and 1, A =\\n\",A)"
   ]
  },
  {
   "cell_type": "code",
   "execution_count": 34,
   "metadata": {},
   "outputs": [
    {
     "name": "stdout",
     "output_type": "stream",
     "text": [
      "A =\n",
      " [[0.92233285 0.1410662  0.12533039 0.88813068 0.91412634]\n",
      " [0.48369461 0.14302663 0.1020685  0.55060445 0.04308643]\n",
      " [0.39403765 0.30527947 0.05002451 0.77949647 0.73698889]\n",
      " [0.50322329 0.92055645 0.27110831 0.24376312 0.43522307]\n",
      " [0.92217935 0.23122057 0.14577537 0.92325635 0.46009466]]\n",
      "s = [0.92233285 0.55060445 0.77949647 0.92055645 0.92325635]\n"
     ]
    }
   ],
   "source": [
    "N = 5\n",
    "A = np.random.rand(N,N)\n",
    "print(\"A =\\n\",A)\n",
    "s = np.zeros(N)\n",
    "count = 0\n",
    "for row in A:\n",
    "    s[count] = np.max(np.fabs(row))\n",
    "    count += 1\n",
    "print(\"s =\",s)"
   ]
  },
  {
   "cell_type": "markdown",
   "metadata": {},
   "source": [
    "New function - argmax: returns the index of the largest element of a vector.  "
   ]
  },
  {
   "cell_type": "code",
   "execution_count": 35,
   "metadata": {},
   "outputs": [
    {
     "name": "stdout",
     "output_type": "stream",
     "text": [
      "Largest scaled element in column 2 is in row 3\n"
     ]
    }
   ],
   "source": [
    "pivot_column = 2\n",
    "largest_pos = np.argmax(np.fabs(A[:,pivot_column]/s))\n",
    "print(\"Largest scaled element in column\",\n",
    "      pivot_column,\"is in row\",largest_pos)"
   ]
  },
  {
   "cell_type": "markdown",
   "metadata": {},
   "source": [
    "Now can put this all together in a new version of Gaussian elimination. This function will\n",
    "find the largest elements in each row of the matrix, then proceed with Gaussian elimination\n",
    "where the pivot element is the element that is the largest element remaining in the\n",
    "row."
   ]
  },
  {
   "cell_type": "code",
   "execution_count": 7,
   "metadata": {},
   "outputs": [],
   "source": [
    "def swap_rows(A, a, b):\n",
    "    \"\"\"Rows two rows in a matrix, switch row a with row b\n",
    "    \n",
    "    args:\n",
    "        A: matrix to perform row swaps on\n",
    "        a: row index of matrix\n",
    "        b: row index of matrix\n",
    "        \n",
    "    returns: nothing\n",
    "    \n",
    "    side effects:\n",
    "    changes A to rows a and b swapped\n",
    "    \"\"\"\n",
    "    assert (a>=0) and (b>=0)\n",
    "    N = A.shape[0] #number of rows\n",
    "    assert (a<N) and (b<N) #less than because 0-based indexing\n",
    "    temp = A[a,:].copy()\n",
    "    A[a,:] = A[b,:].copy()\n",
    "    A[b,:] = temp.copy()\n",
    "    \n",
    "def BackSub(aug_matrix,x):\n",
    "    \"\"\"back substitute a N by N system after Gaussian elimination\n",
    "    \n",
    "    Args:\n",
    "        aug_matrix: augmented matrix with zeros below the diagonal\n",
    "        x: length N vector to hold solution\n",
    "    Returns:\n",
    "        nothing\n",
    "    Side Effect:\n",
    "    x now contains solution\n",
    "    \"\"\"\n",
    "    N = x.size\n",
    "    for row in range(N-1,-1,-1):\n",
    "        RHS = aug_matrix[row,N]\n",
    "        for column in range(row+1,N):\n",
    "            RHS -= x[column]*aug_matrix[row,column]\n",
    "        x[row] = RHS/aug_matrix[row,row]\n",
    "    return\n",
    "def GaussElimPivotSolve(A,b,LOUD=0):\n",
    "    \"\"\"create a Gaussian elimination with pivoting matrix for a system\n",
    "    \n",
    "    Args:\n",
    "        A: N by N array\n",
    "        b: array of length N\n",
    "    Returns:\n",
    "        solution vector in the original order\n",
    "    \"\"\"\n",
    "    import numpy as np\n",
    "    [Nrow, Ncol] = A.shape\n",
    "    assert Nrow == Ncol\n",
    "    N = Nrow\n",
    "    #create augmented matrix\n",
    "    aug_matrix = np.zeros((N,N+1))\n",
    "    aug_matrix[0:N,0:N] = A\n",
    "    aug_matrix[:,N] = b\n",
    "    #augmented matrix is created\n",
    "    \n",
    "    #create scale factors\n",
    "    s = np.zeros(N)\n",
    "    count = 0\n",
    "    for row in aug_matrix[:,0:N]: #don't include b\n",
    "        s[count] = np.max(np.fabs(row))\n",
    "        count += 1\n",
    "    if LOUD:\n",
    "        print(\"s =\",s)\n",
    "    if LOUD:\n",
    "        print(\"Original Augmented Matrix is\\n\",aug_matrix)\n",
    "    #perform elimination\n",
    "    for column in range(0,N):\n",
    "        \n",
    "        #swap rows if needed\n",
    "        largest_pos = np.argmax(np.fabs(aug_matrix[column:N,column]/s[column])) + column\n",
    "        if (largest_pos != column):\n",
    "            if (LOUD):\n",
    "                print(\"Swapping row\",column,\"with row\",largest_pos)\n",
    "                print(\"Pre swap\\n\",aug_matrix)\n",
    "            swap_rows(aug_matrix,column,largest_pos)\n",
    "            #re-order s\n",
    "            tmp = s[column]\n",
    "            s[column] = s[largest_pos]\n",
    "            s[largest_pos] = tmp\n",
    "            if (LOUD):\n",
    "                print(\"A =\\n\",aug_matrix)\n",
    "        #finish off the row\n",
    "        for row in range(column+1,N):\n",
    "            mod_row = aug_matrix[row,:]\n",
    "            mod_row = mod_row - mod_row[column]/aug_matrix[column,column]*aug_matrix[column,:]\n",
    "            aug_matrix[row] = mod_row\n",
    "    #now back solve\n",
    "    x = b.copy()\n",
    "    if LOUD:\n",
    "        print(\"Final aug_matrix is\\n\",aug_matrix)\n",
    "    BackSub(aug_matrix,x)\n",
    "    return x"
   ]
  },
  {
   "cell_type": "code",
   "execution_count": 8,
   "metadata": {},
   "outputs": [
    {
     "name": "stdout",
     "output_type": "stream",
     "text": [
      "s = [ 3.  5. 10.]\n",
      "Original Augmented Matrix is\n",
      " [[ 3.  2.  1. 10.]\n",
      " [-1.  4.  5. 22.]\n",
      " [ 2. -8. 10. 16.]]\n",
      "Swapping row 1 with row 2\n",
      "Pre swap\n",
      " [[ 3.          2.          1.         10.        ]\n",
      " [ 0.          4.66666667  5.33333333 25.33333333]\n",
      " [ 0.         -9.33333333  9.33333333  9.33333333]]\n",
      "A =\n",
      " [[ 3.          2.          1.         10.        ]\n",
      " [ 0.         -9.33333333  9.33333333  9.33333333]\n",
      " [ 0.          4.66666667  5.33333333 25.33333333]]\n",
      "Final aug_matrix is\n",
      " [[ 3.          2.          1.         10.        ]\n",
      " [ 0.         -9.33333333  9.33333333  9.33333333]\n",
      " [ 0.          0.         10.         30.        ]]\n",
      "The solution is [1. 2. 3.]\n",
      "The residual (errors) are [0.00000000e+00 0.00000000e+00 3.55271368e-15]\n"
     ]
    }
   ],
   "source": [
    "#let’s try it on a 3 x 3 to start\n",
    "import numpy as np\n",
    "A = np.array([(3.0,2,1),(-1,4,5),(2,-8,10)])\n",
    "answer = np.arange(3)+1.0 #1,2,3\n",
    "b = np.dot(A,answer)\n",
    "x = GaussElimPivotSolve(A,b,LOUD=1)\n",
    "print(\"The solution is\",x)\n",
    "print(\"The residual (errors) are\",np.dot(A,x)-b)"
   ]
  },
  {
   "cell_type": "code",
   "execution_count": 9,
   "metadata": {},
   "outputs": [
    {
     "name": "stdout",
     "output_type": "stream",
     "text": [
      "A =\n",
      " [[0. 1.]\n",
      " [1. 0.]]\n",
      "b = [6. 2.]\n",
      "x = [2. 6.]\n",
      "The residual (errors) are [0. 0.]\n"
     ]
    }
   ],
   "source": [
    "A = np.array([(0,1.0),(1.0,0)])\n",
    "b = np.array([6.,2.0])\n",
    "print(\"A =\\n\",A)\n",
    "print(\"b =\",b)\n",
    "x = GaussElimPivotSolve(A,b,LOUD=False)\n",
    "print(\"x =\",x)\n",
    "print(\"The residual (errors) are\",np.dot(A,x)-b)"
   ]
  },
  {
   "cell_type": "markdown",
   "metadata": {},
   "source": [
    "## Time to Solution for Gaussian Elimination\n",
    "\n",
    "There is a detailed discussion in McClarren on the operation count for Gaussian Elimination, and you can read that and do the math if you choose.  The upshot, though, is that GE's computational cost scales as $O(N^3)$, where $N$ is the number of unknowns in the linear system.  Let's see if we can observe this trend by running a bunch of random tests...\n"
   ]
  },
  {
   "cell_type": "code",
   "execution_count": 19,
   "metadata": {},
   "outputs": [
    {
     "data": {
      "image/png": "[encoded data removed]",
      "text/plain": [
       "<Figure size 432x288 with 1 Axes>"
      ]
     },
     "metadata": {
      "needs_background": "light"
     },
     "output_type": "display_data"
    }
   ],
   "source": [
    "import time\n",
    "import matplotlib.pyplot as plt\n",
    "num_tests = 13\n",
    "N = 2**np.arange(num_tests)\n",
    "times = np.zeros(num_tests)\n",
    "for test in range(1,num_tests):\n",
    "    A = np.random.rand(N[test],N[test])\n",
    "    b = np.dot(A,np.ones(N[test]))\n",
    "    x = np.zeros(N[test])\n",
    "    start = time.time()\n",
    "    aug = GaussElim(A,b)\n",
    "    BackSub(aug,x)\n",
    "    end = time.time()\n",
    "    times[test] = end-start\n",
    "plt.loglog(N,times,\"o-\")\n",
    "y_comp = times.copy()/4\n",
    "for comp_place in range(num_tests-1,0,-1):\n",
    "    #because x goes up by factor 2 each time, time should go up by 8\n",
    "    y_comp[comp_place -1] = np.exp(np.log(y_comp[test])-3*(\n",
    "        np.log(N[test])-np.log(N[comp_place-1])))\n",
    "plt.loglog(N[4:num_tests],y_comp[4:num_tests],\"r\",linewidth=4)\n",
    "#make a comparison line with slope 2\n",
    "y_comp = times.copy()*4\n",
    "for comp_place in range(num_tests-1,0,-1):\n",
    "    y_comp[comp_place -1] = np.exp(np.log(y_comp[test])-2*(\n",
    "        np.log(N[test])-np.log(N[comp_place-1])))\n",
    "plt.loglog(N[4:num_tests],y_comp[4:num_tests],\"g-\",linewidth=4)\n",
    "plt.xlabel(\"Number of Equations\")\n",
    "plt.ylabel(\"Seconds to complete solve\")\n",
    "plt.show()"
   ]
  },
  {
   "cell_type": "code",
   "execution_count": null,
   "metadata": {},
   "outputs": [],
   "source": []
  }
 ],
 "metadata": {
  "kernelspec": {
   "display_name": "Python 3",
   "language": "python",
   "name": "python3"
  },
  "language_info": {
   "codemirror_mode": {
    "name": "ipython",
    "version": 3
   },
   "file_extension": ".py",
   "mimetype": "text/x-python",
   "name": "python",
   "nbconvert_exporter": "python",
   "pygments_lexer": "ipython3",
   "version": "3.8.5"
  }
 },
 "nbformat": 4,
 "nbformat_minor": 4
}
