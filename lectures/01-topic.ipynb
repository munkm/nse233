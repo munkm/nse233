{
 "cells": [
  {
   "cell_type": "markdown",
   "metadata": {},
   "source": [
    "# Lecture 1 - Getting Started in Python (Chapter 1), and Digging Deeper... (Chapter 2)\n",
    "\n",
    "\n",
    "## Chapter 1 - Print command, comments, errors, indention"
   ]
  },
  {
   "cell_type": "code",
   "execution_count": 1,
   "metadata": {},
   "outputs": [
    {
     "name": "stdout",
     "output_type": "stream",
     "text": [
      "Rush is Geddy Lee, Alex Lifeson and Neil Peart\n"
     ]
    }
   ],
   "source": [
    "print(\"Rush is Geddy Lee, Alex Lifeson and Neil Peart\")\n",
    "## This is a true statement, but it doesn't do this band justice!"
   ]
  },
  {
   "cell_type": "code",
   "execution_count": 2,
   "metadata": {},
   "outputs": [
    {
     "ename": "SyntaxError",
     "evalue": "unexpected EOF while parsing (<ipython-input-2-0960e6c2ebb3>, line 4)",
     "output_type": "error",
     "traceback": [
      "\u001b[0;36m  File \u001b[0;32m\"<ipython-input-2-0960e6c2ebb3>\"\u001b[0;36m, line \u001b[0;32m4\u001b[0m\n\u001b[0;31m    print(9*9 #+19)\u001b[0m\n\u001b[0m                   ^\u001b[0m\n\u001b[0;31mSyntaxError\u001b[0m\u001b[0;31m:\u001b[0m unexpected EOF while parsing\n"
     ]
    }
   ],
   "source": [
    "#This next line should compute 9*9 + 19 = 100\n",
    "print(9*9 + 19)\n",
    "#You can also make comments inside a line, or can you?\n",
    "print(9*9 #+19)"
   ]
  },
  {
   "cell_type": "code",
   "execution_count": null,
   "metadata": {},
   "outputs": [],
   "source": [
    "'''The beginning of a multiline comment.\n",
    "This comment will be followed by meaningless\n",
    "code. Enjoy '''\n",
    "print(\"The Tobes of Hades are lit by flickering torchlight.\")"
   ]
  },
  {
   "cell_type": "code",
   "execution_count": null,
   "metadata": {},
   "outputs": [],
   "source": [
    "#This is a good bug because the Python interpreter complains\n",
    "9*9 +"
   ]
  },
  {
   "cell_type": "code",
   "execution_count": null,
   "metadata": {},
   "outputs": [],
   "source": [
    "#This is a bad error because\n",
    "#it doesn’t do what you might think\n",
    "#Say you want to compute (3 + 5)^2 = 8^2 = 64,\n",
    "#but you actually input\n",
    "print(3 + 5**2)\n",
    "#You don’t get the correct answer,\n",
    "# and no one tells you that you’re wrong."
   ]
  },
  {
   "cell_type": "code",
   "execution_count": null,
   "metadata": {},
   "outputs": [],
   "source": [
    "#If I improperly indent, my code won’t work\n",
    "print(\"Not indented\")\n",
    "    print(\"indented, but it shouldn’t be\")"
   ]
  },
  {
   "cell_type": "markdown",
   "metadata": {},
   "source": [
    "## Numeric variables - integers, floating point numbers, complex numbers - math library\n"
   ]
  },
  {
   "cell_type": "code",
   "execution_count": null,
   "metadata": {},
   "outputs": [],
   "source": [
    "#assign the value 2 to x\n",
    "x = 2\n",
    "print(x*2)\n",
    "#check that x is an integer\n",
    "print(type(x))"
   ]
  },
  {
   "cell_type": "code",
   "execution_count": 3,
   "metadata": {},
   "outputs": [
    {
     "ename": "NameError",
     "evalue": "name 'x' is not defined",
     "output_type": "error",
     "traceback": [
      "\u001b[0;31m---------------------------------------------------------------------------\u001b[0m",
      "\u001b[0;31mNameError\u001b[0m                                 Traceback (most recent call last)",
      "\u001b[0;32m<ipython-input-3-a10672a1f4fa>\u001b[0m in \u001b[0;36m<module>\u001b[0;34m\u001b[0m\n\u001b[1;32m      1\u001b[0m \u001b[0;31m#Now make some other floating point variables\u001b[0m\u001b[0;34m\u001b[0m\u001b[0;34m\u001b[0m\u001b[0;34m\u001b[0m\u001b[0m\n\u001b[1;32m      2\u001b[0m \u001b[0my\u001b[0m \u001b[0;34m=\u001b[0m \u001b[0;36m4.2\u001b[0m\u001b[0;34m\u001b[0m\u001b[0;34m\u001b[0m\u001b[0m\n\u001b[0;32m----> 3\u001b[0;31m \u001b[0mprint\u001b[0m\u001b[0;34m(\u001b[0m\u001b[0;34m\"x =\"\u001b[0m\u001b[0;34m,\u001b[0m\u001b[0mx\u001b[0m\u001b[0;34m)\u001b[0m\u001b[0;34m\u001b[0m\u001b[0;34m\u001b[0m\u001b[0m\n\u001b[0m\u001b[1;32m      4\u001b[0m \u001b[0mprint\u001b[0m\u001b[0;34m(\u001b[0m\u001b[0mtype\u001b[0m\u001b[0;34m(\u001b[0m\u001b[0my\u001b[0m\u001b[0;34m)\u001b[0m\u001b[0;34m)\u001b[0m\u001b[0;34m\u001b[0m\u001b[0;34m\u001b[0m\u001b[0m\n\u001b[1;32m      5\u001b[0m \u001b[0;31m#note that exponentiation is **\u001b[0m\u001b[0;34m\u001b[0m\u001b[0;34m\u001b[0m\u001b[0;34m\u001b[0m\u001b[0m\n",
      "\u001b[0;31mNameError\u001b[0m: name 'x' is not defined"
     ]
    }
   ],
   "source": [
    "#Now make some other floating point variables\n",
    "y = 4.2\n",
    "print(\"x =\",x)\n",
    "print(type(y))\n",
    "#note that exponentiation is **\n",
    "z = (x / y)**3\n",
    "print(\"(2 / 4.2)**3 =\",z)"
   ]
  },
  {
   "cell_type": "code",
   "execution_count": null,
   "metadata": {},
   "outputs": [],
   "source": [
    "import math\n",
    "#take cosine of a number close to pi\n",
    "theta = 3.14159\n",
    "trig_variable = math.cos(theta)\n",
    "print(\"cos(\",theta,\") =\",trig_variable)\n",
    "#use the exponential to give e\n",
    "e = math.exp(1)\n",
    "print(\"The base of the natural logarithm is\",e)\n",
    "#Python has a built-in pi as well\n",
    "print(\"The value of pi is\",math.pi)"
   ]
  },
  {
   "cell_type": "code",
   "execution_count": null,
   "metadata": {},
   "outputs": [],
   "source": [
    "#Natural log vs. log base 10...\n",
    "print(\"The natural log of 10 is\",math.log(10))\n",
    "print(\"The log base-10 of 10 is\",math.log10(10))"
   ]
  },
  {
   "cell_type": "code",
   "execution_count": null,
   "metadata": {},
   "outputs": [],
   "source": [
    "# integer division: //,      and the modulus (or remainder): %\n",
    "# 7 / 3 is 2 remainder 1\n",
    "print(\"7 divided by 3 is\",7//3,\"remainder\",7%3)\n",
    "print(\"851 divided by 13 is\",851//13,\"remainder\",851%13)"
   ]
  },
  {
   "cell_type": "code",
   "execution_count": null,
   "metadata": {},
   "outputs": [],
   "source": [
    "# With complex numbers, we use 1j to denote the square root of -1\n",
    "z1 = 1.0 + 3.14 * 1j\n",
    "z2 = -6.28 + 2*1j\n",
    "print(z1,\"+\", z2,\"=\", z1+z2)\n",
    "print(z1,\"-\", z2,\"=\", z1-z2)\n",
    "print(z1,\"*\", z2,\"=\", z1*z2)\n",
    "print(z1,\"/\", z2,\"=\", z1/z2)"
   ]
  },
  {
   "cell_type": "code",
   "execution_count": null,
   "metadata": {},
   "outputs": [],
   "source": [
    "import cmath\n",
    "a = 1.0\n",
    "b = (2 - math.sqrt(2))\n",
    "c = -2*math.sqrt(2)\n",
    "root1 = (-b + cmath.sqrt(b*b - 4*a*c))/(2*a)\n",
    "root2 = (-b - cmath.sqrt(b*b - 4*a*c))/(2*a)\n",
    "print(\"Roots are\",root1,root2)"
   ]
  },
  {
   "cell_type": "code",
   "execution_count": null,
   "metadata": {},
   "outputs": [],
   "source": [
    "print(cmath.exp(cmath.pi*1j))"
   ]
  },
  {
   "cell_type": "markdown",
   "metadata": {},
   "source": [
    "## Strings and overloading"
   ]
  },
  {
   "cell_type": "code",
   "execution_count": null,
   "metadata": {},
   "outputs": [],
   "source": [
    "#This is a string, and a quote from the movie play Glenngarry Glenn Ross\n",
    "aString = \"Coffee is for closers.\"\n",
    "print(aString)\n",
    "print(\"aString\")"
   ]
  },
  {
   "cell_type": "code",
   "execution_count": null,
   "metadata": {},
   "outputs": [],
   "source": [
    "aString[0]"
   ]
  },
  {
   "cell_type": "code",
   "execution_count": null,
   "metadata": {},
   "outputs": [],
   "source": [
    "aString[5]"
   ]
  },
  {
   "cell_type": "code",
   "execution_count": null,
   "metadata": {},
   "outputs": [],
   "source": [
    "# from first index to (second index -1)\n",
    "aString[1:6]"
   ]
  },
  {
   "cell_type": "code",
   "execution_count": null,
   "metadata": {},
   "outputs": [],
   "source": [
    "aString[-1]"
   ]
  },
  {
   "cell_type": "code",
   "execution_count": null,
   "metadata": {
    "scrolled": true
   },
   "outputs": [],
   "source": [
    "aString[-5:-2]"
   ]
  },
  {
   "cell_type": "code",
   "execution_count": null,
   "metadata": {},
   "outputs": [],
   "source": [
    "\"Negative Ghostrider: \"  + \"the pattern is full\""
   ]
  },
  {
   "cell_type": "code",
   "execution_count": null,
   "metadata": {
    "scrolled": true
   },
   "outputs": [],
   "source": [
    "\"a\" + \"b\" + \"c\""
   ]
  },
  {
   "cell_type": "code",
   "execution_count": null,
   "metadata": {},
   "outputs": [],
   "source": [
    "\"The roof, \" * 3"
   ]
  },
  {
   "cell_type": "markdown",
   "metadata": {},
   "source": [
    "## Input"
   ]
  },
  {
   "cell_type": "code",
   "execution_count": null,
   "metadata": {},
   "outputs": [],
   "source": [
    "user_value = input(\"Enter a number: \")\n",
    "user_value = float(user_value)\n",
    "print(\"2 *\", user_value,\"=\", 2*user_value)"
   ]
  },
  {
   "cell_type": "markdown",
   "metadata": {},
   "source": [
    "## Branching"
   ]
  },
  {
   "cell_type": "code",
   "execution_count": null,
   "metadata": {},
   "outputs": [],
   "source": [
    "instructors_op=input(\"What is your opinion of student? \")\n",
    "grade = \"\"\n",
    "if (instructors_op == \"annoying\"):\n",
    "    grade = \"F+\"\n",
    "elif (instructors_op == \"Not annoying\"):\n",
    "    grade = \"B+\"\n",
    "else:\n",
    "    grade = \"A\"\n",
    "print(grade)"
   ]
  },
  {
   "cell_type": "code",
   "execution_count": null,
   "metadata": {},
   "outputs": [],
   "source": [
    "#Checking if two numbers are close to each other can be tricky...\n",
    "import math\n",
    "pi_approx = 22/7\n",
    "if math.fabs(pi_approx - math.pi) < 1.0e-6:\n",
    "    print(\"Yes, that is a good approximation\")\n",
    "else:\n",
    "    print(\"No,\",pi_approx, \n",
    "          \"is not a good approximation of\", \n",
    "          math.pi,\".\")"
   ]
  },
  {
   "cell_type": "markdown",
   "metadata": {},
   "source": [
    "## Iteration"
   ]
  },
  {
   "cell_type": "code",
   "execution_count": null,
   "metadata": {},
   "outputs": [],
   "source": [
    "#this code finds a decent approximation to pi\n",
    "converged = 0\n",
    "guess = 3.14\n",
    "iteration = 0\n",
    "#Define tolerance for approximating pi\n",
    "eps = 1.0e-6\n",
    "#converged will be 0 if false, 1 if true\n",
    "converged = math.fabs(guess - math.pi) < eps\n",
    "while (converged == 0):\n",
    "    guess = guess + eps/2\n",
    "    converged = math.fabs(guess - math.pi) < eps\n",
    "    iteration += 1 #same as iteration = iteration + 1\n",
    "print(\"Our approximation of pi is\", guess)\n",
    "print(\"It took us\", iteration,\"guesses to approximate pi\")"
   ]
  },
  {
   "cell_type": "markdown",
   "metadata": {},
   "source": [
    "## Chapter 2 - First numerical program\n",
    "\n",
    "Suppose we need to compute \n",
    "\n",
    "$$y = \\frac{1}{\\sqrt{x}}$$, \n",
    "\n",
    "but we don't want to use the built in function in the math library, because, well, I don't know...\n",
    "\n",
    "We could instead seek (by guessing and iterating...) the value of $y$ that satistifes this equation: \n",
    "\n",
    "$$y \\sqrt{x} -1 = 0.$$\n",
    "\n",
    "For any guess $y_i$, the residual is what is calculated when you stick the guess into the equation: \n",
    "\n",
    "$$ \\text{residual} = y_i \\sqrt{x} -1.$$\n",
    "\n",
    "[When $y_i$ is equal to $y$, the residual will be zero.]\n",
    "\n",
    "If we assume that $x>1$, then we know that\n",
    "\n",
    "$$ x >  \\frac{1}{\\sqrt{x}}.$$\n",
    "\n",
    "This means that if we start with a guess for $x$ that is greater than 1, we can keep decreasing the guess and we should get closer and closer to the right answer.  *Exhaustive enumeration*\n"
   ]
  },
  {
   "cell_type": "code",
   "execution_count": null,
   "metadata": {},
   "outputs": [],
   "source": [
    "#this code computes 1/sqrt(x), for x > 1\n",
    "import math\n",
    "x = float(input(\"Enter a number greater than 1: \"))\n",
    "if (x<=1):\n",
    "    print(\"I said a number greater than 1\")\n",
    "else:\n",
    "    converged = 0\n",
    "    answer = x #initial guess is x\n",
    "    eps = 1.0e-6 #the residual tolerance\n",
    "    converged = math.fabs(answer * math.sqrt(x) - 1.0) < eps\n",
    "    iteration = 0\n",
    "    while not(converged):\n",
    "        answer = answer - 0.5*eps\n",
    "        converged = math.fabs(answer * math.sqrt(x) - 1.0) < eps\n",
    "        iteration += 1\n",
    "    print(\"1/sqrt(\",x,\") =\",answer)\n",
    "    print(\"It took\",iteration,\"guesses to get that answer.\")"
   ]
  },
  {
   "cell_type": "markdown",
   "metadata": {},
   "source": [
    "This is a slow algorithm.  If we can bracket the solution, then we can use *bisection* to repeatedly pin down the root of the equation in a smaller and smaller interval until we are satisfied."
   ]
  },
  {
   "cell_type": "code",
   "execution_count": 4,
   "metadata": {},
   "outputs": [
    {
     "name": "stdout",
     "output_type": "stream",
     "text": [
      "Enter a number greater than 1: 3.0\n",
      "1/sqrt( 3.0 ) = 0.5773506164550781\n",
      "It took 20 guesses to get that answer.\n"
     ]
    }
   ],
   "source": [
    "#this code computes 1/sqrt(x), for x > 1\n",
    "import math\n",
    "x = float(input(\"Enter a number greater than 1: \"))\n",
    "if (x<=1):\n",
    "    print(\"I said a number greater than 1\")\n",
    "else:\n",
    "    converged = 0\n",
    "    upper_bound = x\n",
    "    lower_bound = 1.0/x\n",
    "    answer = (upper_bound + lower_bound)*0.5\n",
    "    eps = 1.0e-6\n",
    "    converged = math.fabs(answer * math.sqrt(x) - 1.0) < eps\n",
    "    iteration = 0\n",
    "    while not(converged):\n",
    "        mid = answer\n",
    "        if (mid < 1.0/math.sqrt(x)):\n",
    "            lower_bound = mid\n",
    "        else:\n",
    "            upper_bound = mid\n",
    "        answer = (upper_bound + lower_bound)*0.5\n",
    "        #print(upper_bound,lower_bound)\n",
    "        converged = (math.fabs(answer * math.sqrt(x) - 1.0) < eps)\n",
    "        iteration += 1\n",
    "    print(\"1/sqrt(\",x,\") =\",answer)\n",
    "    print(\"It took\",iteration,\"guesses to get that answer.\")"
   ]
  },
  {
   "cell_type": "markdown",
   "metadata": {},
   "source": [
    "## For loops"
   ]
  },
  {
   "cell_type": "code",
   "execution_count": 5,
   "metadata": {},
   "outputs": [
    {
     "name": "stdout",
     "output_type": "stream",
     "text": [
      "1\n",
      "2\n",
      "3\n",
      "4\n",
      "5\n",
      "6\n",
      "7\n",
      "8\n",
      "9\n",
      "10\n"
     ]
    }
   ],
   "source": [
    "#Some code that counts to ten\n",
    "count = 1\n",
    "while (count <= 10):\n",
    "    print(count)\n",
    "    count += 1"
   ]
  },
  {
   "cell_type": "code",
   "execution_count": 6,
   "metadata": {},
   "outputs": [
    {
     "name": "stdout",
     "output_type": "stream",
     "text": [
      "[1, 2, 3, 4, 5, 6, 7, 8, 9]\n"
     ]
    }
   ],
   "source": [
    "print(list(range(1,10)))\n",
    "#the list command tells Python to write out the range"
   ]
  },
  {
   "cell_type": "code",
   "execution_count": 7,
   "metadata": {},
   "outputs": [
    {
     "name": "stdout",
     "output_type": "stream",
     "text": [
      "[0, 1, 2, 3, 4, 5, 6, 7, 8, 9]\n",
      "[0, 1, 2, 3, 4, 5, 6, 7, 8, 9]\n"
     ]
    }
   ],
   "source": [
    "#These should be the same\n",
    "print(list(range(0,10)))\n",
    "print(list(range(10)))"
   ]
  },
  {
   "cell_type": "code",
   "execution_count": 8,
   "metadata": {},
   "outputs": [
    {
     "name": "stdout",
     "output_type": "stream",
     "text": [
      "[0, 2, 4, 6, 8]\n"
     ]
    }
   ],
   "source": [
    "#Here’s something using the step parameter\n",
    "print(list(range(0,10,2)))"
   ]
  },
  {
   "cell_type": "code",
   "execution_count": null,
   "metadata": {},
   "outputs": [],
   "source": [
    "for i in range(10):\n",
    "    print(i+1)"
   ]
  },
  {
   "cell_type": "markdown",
   "metadata": {},
   "source": [
    "Here's that example of picking points in the unit sphere, again, to compute an estimate of $\\pi$."
   ]
  },
  {
   "cell_type": "code",
   "execution_count": 1,
   "metadata": {},
   "outputs": [
    {
     "name": "stdout",
     "output_type": "stream",
     "text": [
      "With 100000000 points our approximation to pi is 3.1417822\n"
     ]
    }
   ],
   "source": [
    "'''Compute pi by picking random points between x = -1 and 1,\n",
    "y = -1 and 1. The fraction of points\n",
    "such that x^2 + y^2 < 1, compared with the total number\n",
    "of points is an approximation to pi/4'''\n",
    "import random\n",
    "number_of_points = 10**8\n",
    "number_inside_circle = 0\n",
    "random.seed() #this seeds the random number generator\n",
    "for point in range(number_of_points):\n",
    "    x = random.uniform(-1,1) #pick random number between -1 and 1\n",
    "    y = random.uniform(-1,1) #pick random number between -1 and 1\n",
    "    if x**2 + y**2 < 1: #is the point in the circle\n",
    "        number_inside_circle += 1\n",
    "pi_approx = 4.0*number_inside_circle/number_of_points\n",
    "print(\"With\",number_of_points,\n",
    "      \"points our approximation to pi is\",pi_approx)"
   ]
  },
  {
   "cell_type": "markdown",
   "metadata": {},
   "source": [
    "Another example, this time using lists and looping through them..."
   ]
  },
  {
   "cell_type": "code",
   "execution_count": 2,
   "metadata": {},
   "outputs": [
    {
     "name": "stdout",
     "output_type": "stream",
     "text": [
      "It is Monday and I will wear a fedora\n",
      "It is Tuesday and I will wear a trilby\n",
      "It is Wednesday and I will wear a porkpie\n",
      "It is Thursday and I will wear a tam o’shanter\n",
      "It is Friday and I will wear a Phrygian cap\n",
      "It is Saturday and I will wear a Beefeaters’ hat\n",
      "It is Sunday and I will wear a sombrero\n"
     ]
    }
   ],
   "source": [
    "#silly hat code\n",
    "hats = [\"fedora\",\"trilby\",\"porkpie\",\"tam o’shanter\",\n",
    "        \"Phrygian cap\",\"Beefeaters’ hat\",\"sombrero\"]\n",
    "days = [\"Monday\",\"Tuesday\",\"Wednesday\",\"Thursday\",\n",
    "        \"Friday\",\"Saturday\",\"Sunday\"]\n",
    "count = 0\n",
    "for today in hats:\n",
    "    print(\"It is\",days[count],\"and I will wear a\",today)\n",
    "    count += 1"
   ]
  },
  {
   "cell_type": "code",
   "execution_count": 3,
   "metadata": {},
   "outputs": [
    {
     "name": "stdout",
     "output_type": "stream",
     "text": [
      "It is Monday and I will wear a tam o’shanter\n",
      "It is Tuesday and I will wear a trilby\n",
      "It is Wednesday and I will wear a tam o’shanter\n",
      "It is Thursday and I will wear a porkpie\n",
      "It is Friday and I will wear a Phrygian cap\n",
      "It is Saturday and I will wear a fedora\n",
      "It is Sunday and I will wear a trilby\n",
      "It is Monday and I will wear a trilby\n",
      "It is Tuesday and I will wear a tam o’shanter\n",
      "It is Wednesday and I will wear a Phrygian cap\n",
      "It is Thursday and I will wear a tam o’shanter\n",
      "It is Friday and I will wear a tam o’shanter\n",
      "It is Saturday and I will wear a tam o’shanter\n",
      "It is Sunday and I will wear a trilby\n",
      "It is Monday and I will wear a porkpie\n",
      "It is Tuesday and I will wear a Beefeaters’ hat\n",
      "It is Wednesday and I will wear a Phrygian cap\n",
      "It is Thursday and I will wear a porkpie\n",
      "It is Friday and I will wear a Beefeaters’ hat\n",
      "It is Saturday and I will wear a Beefeaters’ hat\n",
      "It is Sunday and I will wear a Phrygian cap\n",
      "It is Monday and I will wear a fedora\n",
      "It is Tuesday and I will wear a tam o’shanter\n",
      "It is Wednesday and I will wear a Phrygian cap\n",
      "It is Thursday and I will wear a porkpie\n",
      "It is Friday and I will wear a porkpie\n",
      "It is Saturday and I will wear a tam o’shanter\n",
      "It is Sunday and I will wear a sombrero\n",
      "It is Monday and I will wear a tam o’shanter\n",
      "It is Tuesday and I will wear a porkpie\n"
     ]
    }
   ],
   "source": [
    "#sillier hat code\n",
    "import random\n",
    "hats = [\"fedora\",\"trilby\",\"porkpie\",\"tam o’shanter\",\n",
    "        \"Phrygian cap\",\"Beefeaters’ hat\",\"sombrero\"]\n",
    "days = [\"Monday\",\"Tuesday\",\"Wednesday\",\"Thursday\",\n",
    "        \"Friday\",\"Saturday\",\"Sunday\"]\n",
    "for count in range(30):\n",
    "    hat_choice = round(random.uniform(0,6))\n",
    "    print(\"It is\",days[count % 7],\"and I will wear a\",\n",
    "          hats[hat_choice])"
   ]
  },
  {
   "cell_type": "markdown",
   "metadata": {},
   "source": [
    "## Lists and Tuples"
   ]
  },
  {
   "cell_type": "code",
   "execution_count": 15,
   "metadata": {},
   "outputs": [
    {
     "name": "stdout",
     "output_type": "stream",
     "text": [
      "['fedora', 'trilby', 'porkpie', 'tam o’shanter', 'Phrygian cap', 'Beefeaters’ hat', 'sombrero']\n"
     ]
    }
   ],
   "source": [
    "hats = [\"fedora\",\"trilby\",\"porkpie\",\"tam o’shanter\",\"Phrygian cap\",\n",
    "\"Beefeaters’ hat\",\"sombrero\"]\n",
    "print(hats)"
   ]
  },
  {
   "cell_type": "code",
   "execution_count": 16,
   "metadata": {},
   "outputs": [
    {
     "data": {
      "text/plain": [
       "'porkpie'"
      ]
     },
     "execution_count": 16,
     "metadata": {},
     "output_type": "execute_result"
    }
   ],
   "source": [
    "hats[2]"
   ]
  },
  {
   "cell_type": "code",
   "execution_count": 17,
   "metadata": {},
   "outputs": [
    {
     "name": "stdout",
     "output_type": "stream",
     "text": [
      "['tam o’shanter', 'Phrygian cap', 'Beefeaters’ hat', 'sombrero']\n"
     ]
    }
   ],
   "source": [
    "print(hats[3:7])"
   ]
  },
  {
   "cell_type": "code",
   "execution_count": 18,
   "metadata": {},
   "outputs": [
    {
     "name": "stdout",
     "output_type": "stream",
     "text": [
      "['fedora', 'trilby', 'porkpie', 'tam o’shanter', 'Phrygian cap', 'Beefeaters’ hat', 'sombrero', 'toque']\n"
     ]
    }
   ],
   "source": [
    "hats.append(\"toque\")\n",
    "print(hats)"
   ]
  },
  {
   "cell_type": "code",
   "execution_count": 19,
   "metadata": {},
   "outputs": [
    {
     "name": "stdout",
     "output_type": "stream",
     "text": [
      "['fedora', 'porkpie', 'tam o’shanter', 'Phrygian cap', 'Beefeaters’ hat', 'sombrero', 'toque']\n"
     ]
    }
   ],
   "source": [
    "hats.remove('trilby')\n",
    "print(hats)"
   ]
  },
  {
   "cell_type": "code",
   "execution_count": 20,
   "metadata": {},
   "outputs": [
    {
     "name": "stdout",
     "output_type": "stream",
     "text": [
      "['Item 0', 'Item 1', 2]\n"
     ]
    }
   ],
   "source": [
    "#Lists can contain different types of items\n",
    "my_list = [\"Item 0\", \"Item 1\", 2]\n",
    "print(my_list)"
   ]
  },
  {
   "cell_type": "code",
   "execution_count": 21,
   "metadata": {},
   "outputs": [
    {
     "data": {
      "text/plain": [
       "3"
      ]
     },
     "execution_count": 21,
     "metadata": {},
     "output_type": "execute_result"
    }
   ],
   "source": [
    "len(my_list)"
   ]
  },
  {
   "cell_type": "code",
   "execution_count": 22,
   "metadata": {},
   "outputs": [
    {
     "data": {
      "text/plain": [
       "False"
      ]
     },
     "execution_count": 22,
     "metadata": {},
     "output_type": "execute_result"
    }
   ],
   "source": [
    "\"Item 2\" in my_list"
   ]
  },
  {
   "cell_type": "code",
   "execution_count": 23,
   "metadata": {},
   "outputs": [
    {
     "data": {
      "text/plain": [
       "True"
      ]
     },
     "execution_count": 23,
     "metadata": {},
     "output_type": "execute_result"
    }
   ],
   "source": [
    "2 in my_list"
   ]
  },
  {
   "cell_type": "code",
   "execution_count": 26,
   "metadata": {},
   "outputs": [
    {
     "name": "stdout",
     "output_type": "stream",
     "text": [
      "['Item 0', 'Item 1', 2, 'fedora', 'porkpie', 'tam o’shanter', 'Phrygian cap', 'Beefeaters’ hat', 'sombrero', 'toque']\n"
     ]
    }
   ],
   "source": [
    "#Plus operator is overloaded to concatenate two lists...\n",
    "print(my_list+hats)"
   ]
  },
  {
   "cell_type": "code",
   "execution_count": 28,
   "metadata": {},
   "outputs": [
    {
     "name": "stdout",
     "output_type": "stream",
     "text": [
      "('fedora', 'trilby', 'porkpie', 'tam o’shanter', 'Phrygian cap', 'Beefeaters’ hat', 'sombrero')\n"
     ]
    }
   ],
   "source": [
    "#Tuple - regular parentheses...\n",
    "hats_tuple = (\"fedora\",\"trilby\",\"porkpie\",\n",
    "\"tam o’shanter\",\"Phrygian cap\",\n",
    "\"Beefeaters’ hat\",\"sombrero\")\n",
    "print(hats_tuple)"
   ]
  },
  {
   "cell_type": "code",
   "execution_count": 29,
   "metadata": {},
   "outputs": [
    {
     "data": {
      "text/plain": [
       "'trilby'"
      ]
     },
     "execution_count": 29,
     "metadata": {},
     "output_type": "execute_result"
    }
   ],
   "source": [
    "hats_tuple[1]"
   ]
  },
  {
   "cell_type": "code",
   "execution_count": 31,
   "metadata": {},
   "outputs": [
    {
     "ename": "TypeError",
     "evalue": "'tuple' object does not support item assignment",
     "output_type": "error",
     "traceback": [
      "\u001b[0;31m---------------------------------------------------------------------------\u001b[0m",
      "\u001b[0;31mTypeError\u001b[0m                                 Traceback (most recent call last)",
      "\u001b[0;32m<ipython-input-31-10ce1981611c>\u001b[0m in \u001b[0;36m<module>\u001b[0;34m\u001b[0m\n\u001b[1;32m      1\u001b[0m \u001b[0;31m#But tuples are immutable (can't be changed after they are initially defined\u001b[0m\u001b[0;34m\u001b[0m\u001b[0;34m\u001b[0m\u001b[0;34m\u001b[0m\u001b[0m\n\u001b[0;32m----> 2\u001b[0;31m \u001b[0mhats_tuple\u001b[0m\u001b[0;34m[\u001b[0m\u001b[0;36m1\u001b[0m\u001b[0;34m]\u001b[0m \u001b[0;34m=\u001b[0m \u001b[0;34m\"deer stalker\"\u001b[0m\u001b[0;34m\u001b[0m\u001b[0;34m\u001b[0m\u001b[0m\n\u001b[0m",
      "\u001b[0;31mTypeError\u001b[0m: 'tuple' object does not support item assignment"
     ]
    }
   ],
   "source": [
    "#But tuples are immutable (can't be changed after they are initially defined\n",
    "hats_tuple[1] = \"deer stalker\""
   ]
  },
  {
   "cell_type": "markdown",
   "metadata": {},
   "source": [
    "## Floats and numerical precision"
   ]
  },
  {
   "cell_type": "code",
   "execution_count": 32,
   "metadata": {},
   "outputs": [
    {
     "name": "stdout",
     "output_type": "stream",
     "text": [
      "In 1000000 the closest random number we got to 0.3 is 0.3000002820204787\n"
     ]
    }
   ],
   "source": [
    "# A bad idea for a stopping criteria...\n",
    "import random\n",
    "import math\n",
    "iteration = 0\n",
    "guess = 0\n",
    "closest = 0\n",
    "target = 0.3\n",
    "while (guess != target) and (iteration < 10**6):\n",
    "    guess = random.random()#same as random.uniform(0,1)\n",
    "    if (math.fabs(guess - target) <\n",
    "        math.fabs(closest - target)):\n",
    "        closest = guess\n",
    "    iteration += 1\n",
    "print(\"In\", iteration,\n",
    "      \"the closest random number we got to\",\n",
    "      target,\"is\", closest)"
   ]
  },
  {
   "cell_type": "code",
   "execution_count": 33,
   "metadata": {},
   "outputs": [
    {
     "name": "stdout",
     "output_type": "stream",
     "text": [
      "It took 892514 guesses to get within 1e-06 of 0.3\n",
      "The number we ended with is 0.3000009724535234\n"
     ]
    }
   ],
   "source": [
    "# Better idea...\n",
    "import random\n",
    "import math\n",
    "iteration = 0\n",
    "guess = 0\n",
    "tolerance = 1.0e-6\n",
    "while (math.fabs(guess - 0.3) > tolerance and\n",
    "       (iteration < 10**6)):\n",
    "    guess = random.random()\n",
    "    iteration += 1\n",
    "print(\"It took\", iteration,\n",
    "      \"guesses to get within\",tolerance,\"of 0.3\")\n",
    "print(\"The number we ended with is\",guess)"
   ]
  },
  {
   "cell_type": "markdown",
   "metadata": {},
   "source": [
    "Bottom line - don't use strict equality tests with floating point numbers because they are not perfectly represented on digital computers."
   ]
  },
  {
   "cell_type": "code",
   "execution_count": 34,
   "metadata": {},
   "outputs": [
    {
     "data": {
      "text/plain": [
       "False"
      ]
     },
     "execution_count": 34,
     "metadata": {},
     "output_type": "execute_result"
    }
   ],
   "source": [
    "(0.1+0.1+0.1) == 0.3"
   ]
  },
  {
   "cell_type": "code",
   "execution_count": 35,
   "metadata": {},
   "outputs": [
    {
     "name": "stdout",
     "output_type": "stream",
     "text": [
      "0.10000000000000000555\n"
     ]
    }
   ],
   "source": [
    "print(\"%.20f\" % 0.1)"
   ]
  },
  {
   "cell_type": "code",
   "execution_count": 36,
   "metadata": {},
   "outputs": [
    {
     "data": {
      "text/plain": [
       "0.30000000000000004"
      ]
     },
     "execution_count": 36,
     "metadata": {},
     "output_type": "execute_result"
    }
   ],
   "source": [
    "0.1 + 0.1 + 0.1"
   ]
  },
  {
   "cell_type": "code",
   "execution_count": null,
   "metadata": {},
   "outputs": [],
   "source": []
  }
 ],
 "metadata": {
  "kernelspec": {
   "display_name": "Python 3 (ipykernel)",
   "language": "python",
   "name": "python3"
  },
  "language_info": {
   "codemirror_mode": {
    "name": "ipython",
    "version": 3
   },
   "file_extension": ".py",
   "mimetype": "text/x-python",
   "name": "python",
   "nbconvert_exporter": "python",
   "pygments_lexer": "ipython3",
   "version": "3.13.2"
  }
 },
 "nbformat": 4,
 "nbformat_minor": 4
}
