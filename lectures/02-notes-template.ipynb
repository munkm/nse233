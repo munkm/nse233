{
 "cells": [
  {
   "cell_type": "markdown",
   "metadata": {},
   "source": [
    "# Lecture 2 - Functions, Scoping, Recursion, (Chapter 3)\n",
    "\n",
    "## Functions\n",
    "\n",
    "In the last few lectures we've been focusing on using *objects* in python and modifying them with built in functions. But we can also write our own! \n",
    "\n",
    "Functions make life easier, better: more robust code that is less prone to errors, and more useable.  \n",
    "\n",
    "## Quick question for the audience: what is a function? \n",
    "\n",
    "\n",
    ".\n",
    "\n",
    ".\n",
    "\n",
    ".\n",
    "\n",
    ".\n",
    "\n",
    "\n",
    ".\n",
    "\n",
    ".\n",
    "\n",
    ".\n",
    "\n",
    "\n",
    "Function = abstract version of a concrete set of steps. Goal: same code used for a lot of problems, rather than different code for each problem.  \n",
    "\n",
    "Example:  solve two simultaneous algebraic equations:\n",
    "\n",
    "$$ 4.5 x + 3y = 10.5 $$\n",
    "\n",
    "$$ 1.5 x + 3y = 7.5 $$"
   ]
  },
  {
   "cell_type": "code",
   "execution_count": null,
   "metadata": {},
   "outputs": [],
   "source": [
    "'''Python code to solve\n",
    "4.5 x + 3 y = 10.5\n",
    "1.5 x + 3 y = 7.5\n",
    "by solving the second equation for y first,\n",
    "and then solving for x'''\n",
    "#step 1 solve for y, multiply equation 2 by\n",
    "#-3, and add to first equation\n",
    "LHS_coefficient = -3*3 + 3 #the coefficient for y\n",
    "RHS = -3*7.5 + 10.5 #the right-hand side\n",
    "#now divide right-hand side by left-hand side coefficient\n",
    "y = RHS / LHS_coefficient\n",
    "#plug y into first equation\n",
    "x = (10.5 - 3*y)/4.5\n",
    "#print the solution, note \\n produces a linebreak\n",
    "print(\"The solution to:\\n4.5 x + 3 y = 10.5\\n1.5 x + 3 y = 7.5\\n is x =\",x,\"y=\",y)"
   ]
  },
  {
   "cell_type": "markdown",
   "metadata": {},
   "source": [
    "This is great but it's quite rigid. We can only solve this specific set of equations because we used specific coefficients for our solution. "
   ]
  },
  {
   "cell_type": "markdown",
   "metadata": {},
   "source": [
    "Let's generalize this by writing a function for this instead that works for any two by two system:"
   ]
  },
  {
   "cell_type": "code",
   "execution_count": null,
   "metadata": {},
   "outputs": [],
   "source": [
    "def two_by_two_solver(a1,b1,c1,a2,b2,c2, LOUD=False):\n",
    "    '''Calculate the solution of the system\n",
    "    a1 x + b1 y = c1,\n",
    "    a2 x + b2 y = c2\n",
    "    Args:\n",
    "        a1: x coefficient in first equation (cannot be zero)\n",
    "        b1: y coefficient in first equation\n",
    "        c1: right-hand side in first equation\n",
    "        a2: x coefficient in second equation\n",
    "        b2: y coefficient in second equation\n",
    "        c2: right-hand side in second equation\n",
    "        LOUD: boolean that decides whether to print out the answer   \n",
    "    Returns:\n",
    "        a list containing the solution in the format [x,y]'''\n",
    "    #step one, eliminate x from the second equation\n",
    "    #by multiplying first equation by -a2/a1\n",
    "    #and then adding it to second equation\n",
    "    new_b2 = b2 - a2/a1*b1\n",
    "    new_c2 = c2 - a2/a1*c1\n",
    "    #solve the new equation 2\n",
    "    y = new_c2/new_b2\n",
    "    #plug y into original equation 1\n",
    "    x = (c1-b1*y)/a1\n",
    "    if (LOUD):\n",
    "        print(\"The solution to:\\n\",a1,\"x +\",b1,\"y =\",c1,\"\\n\",a2,\"x +\",b2,\"y =\",c2,\"\\n is x =\",x,\"y=\",y)\n",
    "    return [x,y]"
   ]
  },
  {
   "cell_type": "code",
   "execution_count": null,
   "metadata": {},
   "outputs": [],
   "source": [
    "two_by_two_solver(4.5,3,10.5,1.5,3,7.5,True)"
   ]
  },
  {
   "cell_type": "markdown",
   "metadata": {},
   "source": [
    "A couple of things: \n",
    "* indention is crucial.\n",
    "* Notice that the everything under the $\\texttt{def}$ command is indented.  That's a big deal.\n",
    "* the **return** part of the function returns those variables back to the user once the function has run.\n",
    "* The triple quotes on the top are the `docstring` that I was talking about in earlier lectures. \n",
    "\n",
    "This function won't work when $a_1$ is zero, because we divide by it.  We could handle this, and we'll talk about this in a later lecture on pivoting. "
   ]
  },
  {
   "cell_type": "markdown",
   "metadata": {},
   "source": [
    "## Calling functions and default arguments\n",
    "\n",
    "You can pass data into a function in any order, as long as you are explicit about what you are doing.  For example:"
   ]
  },
  {
   "cell_type": "code",
   "execution_count": null,
   "metadata": {},
   "outputs": [],
   "source": []
  },
  {
   "cell_type": "markdown",
   "metadata": {},
   "source": [
    "Also, in the function definition, we prescribed a default value of $\\texttt{LOUD}$, which means that if the function is called without $\\texttt{LOUD}$ in the list of arguments, it will still execute.\n",
    "\n",
    "Because the function has a return statement, whatever is returned can be assigned to a variable, or we can do whatever we want with it...\n"
   ]
  },
  {
   "cell_type": "markdown",
   "metadata": {},
   "source": [
    "### Think-pair-share\n",
    "\n",
    "What is the data type that will be returned when we execute the function? How do you know? "
   ]
  },
  {
   "cell_type": "code",
   "execution_count": null,
   "metadata": {},
   "outputs": [],
   "source": [
    "answer = two_by_two_solver(a1 = 4.5, b1 = 3,\n",
    "    a2 = 1.5, b2 = 3,\n",
    "    c1 = 10.5, c2 = 7.5)\n",
    "#store in the variable x the first value in the list\n",
    "x = \n",
    "#store in the variable y the first value in the list\n",
    "y = \n",
    "print(\"The list\",answer,\"contains x=\",x,\"and y=\",y)"
   ]
  },
  {
   "cell_type": "code",
   "execution_count": null,
   "metadata": {},
   "outputs": [],
   "source": [
    "#just get x\n",
    " = two_by_two_solver(a1 = 4.5, b1 = 3, a2 = 1.5,\n",
    "b2 = 3, c1 = 10.5, c2 = 7.5)[0]\n",
    "print(\"x =\",x)\n",
    "#assign variables to the output on the fly\n",
    " = two_by_two_solver(a1 = 4.5, b1 = 3, a2 = 1.5,\n",
    "    b2 = 3, c1 = 10.5, c2 = 7.5)\n",
    "print(\"x =\",x,\"y =\",x)"
   ]
  },
  {
   "cell_type": "markdown",
   "metadata": {},
   "source": [
    "## Docstrings and help\n",
    "\n",
    "We've already talked about docstrings quite a bit, but I really want you to use this feature whenever you're not sure how something works. \n",
    "\n",
    "This is a very useful feature of python (and the integration with notebooks makes it really easy to use), and extremely helpful when you are developing your own code that might be used by others, and if you want to use the code other have already written.  That big comment section at the top of the function is returned when the $\\texttt{help()}$ command is issued."
   ]
  },
  {
   "cell_type": "code",
   "execution_count": null,
   "metadata": {},
   "outputs": [],
   "source": []
  },
  {
   "cell_type": "markdown",
   "metadata": {},
   "source": [
    "## Think-Pair-Share: What do you think are useful things to put in a docstring? "
   ]
  },
  {
   "cell_type": "markdown",
   "metadata": {},
   "source": [
    "More examples from other modules...\n"
   ]
  },
  {
   "cell_type": "code",
   "execution_count": null,
   "metadata": {},
   "outputs": [],
   "source": [
    "import math\n",
    "help(math.fabs)"
   ]
  },
  {
   "cell_type": "code",
   "execution_count": null,
   "metadata": {},
   "outputs": [],
   "source": [
    "import random\n",
    "help(random.uniform)"
   ]
  },
  {
   "cell_type": "markdown",
   "metadata": {},
   "source": [
    "Numpy has a specific docstring format that is used widely in the scientific space. See [this documentation page](https://numpydoc.readthedocs.io/en/latest/format.html) if you're interested further (this is not required for this class). "
   ]
  },
  {
   "cell_type": "code",
   "execution_count": null,
   "metadata": {},
   "outputs": [],
   "source": [
    "import numpy\n",
    "help(numpy.array)"
   ]
  },
  {
   "cell_type": "markdown",
   "metadata": {},
   "source": [
    "## Scope\n",
    "\n",
    "Variables that we define are stored in memory, and the computer's memory is arranged into different sections based on scoping rules.  This is the way that order is maintained and access is controlled.  Functions have their own scope in memory - memory used by a function is separate from the memory used by the rest of the code.  The *outside world* is only connected to the function through the parameters that are passed to it.  Bottom line:  variables used by the function (including those passed to the function) are completely different than the variables outside the function. When a function is called, it creates its own copy of the variables that get passed to it."
   ]
  },
  {
   "cell_type": "code",
   "execution_count": null,
   "metadata": {},
   "outputs": [],
   "source": [
    "def scope_demonstration(input_variable):\n",
    "    x = input_variable*3\n",
    "    return x"
   ]
  },
  {
   "cell_type": "markdown",
   "metadata": {},
   "source": [
    "Let's first think about the x variable. We defined x outside of the function, but it will be used in the function. What do we think is going to happen? \n",
    "\n",
    "### Think-pair-share\n",
    "Do we expect `x` and `new_x` to be the same or different? "
   ]
  },
  {
   "cell_type": "code",
   "execution_count": null,
   "metadata": {},
   "outputs": [],
   "source": [
    "x = \"oui \"\n",
    "new_x = scope_demonstration(x)\n",
    "print(\"x =\",x,\"\\nnew_x =\",new_x)"
   ]
  },
  {
   "cell_type": "markdown",
   "metadata": {},
   "source": [
    "Ok. Now let's think about y. Will this function work if we pass something that isn't x to it? "
   ]
  },
  {
   "cell_type": "code",
   "execution_count": null,
   "metadata": {},
   "outputs": [],
   "source": [
    "y = \"no \"\n",
    "new_y = scope_demonstration(y)\n",
    "print(\"y =\",y,\"\\nnew_y =\",new_y)"
   ]
  },
  {
   "cell_type": "markdown",
   "metadata": {},
   "source": [
    "## Recursion\n",
    "\n",
    "Simple idea: a function can call itself.  This can be kinda cool...\n",
    "\n",
    "First is a factorial function calling itself (with recursion). "
   ]
  },
  {
   "cell_type": "code",
   "execution_count": null,
   "metadata": {},
   "outputs": [],
   "source": [
    "def factorial(n:int, prev=1) -> int:\n",
    "    if not((n==1) or (n==0)):\n",
    "        # FILL IN FUNCTION \n",
    "    elif n==0:\n",
    "        return 1\n",
    "    else:\n",
    "        return prev\n",
    " "
   ]
  },
  {
   "cell_type": "code",
   "execution_count": null,
   "metadata": {},
   "outputs": [],
   "source": [
    "def factorial_no_recursion(n):\n",
    "    output = 1\n",
    "    #can skip 1 because x*1 = 1\n",
    "    # FILL IN FUNCTION IN CLASS\n",
    "    #\n",
    "    return output"
   ]
  },
  {
   "cell_type": "code",
   "execution_count": null,
   "metadata": {},
   "outputs": [],
   "source": [
    "x = 12\n",
    "print(x,\"! =\",factorial_no_recursion(x))\n",
    "print(x,\"! =\",factorial(x))"
   ]
  },
  {
   "cell_type": "code",
   "execution_count": null,
   "metadata": {},
   "outputs": [],
   "source": [
    "import time\n",
    "tic = time.perf_counter()\n",
    "for times in range(10**5):\n",
    "    for n in range(21):\n",
    "        factorial_no_recursion(n)\n",
    "toc = time.perf_counter()\n",
    "print('CPU time for the no recursion version is',toc-tic,'seconds.')\n",
    "tic = time.perf_counter()\n",
    "for times in range(10**5):\n",
    "    for n in range(21):\n",
    "        factorial(n)\n",
    "toc = time.perf_counter()\n",
    "print('CPU time for the recursion version is',toc-tic,'seconds.')\n"
   ]
  },
  {
   "cell_type": "markdown",
   "metadata": {},
   "source": [
    "## Think-pair-share\n",
    "\n",
    "What do you think these times mean for how we choose to implement code?"
   ]
  },
  {
   "cell_type": "markdown",
   "metadata": {},
   "source": [
    "## Modules\n",
    "\n",
    "We are likely to need to define many functions and we don't want one giant source file, so we group our functions into modules that can then be imported from a module file.  "
   ]
  },
  {
   "cell_type": "code",
   "execution_count": null,
   "metadata": {},
   "outputs": [],
   "source": [
    "import sphere\n",
    "help(sphere)"
   ]
  },
  {
   "cell_type": "code",
   "execution_count": null,
   "metadata": {},
   "outputs": [],
   "source": [
    "r = 1.0\n",
    "# Now let's print some stuff from the functions we just imported. "
   ]
  },
  {
   "cell_type": "markdown",
   "metadata": {},
   "source": [
    "## Files"
   ]
  },
  {
   "cell_type": "markdown",
   "metadata": {},
   "source": [
    "Often we'll want to preferentially open and close files to read and write data. Let's take a look using `nuclear_reactors.txt`, which is a list of operating nuclear power plants in the US. Here I'll use a `for` loop to iterate through the file and read each line. "
   ]
  },
  {
   "cell_type": "code",
   "execution_count": null,
   "metadata": {},
   "outputs": [],
   "source": [
    "#open nuclear_reactors.txt for reading (’r’)\n",
    "file = #\n",
    "#\n",
    "#\n",
    "file.close()"
   ]
  },
  {
   "cell_type": "markdown",
   "metadata": {},
   "source": [
    "I can also read one line at a time. "
   ]
  },
  {
   "cell_type": "code",
   "execution_count": null,
   "metadata": {},
   "outputs": [],
   "source": [
    "#open nuclear_reactors.txt for reading (’r’)\n",
    "file = open('nuclear_reactors.txt', 'r')\n",
    "first_line = file.readline()\n",
    "second_line = file.readline()\n",
    "print(first_line)\n",
    "print(second_line)\n",
    "file.close()"
   ]
  },
  {
   "cell_type": "markdown",
   "metadata": {},
   "source": [
    "It is also possible to write to a file. We can open a file with the `open()` function. Once it is open, we can write to it much like we read from it -- line by line. \n",
    "\n",
    "\n",
    "### Think-pair-share: Look at the code below. What do you think the `\\n` is for? "
   ]
  },
  {
   "cell_type": "code",
   "execution_count": null,
   "metadata": {},
   "outputs": [],
   "source": [
    "#open hats.txt to write (clobber if it exists)\n",
    "writeFile = open(\"hats.txt\",\"w\")\n",
    "hats = [\"fedora\",\"trilby\",\"porkpie\",\"tam o’shanter\",\n",
    "        \"Phrygian cap\",\"Beefeaters’ hat\",\"sombrero\"]\n",
    "for hat in hats:\n",
    "    writeFile.write(hat + \"\\n\") #add the endline\n",
    "writeFile.close()\n",
    "#now open file and print\n",
    "readFile = open(\"hats.txt\",\"r\")\n",
    "for line in readFile:\n",
    "    print(line)"
   ]
  },
  {
   "cell_type": "code",
   "execution_count": null,
   "metadata": {},
   "outputs": [],
   "source": []
  }
 ],
 "metadata": {
  "kernelspec": {
   "display_name": "Python 3 (ipykernel)",
   "language": "python",
   "name": "python3"
  },
  "language_info": {
   "codemirror_mode": {
    "name": "ipython",
    "version": 3
   },
   "file_extension": ".py",
   "mimetype": "text/x-python",
   "name": "python",
   "nbconvert_exporter": "python",
   "pygments_lexer": "ipython3",
   "version": "3.13.2"
  }
 },
 "nbformat": 4,
 "nbformat_minor": 4
}
