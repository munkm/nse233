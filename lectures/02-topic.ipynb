{
 "cells": [
  {
   "cell_type": "markdown",
   "metadata": {},
   "source": [
    "# Lecture 2 - Functions, Scoping, Recursion, yada, yada, yada (Chapter 3)\n",
    "\n",
    "## Functions\n",
    "\n",
    "Functions make life easier, better: more robust code that is less prone to errors, and more useable.  \n",
    "\n",
    "Function = abstract version of a concrete set of steps. Goal: same code used for a lot of problems, rather than different code for each problem.  \n",
    "\n",
    "Example:  solve two simultaneous algebraic equations:\n",
    "\n",
    "$$ 4.5 x + 3y = 10.5 $$\n",
    "\n",
    "$$ 1.5 x + 3y = 7.5 $$"
   ]
  },
  {
   "cell_type": "code",
   "execution_count": 22,
   "metadata": {},
   "outputs": [
    {
     "name": "stdout",
     "output_type": "stream",
     "text": [
      "The solution to:\n",
      "4.5 x + 3 y = 10.5\n",
      "1.5 x + 3 y = 7.5\n",
      " is x = 1.0 y= 2.0\n"
     ]
    }
   ],
   "source": [
    "'''Python code to solve\n",
    "4.5 x + 3 y = 10.5\n",
    "1.5 x + 3 Y = 7.5\n",
    "by solving the second equation for y first,\n",
    "and then solving for x'''\n",
    "#step 1 solve for y, multiply equation 2 by\n",
    "#-3, and add to first equation\n",
    "LHS_coefficient = -3*3 + 3 #the coefficient for y\n",
    "RHS = -3*7.5 + 10.5 #the right-hand side\n",
    "#now divide right-hand side by left-hand side coefficient\n",
    "y = RHS / LHS_coefficient\n",
    "#plug y into first equation\n",
    "x = (10.5 - 3*y)/4.5\n",
    "#print the solution, note \\n produces a linebreak\n",
    "print(\"The solution to:\\n4.5 x + 3 y = 10.5\\n1.5 x + 3 y = 7.5\\n is x =\",x,\"y=\",y)"
   ]
  },
  {
   "cell_type": "markdown",
   "metadata": {},
   "source": [
    "Let's write a function for this instead that works for any two by two system:"
   ]
  },
  {
   "cell_type": "code",
   "execution_count": 23,
   "metadata": {},
   "outputs": [],
   "source": [
    "def two_by_two_solver(a1,b1,c1,a2,b2,c2, LOUD=False):\n",
    "    '''Calculate the solution of the system\n",
    "    a1 x + b1 y = c1,\n",
    "    a2 x + b2 y = c2\n",
    "    Args:\n",
    "        a1: x coefficient in first equation (cannot be zero)\n",
    "        b1: y coefficient in first equation\n",
    "        c1: right-hand side in first equation\n",
    "        a2: x coefficient in second equation\n",
    "        b2: y coefficient in second equation\n",
    "        c2: right-hand side in second equation\n",
    "        LOUD: boolean that decides whether to print out the answer   \n",
    "    Returns:\n",
    "        a list containing the solution in the format [x,y]'''\n",
    "    #step one, eliminate x from the second equation\n",
    "    #by multiplying first equation by -a2/a1\n",
    "    #and then adding it to second equation\n",
    "    new_b2 = b2 - a2/a1*b1\n",
    "    new_c2 = c2 - a2/a1*c1\n",
    "    #solve the new equation 2\n",
    "    y = new_c2/new_b2\n",
    "    #plug y into original equation 1\n",
    "    x = (c1-b1*y)/a1\n",
    "    if (LOUD):\n",
    "        print(\"The solution to:\\n\",a1,\"x +\",b1,\"y =\",c1,\"\\n\",a2,\"x +\",b2,\"y =\",c2,\"\\n is x =\",x,\"y=\",y)\n",
    "    return [x,y]"
   ]
  },
  {
   "cell_type": "code",
   "execution_count": 24,
   "metadata": {},
   "outputs": [
    {
     "name": "stdout",
     "output_type": "stream",
     "text": [
      "The solution to:\n",
      " 4.5 x + 3 y = 10.5 \n",
      " 1.5 x + 3 y = 7.5 \n",
      " is x = 1.0 y= 2.0\n"
     ]
    },
    {
     "data": {
      "text/plain": [
       "[1.0, 2.0]"
      ]
     },
     "execution_count": 24,
     "metadata": {},
     "output_type": "execute_result"
    }
   ],
   "source": [
    "two_by_two_solver(4.5,3,10.5,1.5,3,7.5,True)"
   ]
  },
  {
   "cell_type": "markdown",
   "metadata": {},
   "source": [
    "A couple of things: indention is crucial.  Notice that the everything under the $\\texttt{def}$ command is indented.  That's a big deal.  \n",
    "\n",
    "This function won't work when $a_1$ is zero, because we divide by it.  We could handle this though (pivoting... later...)\n"
   ]
  },
  {
   "cell_type": "markdown",
   "metadata": {},
   "source": [
    "## Calling functions and default arguments\n",
    "\n",
    "You can pass data into a function in any order, as long as you are explicit about what you are doing.  For example:"
   ]
  },
  {
   "cell_type": "code",
   "execution_count": 25,
   "metadata": {},
   "outputs": [
    {
     "name": "stdout",
     "output_type": "stream",
     "text": [
      "The solution to:\n",
      " 4.5 x + 3 y = 10.5 \n",
      " 1.5 x + 3 y = 7.5 \n",
      " is x = 1.0 y= 2.0\n"
     ]
    },
    {
     "data": {
      "text/plain": [
       "[1.0, 2.0]"
      ]
     },
     "execution_count": 25,
     "metadata": {},
     "output_type": "execute_result"
    }
   ],
   "source": [
    "two_by_two_solver(a1 = 4.5, b1 = 3, a2 = 1.5, b2 = 3,\n",
    "    c1 = 10.5, c2 = 7.5, LOUD = True)"
   ]
  },
  {
   "cell_type": "markdown",
   "metadata": {},
   "source": [
    "Also, in the function definition, we prescribed a default value of $\\texttt{LOUD}$, which means that if the function is called without $\\texttt{LOUD}$ in the list of arguments, it will still execute.\n",
    "\n",
    "Because the function has a return statement, whatever is returned can be assigned to a variable, or we can do whatever we want with it...\n"
   ]
  },
  {
   "cell_type": "code",
   "execution_count": 27,
   "metadata": {},
   "outputs": [
    {
     "name": "stdout",
     "output_type": "stream",
     "text": [
      "The list [1.0, 2.0] contains 1.0 and 2.0\n"
     ]
    }
   ],
   "source": [
    "answer = two_by_two_solver(a1 = 4.5, b1 = 3,\n",
    "    a2 = 1.5, b2 = 3,\n",
    "    c1 = 10.5, c2 = 7.5)\n",
    "#store in the variable x the first value in the list\n",
    "x = answer[0]\n",
    "#store in the variable y the first value in the list\n",
    "y = answer[1]\n",
    "print(\"The list\",answer,\"contains\",x,\"and\",y)"
   ]
  },
  {
   "cell_type": "code",
   "execution_count": 28,
   "metadata": {},
   "outputs": [
    {
     "name": "stdout",
     "output_type": "stream",
     "text": [
      "x = 1.0\n",
      "x = 1.0 y = 1.0\n"
     ]
    }
   ],
   "source": [
    "#just get x\n",
    "x = two_by_two_solver(a1 = 4.5, b1 = 3, a2 = 1.5,\n",
    "b2 = 3, c1 = 10.5, c2 = 7.5)[0]\n",
    "print(\"x =\",x)\n",
    "#assign variables to the output on the fly\n",
    "x,y = two_by_two_solver(a1 = 4.5, b1 = 3, a2 = 1.5,\n",
    "    b2 = 3, c1 = 10.5, c2 = 7.5)\n",
    "print(\"x =\",x,\"y =\",x)"
   ]
  },
  {
   "cell_type": "markdown",
   "metadata": {},
   "source": [
    "## Docstrings and help\n",
    "\n",
    "This is a very useful feature of python, and extremely helpful when you are developing your own code that might be used by others, and if you want to use the code other have already written.  That big comment section at the top of the function is returned when the $\\textt{help} command is issued."
   ]
  },
  {
   "cell_type": "code",
   "execution_count": 29,
   "metadata": {},
   "outputs": [
    {
     "name": "stdout",
     "output_type": "stream",
     "text": [
      "Help on function two_by_two_solver in module __main__:\n",
      "\n",
      "two_by_two_solver(a1, b1, c1, a2, b2, c2, LOUD=False)\n",
      "    Calculate the solution of the system\n",
      "    a1 x + b1 y = c1,\n",
      "    a2 x + b2 y = c2\n",
      "    Args:\n",
      "        a1: x coefficient in first equation (cannot be zero)\n",
      "        b1: y coefficient in first equation\n",
      "        c1: right-hand side in first equation\n",
      "        a2: x coefficient in second equation\n",
      "        b2: y coefficient in second equation\n",
      "        c2: right-hand side in second equation\n",
      "        LOUD: boolean that decides whether to print out the answer   \n",
      "    Returns:\n",
      "        a list containing the solution in the format [x,y]\n",
      "\n"
     ]
    }
   ],
   "source": [
    "help(two_by_two_solver)"
   ]
  },
  {
   "cell_type": "markdown",
   "metadata": {},
   "source": [
    "More examples from other modules...\n"
   ]
  },
  {
   "cell_type": "code",
   "execution_count": 30,
   "metadata": {},
   "outputs": [
    {
     "name": "stdout",
     "output_type": "stream",
     "text": [
      "Help on built-in function fabs in module math:\n",
      "\n",
      "fabs(x, /)\n",
      "    Return the absolute value of the float x.\n",
      "\n"
     ]
    }
   ],
   "source": [
    "import math\n",
    "help(math.fabs)"
   ]
  },
  {
   "cell_type": "code",
   "execution_count": 31,
   "metadata": {},
   "outputs": [
    {
     "name": "stdout",
     "output_type": "stream",
     "text": [
      "Help on method uniform in module random:\n",
      "\n",
      "uniform(a, b) method of random.Random instance\n",
      "    Get a random number in the range [a, b) or [a, b] depending on rounding.\n",
      "\n"
     ]
    }
   ],
   "source": [
    "import random\n",
    "help(random.uniform)"
   ]
  },
  {
   "cell_type": "markdown",
   "metadata": {},
   "source": [
    "## Scope\n",
    "\n",
    "Variables that we define are stored in memory, and the computer's memory is arranged into different sections based on scoping rules.  This is the way that order is maintained and access is controlled.  Functions have their own scope in memory - memory used by a function is separate from the memory used by the rest of the code.  The *outside world* is only connected to the function through the parameters that are passed to it.  Bottom line:  variables used by the function (including those passed to the function) are completely different than the variables outside the function. When a functionis called, it creates its own copy of the variables that get passed to it."
   ]
  },
  {
   "cell_type": "code",
   "execution_count": 34,
   "metadata": {},
   "outputs": [
    {
     "name": "stdout",
     "output_type": "stream",
     "text": [
      "x = oui  \n",
      "new_x = oui oui oui \n",
      "y = no  \n",
      "new_y = no no no \n"
     ]
    }
   ],
   "source": [
    "def scope_demonstration(input_variable):\n",
    "    x = input_variable*3\n",
    "    return x\n",
    "#now call the function after defining some variables\n",
    "x = \"oui \"\n",
    "y = \"no \"\n",
    "new_x = scope_demonstration(x)\n",
    "new_y = scope_demonstration(y)\n",
    "print(\"x =\",x,\"\\nnew_x =\",new_x)\n",
    "print(\"y =\",y,\"\\nnew_y =\",new_y)"
   ]
  },
  {
   "cell_type": "markdown",
   "metadata": {},
   "source": [
    "## Recursion\n",
    "\n",
    "Simple idea: a function can call itself.  This can be kinda cool...\n"
   ]
  },
  {
   "cell_type": "code",
   "execution_count": 35,
   "metadata": {},
   "outputs": [],
   "source": [
    "def factorial(n:int, prev=1) -> int:\n",
    "    if not((n==1) or (n==0)):\n",
    "        prev = n*factorial(n-1,prev)\n",
    "        return prev\n",
    "    elif n==0:\n",
    "        return 1\n",
    "    else:\n",
    "        return prev\n",
    " "
   ]
  },
  {
   "cell_type": "code",
   "execution_count": 36,
   "metadata": {},
   "outputs": [],
   "source": [
    "def factorial_no_recursion(n):\n",
    "    output = 1\n",
    "    #can skip 1 because x*1 = 1\n",
    "    for i in range(2,n+1):\n",
    "        output *= i\n",
    "    return output"
   ]
  },
  {
   "cell_type": "code",
   "execution_count": 37,
   "metadata": {},
   "outputs": [
    {
     "name": "stdout",
     "output_type": "stream",
     "text": [
      "12 ! = 479001600\n",
      "12 ! = 479001600\n"
     ]
    }
   ],
   "source": [
    "x = 12\n",
    "print(x,\"! =\",factorial_no_recursion(x))\n",
    "print(x,\"! =\",factorial(x))"
   ]
  },
  {
   "cell_type": "code",
   "execution_count": 39,
   "metadata": {},
   "outputs": [
    {
     "name": "stdout",
     "output_type": "stream",
     "text": [
      "CPU time for the no recursion version is 1.9296145139996952 seconds.\n",
      "CPU time for the recursion version is 4.001151341999503 seconds.\n"
     ]
    }
   ],
   "source": [
    "import time\n",
    "tic = time.perf_counter()\n",
    "for times in range(10**5):\n",
    "    for n in range(21):\n",
    "        factorial_no_recursion(n)\n",
    "toc = time.perf_counter()\n",
    "print('CPU time for the no recursion version is',toc-tic,'seconds.')\n",
    "tic = time.perf_counter()\n",
    "for times in range(10**5):\n",
    "    for n in range(21):\n",
    "        factorial(n)\n",
    "toc = time.perf_counter()\n",
    "print('CPU time for the recursion version is',toc-tic,'seconds.')\n"
   ]
  },
  {
   "cell_type": "markdown",
   "metadata": {},
   "source": [
    "## Modules\n",
    "\n",
    "We are likely to need to define many functions and we don't want one giant source file, so we group our functions into modules that can then be imported from a module file.  "
   ]
  },
  {
   "cell_type": "code",
   "execution_count": 40,
   "metadata": {},
   "outputs": [
    {
     "name": "stdout",
     "output_type": "stream",
     "text": [
      "Help on module sphere:\n",
      "\n",
      "NAME\n",
      "    sphere\n",
      "\n",
      "FUNCTIONS\n",
      "    surface_area(radius)\n",
      "        compute surface area of a sphere\n",
      "        Args:\n",
      "            radius: float giving the radius of the sphere\n",
      "        Returns:\n",
      "            surface area of the sphere as a float\n",
      "    \n",
      "    volume(radius)\n",
      "        compute volume of a sphere\n",
      "        Args:\n",
      "            radius: float giving the radius of the sphere\n",
      "        Returns:\n",
      "            volume of the sphere as a float\n",
      "\n",
      "FILE\n",
      "    /Users/palmerts/Documents/NSE 233/sphere.py\n",
      "\n",
      "\n"
     ]
    }
   ],
   "source": [
    "import sphere\n",
    "help(sphere)"
   ]
  },
  {
   "cell_type": "code",
   "execution_count": 41,
   "metadata": {},
   "outputs": [
    {
     "name": "stdout",
     "output_type": "stream",
     "text": [
      "The volume of a sphere of radius 1.0 cm is 4.1887902047863905 cm**3\n",
      "The surface area of a sphere of radius 1.0 cm is 12.566370614359172 cm**2\n"
     ]
    }
   ],
   "source": [
    "r = 1.0\n",
    "print(\"The volume of a sphere of radius\",r,\"cm is\",\n",
    "      sphere.volume(r),\"cm**3\")\n",
    "print(\"The surface area of a sphere of radius\",r,\"cm is\",\n",
    "      sphere.surface_area(r),\"cm**2\")"
   ]
  },
  {
   "cell_type": "markdown",
   "metadata": {},
   "source": [
    "## Files"
   ]
  },
  {
   "cell_type": "code",
   "execution_count": 42,
   "metadata": {},
   "outputs": [
    {
     "name": "stdout",
     "output_type": "stream",
     "text": [
      "Rush\n",
      "\n",
      "Fly By Night\n",
      "\n",
      "Caress of Steel\n",
      "\n",
      "2112\n",
      "\n",
      "Farewell to Kings\n",
      "\n",
      "Hemispheres\n",
      "\n",
      "Permanent Waves\n",
      "\n",
      "Moving Pictures\n",
      "\n",
      "Signals\n",
      "\n",
      "Grace Under Pressure\n",
      "\n",
      "Power Windows\n",
      "\n",
      "Hold Your Fire\n",
      "\n",
      "Presto\n",
      "\n",
      "Roll the Bones\n",
      "\n",
      "Counterparts\n",
      "\n",
      "Test for Echo\n",
      "\n",
      "Vapor Trails\n",
      "\n",
      "Feedback\n",
      "\n",
      "Snakes and Arrows\n",
      "\n",
      "Clockwork Angels\n",
      "\n",
      "\n",
      "\n"
     ]
    }
   ],
   "source": [
    "#open rush-studio-albums.txt for reading (’r’)\n",
    "file = open('rush-studio-albums.txt', 'r')\n",
    "for line in file:\n",
    "    print(line)\n",
    "file.close()"
   ]
  },
  {
   "cell_type": "code",
   "execution_count": 43,
   "metadata": {},
   "outputs": [
    {
     "name": "stdout",
     "output_type": "stream",
     "text": [
      "Rush\n",
      "\n",
      "Fly By Night\n",
      "\n"
     ]
    }
   ],
   "source": [
    "#open rush-studio-albums.txt for reading (’r’)\n",
    "file = open('rush-studio-albums.txt', 'r')\n",
    "first_line = file.readline()\n",
    "second_line = file.readline()\n",
    "print(first_line)\n",
    "print(second_line)\n",
    "file.close()"
   ]
  },
  {
   "cell_type": "code",
   "execution_count": 44,
   "metadata": {},
   "outputs": [
    {
     "name": "stdout",
     "output_type": "stream",
     "text": [
      "fedora\n",
      "\n",
      "trilby\n",
      "\n",
      "porkpie\n",
      "\n",
      "tam o’shanter\n",
      "\n",
      "Phrygian cap\n",
      "\n",
      "Beefeaters’ hat\n",
      "\n",
      "sombrero\n",
      "\n"
     ]
    }
   ],
   "source": [
    "#open hats.txt to write (clobber if it exists)\n",
    "writeFile = open(\"hats.txt\",\"w\")\n",
    "hats = [\"fedora\",\"trilby\",\"porkpie\",\"tam o’shanter\",\n",
    "        \"Phrygian cap\",\"Beefeaters’ hat\",\"sombrero\"]\n",
    "for hat in hats:\n",
    "    writeFile.write(hat + \"\\n\") #add the endline\n",
    "writeFile.close()\n",
    "#now open file and print\n",
    "readFile = open(\"hats.txt\",\"r\")\n",
    "for line in readFile:\n",
    "    print(line)"
   ]
  },
  {
   "cell_type": "code",
   "execution_count": null,
   "metadata": {},
   "outputs": [],
   "source": []
  }
 ],
 "metadata": {
  "kernelspec": {
   "display_name": "Python 3 (ipykernel)",
   "language": "python",
   "name": "python3"
  },
  "language_info": {
   "codemirror_mode": {
    "name": "ipython",
    "version": 3
   },
   "file_extension": ".py",
   "mimetype": "text/x-python",
   "name": "python",
   "nbconvert_exporter": "python",
   "pygments_lexer": "ipython3",
   "version": "3.13.2"
  }
 },
 "nbformat": 4,
 "nbformat_minor": 4
}
