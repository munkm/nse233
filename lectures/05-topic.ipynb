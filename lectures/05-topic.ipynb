{
 "cells": [
  {
   "cell_type": "markdown",
   "metadata": {},
   "source": [
    "# Lecture 5 - Testing and Debugging (Chapter 6, McClarren)\n",
    "\n",
    "## Testing Your Code\n",
    "\n",
    "It is on you, the code writer, to ensure that your code accomplishes the desired task, and over a range of possible applications.  Robust code is good code.\n",
    "\n",
    "Testing is necessary when\n",
    "1. The code will be used by somebody else;\n",
    "2. The code will be used to be input for another piece of code (e.g., a function that calls\n",
    "another function);\n",
    "3. The code will be used to make a decisions, or\n",
    "4. The code will be turned in as a class assignment.\n",
    "\n",
    "As an example of the importance of testing, suppose we develop a code that calculates the multiplication factor for the simple case of a bare, homogeneous, one-group multiplying medium:\n",
    "\n",
    "$$k_{eff} = k_{\\infty} \\frac{1}{1+L^2 B_g^2} $$\n",
    "\n",
    "where \n",
    "\n",
    "$$ k_{\\infty} = \\frac{\\nu \\Sigma_f}{\\Sigma_a} ,$$\n",
    "\n",
    "and\n",
    "\n",
    "$$ L^2 = \\frac{D}{\\Sigma_a}, $$\n",
    "\n",
    "and if the reactor is a slab, then\n",
    "\n",
    "$$ B_g^2 = {\\left(\\frac{\\pi}{X}\\right)}^2 . $$\n"
   ]
  },
  {
   "cell_type": "code",
   "execution_count": 1,
   "metadata": {},
   "outputs": [],
   "source": [
    "import matplotlib.pyplot as plt\n",
    "import numpy as np\n",
    "def k_effective(slab_length, nuSigma_f, Sigma_a, Diff_coef):\n",
    "    \"\"\" Computes the eigenvalue (k-effective) for a slab reactor\n",
    "    Args:\n",
    "        slab_length: the length of the slab\n",
    "        nuSigma_f: value of nu * the macro. fission x-section\n",
    "        Sigma_a: value of the macro. absorption x-section\n",
    "        Diff_coef: the diffusion coefficient\n",
    "    Returns:\n",
    "        The value of k-effective\n",
    "    \"\"\"\n",
    "    import numpy as np\n",
    "    k_infinity = nuSigma_f / Sigma_a #k-infinity\n",
    "    L = Diff_coef/Sigma_a #Diffusion length\n",
    "    B = np.pi/slab_length #geometric buckling.\n",
    "    k = k_infinity/(1+L**2 * B**2)\n",
    "    return k"
   ]
  },
  {
   "cell_type": "code",
   "execution_count": 2,
   "metadata": {},
   "outputs": [
    {
     "data": {
      "image/png": "[encoded data removed]",
      "text/plain": [
       "<Figure size 432x288 with 1 Axes>"
      ]
     },
     "metadata": {
      "needs_background": "light"
     },
     "output_type": "display_data"
    }
   ],
   "source": [
    "#20 points from 10^0 to 10^3\n",
    "lengths = np.logspace(0,3,20)\n",
    "nuSigma_f = 1.1\n",
    "Sigma_a = 1.0\n",
    "Diff_coef = 1.0\n",
    "k_vector = k_effective(lengths, nuSigma_f,\n",
    "                       Sigma_a, Diff_coef)\n",
    "plt.semilogx(lengths,k_vector,\"o-\")\n",
    "plt.semilogx(lengths,nuSigma_f/Sigma_a*np.ones(20))\n",
    "plt.xlabel(\"Slab Width (cm)\")\n",
    "plt.ylabel(\"$k_\\mathrm{eff}$\")\n",
    "plt.show()"
   ]
  },
  {
   "cell_type": "code",
   "execution_count": 3,
   "metadata": {},
   "outputs": [
    {
     "name": "stdout",
     "output_type": "stream",
     "text": [
      "The test passed, k = 0.5\n"
     ]
    }
   ],
   "source": [
    "test_k = k_effective(slab_length = np.pi, nuSigma_f = 1,\n",
    "Sigma_a = 1, Diff_coef = 1)\n",
    "if np.fabs(test_k - 0.5) < 1.0e-8:\n",
    "    print(\"The test passed, k =\",test_k)\n",
    "else:\n",
    "    print(\"Test failed, you should probably\",\n",
    "          \"fix the code, k =\", test_k)"
   ]
  },
  {
   "cell_type": "markdown",
   "metadata": {},
   "source": [
    "Try again, different problem..."
   ]
  },
  {
   "cell_type": "code",
   "execution_count": 4,
   "metadata": {},
   "outputs": [
    {
     "name": "stdout",
     "output_type": "stream",
     "text": [
      "Test failed, you should probably fix the code, k = 0.2\n"
     ]
    }
   ],
   "source": [
    "test_k = k_effective(slab_length = np.pi, nuSigma_f = 1,\n",
    "Sigma_a = 1, Diff_coef = 2)\n",
    "kinf = 1.0\n",
    "if np.fabs(test_k - 1.0/3.0) < 1.0e-8:\n",
    "    print(\"The test passed, k =\",test_k)\n",
    "else:\n",
    "    print(\"Test failed, you should probably\",\n",
    "          \"fix the code, k =\", test_k)"
   ]
  },
  {
   "cell_type": "markdown",
   "metadata": {},
   "source": [
    "Hmmm....  There's something wrong here.  This is a _covert_ bug (found only through testing...).  "
   ]
  },
  {
   "cell_type": "markdown",
   "metadata": {},
   "source": [
    "## Debugging\n",
    "\n",
    "Our existing code has a bug.  Here is the fixed code - it's hard to see what was wrong in the initial version:"
   ]
  },
  {
   "cell_type": "code",
   "execution_count": 5,
   "metadata": {},
   "outputs": [],
   "source": [
    "import numpy as np\n",
    "def k_effective(slab_length, nuSigma_f, Sigma_a, Diff_coef):\n",
    "    \"\"\" Computes the eigenvalue (k-effective) for a slab reactor\n",
    "    Args:\n",
    "        slab_length: the length of the slab\n",
    "        nuSigma_f: value of nu * the macro. fission x-section\n",
    "        Sigma_a: value of the macro. absorption x-section\n",
    "        Diff_coef: the diffusion coefficient\n",
    "    Returns:\n",
    "        The value of k-effective\n",
    "    \"\"\"\n",
    "    k_infinity = nuSigma_f / Sigma_a #k-infinity\n",
    "    L2 = Diff_coef/Sigma_a #Diffusion length\n",
    "    B = np.pi/slab_length #geometric buckling.\n",
    "    k = k_infinity/(1+L2 * B**2)\n",
    "    return k"
   ]
  },
  {
   "cell_type": "code",
   "execution_count": 6,
   "metadata": {},
   "outputs": [
    {
     "name": "stdout",
     "output_type": "stream",
     "text": [
      "The test passed, k = 0.3333333333333333\n"
     ]
    }
   ],
   "source": [
    "test_k = k_effective(slab_length = np.pi, nuSigma_f = 1,\n",
    "Sigma_a = 1, Diff_coef = 2)\n",
    "kinf = 1.0\n",
    "if np.fabs(test_k - 1.0/3.0) < 1.0e-8:\n",
    "    print(\"The test passed, k =\",test_k)\n",
    "else:\n",
    "    print(\"Test failed, you should probably\",\n",
    "          \"fix the code, k =\", test_k)"
   ]
  },
  {
   "cell_type": "markdown",
   "metadata": {},
   "source": [
    "## What do we learn about debugging through this example?\n",
    "\n",
    "1. One test is generally not sufficient to find bugs.\n",
    "2. Debugging is a mindset.  You need to think critically about what the code is supposed to be doing, what the value of each variable is after each executable statement and what it _should_ be.\n",
    "3. Comments can be very important because the _intent_ of the code can be documented by the developer.\n",
    "\n",
    "There is no simple recipe for debugging.  Experience is very valuable, because errors made in code often repeat.  The value of experience becomes apparent when a novice programmer presents code with an error to an instructor or another expert. Sometimes without even looking at the code, the expert can identify the problem based on the described behavior. Such an occurrence can cause the novice programmer to despair that he or she “will never be that good”, or some other self-defeating watchword. Typically, the expert can diagnose the problem so quickly\n",
    "because of that expert’s past mistakes.\n",
    "\n",
    "## Useful questions to ask in debugging:\n",
    "\n",
    "1. How is the code failing?\n",
    "2. What is the code doing correctly?\n",
    "3. What pieces of the code are most likely to have an error?\n",
    "\n",
    "Your best tool for debugging will be the print() statement.  For example, if there is a mistake in a formula you could print out the result and compare it with a hand calculation.\n",
    "\n",
    "Other tools can be used, including a built-in debugger.  Debuggers allow you to set breakpoints and then to observe the value of different variables, and watch how they change as the code executes.  \n",
    "\n",
    "## Assertions\n",
    "\n",
    "With the $\\texttt{assert}$ statement, you can check assumptions that are embedded in your code. The\n",
    "assert statement takes an expression as input. If the expression evaluates to true, then the\n",
    "assert does nothing. However, if the expression evaluates to false, an error is thrown and\n",
    "the code stops executing.\n",
    "\n"
   ]
  },
  {
   "cell_type": "code",
   "execution_count": 7,
   "metadata": {},
   "outputs": [
    {
     "name": "stdout",
     "output_type": "stream",
     "text": [
      "With negative Sigma_a, k = -1.0\n"
     ]
    }
   ],
   "source": [
    "test_k = k_effective(slab_length = np.pi, nuSigma_f = 1,\n",
    "                     Sigma_a = -2, Diff_coef = 1)\n",
    "print(\"With negative Sigma_a, k =\", test_k)"
   ]
  },
  {
   "cell_type": "code",
   "execution_count": 8,
   "metadata": {},
   "outputs": [
    {
     "ename": "ZeroDivisionError",
     "evalue": "float division by zero",
     "output_type": "error",
     "traceback": [
      "\u001b[0;31m---------------------------------------------------------------------------\u001b[0m",
      "\u001b[0;31mZeroDivisionError\u001b[0m                         Traceback (most recent call last)",
      "\u001b[0;32m<ipython-input-8-e1aafea3f599>\u001b[0m in \u001b[0;36m<module>\u001b[0;34m\u001b[0m\n\u001b[0;32m----> 1\u001b[0;31m test_k = k_effective(slab_length = np.pi, nuSigma_f = 1,\n\u001b[0m\u001b[1;32m      2\u001b[0m                      Sigma_a = -1, Diff_coef = 1)\n\u001b[1;32m      3\u001b[0m \u001b[0mprint\u001b[0m\u001b[0;34m(\u001b[0m\u001b[0;34m\"With negative Sigma_a, k =\"\u001b[0m\u001b[0;34m,\u001b[0m \u001b[0mtest_k\u001b[0m\u001b[0;34m)\u001b[0m\u001b[0;34m\u001b[0m\u001b[0;34m\u001b[0m\u001b[0m\n",
      "\u001b[0;32m<ipython-input-5-2a23e4edcb89>\u001b[0m in \u001b[0;36mk_effective\u001b[0;34m(slab_length, nuSigma_f, Sigma_a, Diff_coef)\u001b[0m\n\u001b[1;32m     13\u001b[0m     \u001b[0mL2\u001b[0m \u001b[0;34m=\u001b[0m \u001b[0mDiff_coef\u001b[0m\u001b[0;34m/\u001b[0m\u001b[0mSigma_a\u001b[0m \u001b[0;31m#Diffusion length\u001b[0m\u001b[0;34m\u001b[0m\u001b[0;34m\u001b[0m\u001b[0m\n\u001b[1;32m     14\u001b[0m     \u001b[0mB\u001b[0m \u001b[0;34m=\u001b[0m \u001b[0mnp\u001b[0m\u001b[0;34m.\u001b[0m\u001b[0mpi\u001b[0m\u001b[0;34m/\u001b[0m\u001b[0mslab_length\u001b[0m \u001b[0;31m#geometric buckling.\u001b[0m\u001b[0;34m\u001b[0m\u001b[0;34m\u001b[0m\u001b[0m\n\u001b[0;32m---> 15\u001b[0;31m     \u001b[0mk\u001b[0m \u001b[0;34m=\u001b[0m \u001b[0mk_infinity\u001b[0m\u001b[0;34m/\u001b[0m\u001b[0;34m(\u001b[0m\u001b[0;36m1\u001b[0m\u001b[0;34m+\u001b[0m\u001b[0mL2\u001b[0m \u001b[0;34m*\u001b[0m \u001b[0mB\u001b[0m\u001b[0;34m**\u001b[0m\u001b[0;36m2\u001b[0m\u001b[0;34m)\u001b[0m\u001b[0;34m\u001b[0m\u001b[0;34m\u001b[0m\u001b[0m\n\u001b[0m\u001b[1;32m     16\u001b[0m     \u001b[0;32mreturn\u001b[0m \u001b[0mk\u001b[0m\u001b[0;34m\u001b[0m\u001b[0;34m\u001b[0m\u001b[0m\n",
      "\u001b[0;31mZeroDivisionError\u001b[0m: float division by zero"
     ]
    }
   ],
   "source": [
    "test_k = k_effective(slab_length = np.pi, nuSigma_f = 1,\n",
    "                     Sigma_a = -1, Diff_coef = 1)\n",
    "print(\"With negative Sigma_a, k =\", test_k)"
   ]
  },
  {
   "cell_type": "code",
   "execution_count": 9,
   "metadata": {},
   "outputs": [],
   "source": [
    "import numpy as np\n",
    "def k_effective(slab_length, nuSigma_f, Sigma_a, Diff_coef):\n",
    "    assert (slab_length > 0)\n",
    "    assert (nuSigma_f > 0)\n",
    "    assert (Sigma_a > 0)\n",
    "    assert (Diff_coef > 0)\n",
    "    k_infinity = nuSigma_f / Sigma_a #k-infinity\n",
    "    L2 = Diff_coef/Sigma_a #Diffusion length\n",
    "    B = np.pi/slab_length #geometric buckling.\n",
    "    k = k_infinity/(1+L2 * B**2)\n",
    "    return k"
   ]
  },
  {
   "cell_type": "code",
   "execution_count": 10,
   "metadata": {},
   "outputs": [
    {
     "ename": "AssertionError",
     "evalue": "",
     "output_type": "error",
     "traceback": [
      "\u001b[0;31m---------------------------------------------------------------------------\u001b[0m",
      "\u001b[0;31mAssertionError\u001b[0m                            Traceback (most recent call last)",
      "\u001b[0;32m<ipython-input-10-e1aafea3f599>\u001b[0m in \u001b[0;36m<module>\u001b[0;34m\u001b[0m\n\u001b[0;32m----> 1\u001b[0;31m test_k = k_effective(slab_length = np.pi, nuSigma_f = 1,\n\u001b[0m\u001b[1;32m      2\u001b[0m                      Sigma_a = -1, Diff_coef = 1)\n\u001b[1;32m      3\u001b[0m \u001b[0mprint\u001b[0m\u001b[0;34m(\u001b[0m\u001b[0;34m\"With negative Sigma_a, k =\"\u001b[0m\u001b[0;34m,\u001b[0m \u001b[0mtest_k\u001b[0m\u001b[0;34m)\u001b[0m\u001b[0;34m\u001b[0m\u001b[0;34m\u001b[0m\u001b[0m\n",
      "\u001b[0;32m<ipython-input-9-78c178ef4e73>\u001b[0m in \u001b[0;36mk_effective\u001b[0;34m(slab_length, nuSigma_f, Sigma_a, Diff_coef)\u001b[0m\n\u001b[1;32m      3\u001b[0m     \u001b[0;32massert\u001b[0m \u001b[0;34m(\u001b[0m\u001b[0mslab_length\u001b[0m \u001b[0;34m>\u001b[0m \u001b[0;36m0\u001b[0m\u001b[0;34m)\u001b[0m\u001b[0;34m\u001b[0m\u001b[0;34m\u001b[0m\u001b[0m\n\u001b[1;32m      4\u001b[0m     \u001b[0;32massert\u001b[0m \u001b[0;34m(\u001b[0m\u001b[0mnuSigma_f\u001b[0m \u001b[0;34m>\u001b[0m \u001b[0;36m0\u001b[0m\u001b[0;34m)\u001b[0m\u001b[0;34m\u001b[0m\u001b[0;34m\u001b[0m\u001b[0m\n\u001b[0;32m----> 5\u001b[0;31m     \u001b[0;32massert\u001b[0m \u001b[0;34m(\u001b[0m\u001b[0mSigma_a\u001b[0m \u001b[0;34m>\u001b[0m \u001b[0;36m0\u001b[0m\u001b[0;34m)\u001b[0m\u001b[0;34m\u001b[0m\u001b[0;34m\u001b[0m\u001b[0m\n\u001b[0m\u001b[1;32m      6\u001b[0m     \u001b[0;32massert\u001b[0m \u001b[0;34m(\u001b[0m\u001b[0mDiff_coef\u001b[0m \u001b[0;34m>\u001b[0m \u001b[0;36m0\u001b[0m\u001b[0;34m)\u001b[0m\u001b[0;34m\u001b[0m\u001b[0;34m\u001b[0m\u001b[0m\n\u001b[1;32m      7\u001b[0m     \u001b[0mk_infinity\u001b[0m \u001b[0;34m=\u001b[0m \u001b[0mnuSigma_f\u001b[0m \u001b[0;34m/\u001b[0m \u001b[0mSigma_a\u001b[0m \u001b[0;31m#k-infinity\u001b[0m\u001b[0;34m\u001b[0m\u001b[0;34m\u001b[0m\u001b[0m\n",
      "\u001b[0;31mAssertionError\u001b[0m: "
     ]
    }
   ],
   "source": [
    "test_k = k_effective(slab_length = np.pi, nuSigma_f = 1,\n",
    "                     Sigma_a = -1, Diff_coef = 1)\n",
    "print(\"With negative Sigma_a, k =\", test_k)"
   ]
  },
  {
   "cell_type": "code",
   "execution_count": 11,
   "metadata": {},
   "outputs": [],
   "source": [
    "import numpy as np\n",
    "def k_effective(slab_length, nuSigma_f, Sigma_a, Diff_coef):\n",
    "    assert (slab_length > 0)\n",
    "    assert (nuSigma_f > 0)\n",
    "    assert (Sigma_a > 0)\n",
    "    assert (Diff_coef > 0)\n",
    "    k_infinity = nuSigma_f / Sigma_a #k-infinity\n",
    "    L2 = Diff_coef/Sigma_a #Diffusion length\n",
    "    B = np.pi/slab_length #geometric buckling.\n",
    "    k = k_infinity/(1+L2 * B**2)\n",
    "    assert k >= 0\n",
    "    assert k <= k_infinity\n",
    "    return k"
   ]
  },
  {
   "cell_type": "markdown",
   "metadata": {},
   "source": [
    "## Error Handling\n",
    "\n",
    "There are times when you want to handle an error so that either the program can continue\n",
    "or print a useful error message before exiting. Error handling can make debugging and finding errors in code easier. Additionally, we can use error handling to help us execute tests of our code.  \n",
    "\n",
    "Error handling is also called exception handling.  We can place some code in a special block of code called a $\\texttt{try}$ block. \n",
    "\n",
    "We'll consider a specific example: a ZeroDivisionError.  Let's see what it looks like:\n"
   ]
  },
  {
   "cell_type": "code",
   "execution_count": 12,
   "metadata": {},
   "outputs": [
    {
     "ename": "ZeroDivisionError",
     "evalue": "float division by zero",
     "output_type": "error",
     "traceback": [
      "\u001b[0;31m---------------------------------------------------------------------------\u001b[0m",
      "\u001b[0;31mZeroDivisionError\u001b[0m                         Traceback (most recent call last)",
      "\u001b[0;32m<ipython-input-12-7351058cd412>\u001b[0m in \u001b[0;36m<module>\u001b[0;34m\u001b[0m\n\u001b[0;32m----> 1\u001b[0;31m \u001b[0mz\u001b[0m \u001b[0;34m=\u001b[0m \u001b[0;36m10.5\u001b[0m\u001b[0;34m/\u001b[0m\u001b[0;36m0\u001b[0m\u001b[0;34m\u001b[0m\u001b[0;34m\u001b[0m\u001b[0m\n\u001b[0m",
      "\u001b[0;31mZeroDivisionError\u001b[0m: float division by zero"
     ]
    }
   ],
   "source": [
    "z = 10.5/0"
   ]
  },
  {
   "cell_type": "markdown",
   "metadata": {},
   "source": [
    "This is an \"uncaught\" exception, and the code stops.  Let's try to catch it so the code can proceed...\n"
   ]
  },
  {
   "cell_type": "code",
   "execution_count": 13,
   "metadata": {},
   "outputs": [
    {
     "name": "stdout",
     "output_type": "stream",
     "text": [
      "You cannot divide by 0\n"
     ]
    }
   ],
   "source": [
    "try:\n",
    "    z = 10.5/0\n",
    "except ZeroDivisionError:\n",
    "    print(\"You cannot divide by 0\")"
   ]
  },
  {
   "cell_type": "markdown",
   "metadata": {},
   "source": [
    "Sometimes you want to continue on after catching an exception, other times you want to print a useful error message and then terminate execution."
   ]
  },
  {
   "cell_type": "code",
   "execution_count": 14,
   "metadata": {},
   "outputs": [
    {
     "name": "stdout",
     "output_type": "stream",
     "text": [
      "You cannot divide by 0, exiting\n"
     ]
    },
    {
     "ename": "ZeroDivisionError",
     "evalue": "float division by zero",
     "output_type": "error",
     "traceback": [
      "\u001b[0;31m---------------------------------------------------------------------------\u001b[0m",
      "\u001b[0;31mZeroDivisionError\u001b[0m                         Traceback (most recent call last)",
      "\u001b[0;32m<ipython-input-14-38290ba276f6>\u001b[0m in \u001b[0;36m<module>\u001b[0;34m\u001b[0m\n\u001b[1;32m      1\u001b[0m \u001b[0;32mtry\u001b[0m\u001b[0;34m:\u001b[0m\u001b[0;34m\u001b[0m\u001b[0;34m\u001b[0m\u001b[0m\n\u001b[0;32m----> 2\u001b[0;31m     \u001b[0mz\u001b[0m \u001b[0;34m=\u001b[0m \u001b[0;36m10.5\u001b[0m\u001b[0;34m/\u001b[0m\u001b[0;36m0\u001b[0m\u001b[0;34m\u001b[0m\u001b[0;34m\u001b[0m\u001b[0m\n\u001b[0m\u001b[1;32m      3\u001b[0m \u001b[0;32mexcept\u001b[0m \u001b[0mZeroDivisionError\u001b[0m\u001b[0;34m:\u001b[0m\u001b[0;34m\u001b[0m\u001b[0;34m\u001b[0m\u001b[0m\n\u001b[1;32m      4\u001b[0m     \u001b[0mprint\u001b[0m\u001b[0;34m(\u001b[0m\u001b[0;34m\"You cannot divide by 0, exiting\"\u001b[0m\u001b[0;34m)\u001b[0m\u001b[0;34m\u001b[0m\u001b[0;34m\u001b[0m\u001b[0m\n\u001b[1;32m      5\u001b[0m     \u001b[0;32mraise\u001b[0m\u001b[0;34m\u001b[0m\u001b[0;34m\u001b[0m\u001b[0m\n",
      "\u001b[0;31mZeroDivisionError\u001b[0m: float division by zero"
     ]
    }
   ],
   "source": [
    "try:\n",
    "    z = 10.5/0\n",
    "except ZeroDivisionError:\n",
    "    print(\"You cannot divide by 0, exiting\")\n",
    "    raise"
   ]
  },
  {
   "cell_type": "markdown",
   "metadata": {},
   "source": [
    "Let's go back to our code that calculates the multiplication factor..."
   ]
  },
  {
   "cell_type": "code",
   "execution_count": 15,
   "metadata": {},
   "outputs": [],
   "source": [
    "import numpy as np\n",
    "def k_effective(slab_length, nuSigma_f, Sigma_a, Diff_coef):\n",
    "    try:\n",
    "        assert (slab_length >0)\n",
    "        assert (nuSigma_f > 0)\n",
    "        assert (Sigma_a >0)\n",
    "        assert (Diff_coef > 0)\n",
    "    except AssertionError:\n",
    "        print(\"Input Parameters are not all positive.\")\n",
    "        print(\"slab_length =\",slab_length)\n",
    "        print(\"nuSigma_f =\",nuSigma_f)\n",
    "        print(\"Sigma_a =\",Sigma_a)\n",
    "        print(\"Diff_coef =\",Diff_coef)\n",
    "        raise\n",
    "    except:\n",
    "        print(\"An unexpected error occurred when\",\n",
    "              \"checking the function parameters\")\n",
    "        raise\n",
    "    k_infinity = nuSigma_f / Sigma_a #k-infinity\n",
    "    L2 = Diff_coef/Sigma_a #Diffusion length\n",
    "    B = np.pi/slab_length #geometric buckling.\n",
    "    k = k_infinity/(1+L2 * B**2)\n",
    "    assert k >= 0\n",
    "    assert k <= k_infinity\n",
    "    return k"
   ]
  },
  {
   "cell_type": "code",
   "execution_count": 16,
   "metadata": {},
   "outputs": [
    {
     "name": "stdout",
     "output_type": "stream",
     "text": [
      "Input Parameters are not all positive.\n",
      "slab_length = 3.141592653589793\n",
      "nuSigma_f = 1\n",
      "Sigma_a = -1\n",
      "Diff_coef = 1\n"
     ]
    },
    {
     "ename": "AssertionError",
     "evalue": "",
     "output_type": "error",
     "traceback": [
      "\u001b[0;31m---------------------------------------------------------------------------\u001b[0m",
      "\u001b[0;31mAssertionError\u001b[0m                            Traceback (most recent call last)",
      "\u001b[0;32m<ipython-input-16-de5c97e57bd1>\u001b[0m in \u001b[0;36m<module>\u001b[0;34m\u001b[0m\n\u001b[0;32m----> 1\u001b[0;31m test_k = k_effective(slab_length = np.pi, nuSigma_f = 1,\n\u001b[0m\u001b[1;32m      2\u001b[0m                      Sigma_a = -1, Diff_coef = 1)\n",
      "\u001b[0;32m<ipython-input-15-b795fb6f1311>\u001b[0m in \u001b[0;36mk_effective\u001b[0;34m(slab_length, nuSigma_f, Sigma_a, Diff_coef)\u001b[0m\n\u001b[1;32m      4\u001b[0m         \u001b[0;32massert\u001b[0m \u001b[0;34m(\u001b[0m\u001b[0mslab_length\u001b[0m \u001b[0;34m>\u001b[0m\u001b[0;36m0\u001b[0m\u001b[0;34m)\u001b[0m\u001b[0;34m\u001b[0m\u001b[0;34m\u001b[0m\u001b[0m\n\u001b[1;32m      5\u001b[0m         \u001b[0;32massert\u001b[0m \u001b[0;34m(\u001b[0m\u001b[0mnuSigma_f\u001b[0m \u001b[0;34m>\u001b[0m \u001b[0;36m0\u001b[0m\u001b[0;34m)\u001b[0m\u001b[0;34m\u001b[0m\u001b[0;34m\u001b[0m\u001b[0m\n\u001b[0;32m----> 6\u001b[0;31m         \u001b[0;32massert\u001b[0m \u001b[0;34m(\u001b[0m\u001b[0mSigma_a\u001b[0m \u001b[0;34m>\u001b[0m\u001b[0;36m0\u001b[0m\u001b[0;34m)\u001b[0m\u001b[0;34m\u001b[0m\u001b[0;34m\u001b[0m\u001b[0m\n\u001b[0m\u001b[1;32m      7\u001b[0m         \u001b[0;32massert\u001b[0m \u001b[0;34m(\u001b[0m\u001b[0mDiff_coef\u001b[0m \u001b[0;34m>\u001b[0m \u001b[0;36m0\u001b[0m\u001b[0;34m)\u001b[0m\u001b[0;34m\u001b[0m\u001b[0;34m\u001b[0m\u001b[0m\n\u001b[1;32m      8\u001b[0m     \u001b[0;32mexcept\u001b[0m \u001b[0mAssertionError\u001b[0m\u001b[0;34m:\u001b[0m\u001b[0;34m\u001b[0m\u001b[0;34m\u001b[0m\u001b[0m\n",
      "\u001b[0;31mAssertionError\u001b[0m: "
     ]
    }
   ],
   "source": [
    "test_k = k_effective(slab_length = np.pi, nuSigma_f = 1,\n",
    "                     Sigma_a = -1, Diff_coef = 1)"
   ]
  },
  {
   "cell_type": "code",
   "execution_count": 17,
   "metadata": {},
   "outputs": [
    {
     "name": "stdout",
     "output_type": "stream",
     "text": [
      "An unexpected error occurred when checking the function parameters\n"
     ]
    },
    {
     "ename": "TypeError",
     "evalue": "'>' not supported between instances of 'str' and 'int'",
     "output_type": "error",
     "traceback": [
      "\u001b[0;31m---------------------------------------------------------------------------\u001b[0m",
      "\u001b[0;31mTypeError\u001b[0m                                 Traceback (most recent call last)",
      "\u001b[0;32m<ipython-input-17-ac758ffcbbfb>\u001b[0m in \u001b[0;36m<module>\u001b[0;34m\u001b[0m\n\u001b[0;32m----> 1\u001b[0;31m test_k = k_effective(slab_length = \"Pi\", nuSigma_f = 1,\n\u001b[0m\u001b[1;32m      2\u001b[0m                      Sigma_a = -1, Diff_coef = 1)\n",
      "\u001b[0;32m<ipython-input-15-b795fb6f1311>\u001b[0m in \u001b[0;36mk_effective\u001b[0;34m(slab_length, nuSigma_f, Sigma_a, Diff_coef)\u001b[0m\n\u001b[1;32m      2\u001b[0m \u001b[0;32mdef\u001b[0m \u001b[0mk_effective\u001b[0m\u001b[0;34m(\u001b[0m\u001b[0mslab_length\u001b[0m\u001b[0;34m,\u001b[0m \u001b[0mnuSigma_f\u001b[0m\u001b[0;34m,\u001b[0m \u001b[0mSigma_a\u001b[0m\u001b[0;34m,\u001b[0m \u001b[0mDiff_coef\u001b[0m\u001b[0;34m)\u001b[0m\u001b[0;34m:\u001b[0m\u001b[0;34m\u001b[0m\u001b[0;34m\u001b[0m\u001b[0m\n\u001b[1;32m      3\u001b[0m     \u001b[0;32mtry\u001b[0m\u001b[0;34m:\u001b[0m\u001b[0;34m\u001b[0m\u001b[0;34m\u001b[0m\u001b[0m\n\u001b[0;32m----> 4\u001b[0;31m         \u001b[0;32massert\u001b[0m \u001b[0;34m(\u001b[0m\u001b[0mslab_length\u001b[0m \u001b[0;34m>\u001b[0m\u001b[0;36m0\u001b[0m\u001b[0;34m)\u001b[0m\u001b[0;34m\u001b[0m\u001b[0;34m\u001b[0m\u001b[0m\n\u001b[0m\u001b[1;32m      5\u001b[0m         \u001b[0;32massert\u001b[0m \u001b[0;34m(\u001b[0m\u001b[0mnuSigma_f\u001b[0m \u001b[0;34m>\u001b[0m \u001b[0;36m0\u001b[0m\u001b[0;34m)\u001b[0m\u001b[0;34m\u001b[0m\u001b[0;34m\u001b[0m\u001b[0m\n\u001b[1;32m      6\u001b[0m         \u001b[0;32massert\u001b[0m \u001b[0;34m(\u001b[0m\u001b[0mSigma_a\u001b[0m \u001b[0;34m>\u001b[0m\u001b[0;36m0\u001b[0m\u001b[0;34m)\u001b[0m\u001b[0;34m\u001b[0m\u001b[0;34m\u001b[0m\u001b[0m\n",
      "\u001b[0;31mTypeError\u001b[0m: '>' not supported between instances of 'str' and 'int'"
     ]
    }
   ],
   "source": [
    "test_k = k_effective(slab_length = \"Pi\", nuSigma_f = 1,\n",
    "                     Sigma_a = -1, Diff_coef = 1)"
   ]
  },
  {
   "cell_type": "code",
   "execution_count": null,
   "metadata": {},
   "outputs": [],
   "source": []
  }
 ],
 "metadata": {
  "kernelspec": {
   "display_name": "Python 3",
   "language": "python",
   "name": "python3"
  },
  "language_info": {
   "codemirror_mode": {
    "name": "ipython",
    "version": 3
   },
   "file_extension": ".py",
   "mimetype": "text/x-python",
   "name": "python",
   "nbconvert_exporter": "python",
   "pygments_lexer": "ipython3",
   "version": "3.8.5"
  }
 },
 "nbformat": 4,
 "nbformat_minor": 4
}
