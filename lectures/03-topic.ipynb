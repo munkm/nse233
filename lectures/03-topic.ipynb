{
 "cells": [
  {
   "cell_type": "markdown",
   "metadata": {},
   "source": [
    "# Lecture 3 - NumPy and Matplotlib\n",
    "\n",
    "## NumPy Arrays\n",
    "\n",
    "NumPy is a collection of modules, called a library, with powerful array objects and linear algebra tools.  Basic unit: multi-dimensional array (N-dimensional, or N-D array).  A 1-D array is a vector, a 2-D array is a matrix, and 3-D array is a vector of matrices, or perhaps a tensor. \n"
   ]
  },
  {
   "cell_type": "code",
   "execution_count": 1,
   "metadata": {},
   "outputs": [
    {
     "name": "stdout",
     "output_type": "stream",
     "text": [
      "The vector [1 2 3 4]\n",
      "The matrix\n",
      " [[1 2 3]\n",
      " [4 5 6]\n",
      " [7 8 9]]\n"
     ]
    }
   ],
   "source": [
    "import numpy as np\n",
    "a_vector = np.array([1,2,3,4])\n",
    "a_matrix = np.array([(1,2,3),(4,5,6),(7,8,9)])\n",
    "print(\"The vector\",a_vector)\n",
    "print(\"The matrix\\n\",a_matrix)"
   ]
  },
  {
   "cell_type": "markdown",
   "metadata": {},
   "source": [
    "Shape, ndim and size - characteristics of NumPy arrays..."
   ]
  },
  {
   "cell_type": "code",
   "execution_count": 2,
   "metadata": {},
   "outputs": [
    {
     "name": "stdout",
     "output_type": "stream",
     "text": [
      "The shape of a_vector is  (4,)\n",
      "The shape of a_matrix is  (3, 3)\n"
     ]
    }
   ],
   "source": [
    "#shape tells you the shape\n",
    "print(\"The shape of a_vector is \", a_vector.shape)\n",
    "print(\"The shape of a_matrix is \", a_matrix.shape)"
   ]
  },
  {
   "cell_type": "code",
   "execution_count": 3,
   "metadata": {},
   "outputs": [
    {
     "name": "stdout",
     "output_type": "stream",
     "text": [
      "The dimension of a_vector is  1\n",
      "The dimension of a_matrix is  2\n"
     ]
    }
   ],
   "source": [
    "#ndim tells you the dimensionality of an array\n",
    "print(\"The dimension of a_vector is \", a_vector.ndim)\n",
    "print(\"The dimension of a_matrix is \", a_matrix.ndim)"
   ]
  },
  {
   "cell_type": "code",
   "execution_count": 4,
   "metadata": {},
   "outputs": [
    {
     "name": "stdout",
     "output_type": "stream",
     "text": [
      "The size of a_vector is  4 =  4\n",
      "The size of a_matrix is  9 = 3 * 3\n"
     ]
    }
   ],
   "source": [
    "#size is the total number of elements = the product of\n",
    "# the number of elements in each dimension\n",
    "print(\"The size of a_vector is \", a_vector.size,\"= \",\n",
    "      a_vector.shape[0])\n",
    "print(\"The size of a_matrix is \", a_matrix.size,\"=\",\n",
    "      a_matrix.shape[0],\"*\",a_matrix.shape[1])"
   ]
  },
  {
   "cell_type": "code",
   "execution_count": 5,
   "metadata": {},
   "outputs": [
    {
     "name": "stdout",
     "output_type": "stream",
     "text": [
      "A is now a vector [2 4 6 8]\n",
      "A is now a matrix\n",
      " [[2 4]\n",
      " [6 8]] \n",
      "Sorcery!\n"
     ]
    }
   ],
   "source": [
    "A = np.array([2,4,6,8])\n",
    "print(\"A is now a vector\",A)\n",
    "A = A.reshape(2,2)  #Notice here that A is assigned the reshaped array...\n",
    "print(\"A is now a matrix\\n\",A,\"\\nSorcery!\")"
   ]
  },
  {
   "cell_type": "markdown",
   "metadata": {},
   "source": [
    "Various, neat (according to McClarren...) ways to make arrays\n"
   ]
  },
  {
   "cell_type": "code",
   "execution_count": 6,
   "metadata": {},
   "outputs": [
    {
     "name": "stdout",
     "output_type": "stream",
     "text": [
      "[0.  0.1 0.2 0.3 0.4 0.5 0.6 0.7 0.8 0.9 1.  1.1 1.2 1.3 1.4 1.5 1.6 1.7\n",
      " 1.8 1.9 2.  2.1 2.2 2.3 2.4 2.5 2.6 2.7 2.8 2.9 3.  3.1 3.2 3.3 3.4 3.5\n",
      " 3.6 3.7 3.8 3.9 4.  4.1 4.2 4.3 4.4 4.5 4.6 4.7 4.8 4.9 5.  5.1 5.2 5.3\n",
      " 5.4 5.5 5.6 5.7 5.8 5.9 6.  6.1 6.2]\n"
     ]
    }
   ],
   "source": [
    "#let’s make a vector from 0 to 2*pi in intervals of 0.1\n",
    "dx = 0.1\n",
    "X = np.arange(0,2*np.pi,dx)\n",
    "print(X)"
   ]
  },
  {
   "cell_type": "code",
   "execution_count": 7,
   "metadata": {},
   "outputs": [
    {
     "name": "stdout",
     "output_type": "stream",
     "text": [
      "[0.         0.10300304 0.20600608 0.30900911 0.41201215 0.51501519\n",
      " 0.61801823 0.72102126 0.8240243  0.92702734 1.03003038 1.13303342\n",
      " 1.23603645 1.33903949 1.44204253 1.54504557 1.64804861 1.75105164\n",
      " 1.85405468 1.95705772 2.06006076 2.16306379 2.26606683 2.36906987\n",
      " 2.47207291 2.57507595 2.67807898 2.78108202 2.88408506 2.9870881\n",
      " 3.09009113 3.19309417 3.29609721 3.39910025 3.50210329 3.60510632\n",
      " 3.70810936 3.8111124  3.91411544 4.01711848 4.12012151 4.22312455\n",
      " 4.32612759 4.42913063 4.53213366 4.6351367  4.73813974 4.84114278\n",
      " 4.94414582 5.04714885 5.15015189 5.25315493 5.35615797 5.459161\n",
      " 5.56216404 5.66516708 5.76817012 5.87117316 5.97417619 6.07717923\n",
      " 6.18018227 6.28318531]\n"
     ]
    }
   ],
   "source": [
    "X = np.linspace(start = 0, stop = 2*np.pi, num = 62)\n",
    "print(X)"
   ]
  },
  {
   "cell_type": "code",
   "execution_count": 8,
   "metadata": {},
   "outputs": [
    {
     "name": "stdout",
     "output_type": "stream",
     "text": [
      "The zero vector: [0. 0. 0. 0. 0. 0. 0. 0. 0. 0.]\n",
      "The zero matrix\n",
      " [[0. 0. 0. 0.]\n",
      " [0. 0. 0. 0.]\n",
      " [0. 0. 0. 0.]\n",
      " [0. 0. 0. 0.]]\n"
     ]
    }
   ],
   "source": [
    "zero_vector = np.zeros(10) #vector of length 10\n",
    "zero_matrix = np.zeros((4,4)) #4 by 4 matrix\n",
    "print(\"The zero vector:\",zero_vector)\n",
    "print(\"The zero matrix\\n\",zero_matrix)"
   ]
  },
  {
   "cell_type": "code",
   "execution_count": 9,
   "metadata": {},
   "outputs": [
    {
     "name": "stdout",
     "output_type": "stream",
     "text": [
      "The ones vector: [1. 1. 1. 1. 1. 1. 1. 1. 1. 1.]\n",
      "The ones matrix\n",
      " [[1. 1. 1. 1.]\n",
      " [1. 1. 1. 1.]\n",
      " [1. 1. 1. 1.]\n",
      " [1. 1. 1. 1.]]\n"
     ]
    }
   ],
   "source": [
    "ones_vector = np.ones(10) #vector of length 10\n",
    "ones_matrix = np.ones((4,4)) #4 by 4 matrix\n",
    "print(\"The ones vector:\",ones_vector)\n",
    "print(\"The ones matrix\\n\",ones_matrix)"
   ]
  },
  {
   "cell_type": "code",
   "execution_count": 10,
   "metadata": {},
   "outputs": [
    {
     "name": "stdout",
     "output_type": "stream",
     "text": [
      "Here’s a random 2 x 3 matrix\n",
      " [[0.95145943 0.50080944 0.88585556]\n",
      " [0.67762702 0.35619568 0.52430498]]\n"
     ]
    }
   ],
   "source": [
    "random_matrix = np.random.rand(2,3) #random 2 x 3 matrix\n",
    "print(\"Here’s a random 2 x 3 matrix\\n\",random_matrix)"
   ]
  },
  {
   "cell_type": "code",
   "execution_count": 11,
   "metadata": {},
   "outputs": [
    {
     "name": "stdout",
     "output_type": "stream",
     "text": [
      "Another example\n",
      "[[ 3.91075973  3.40429137 -0.22211797]\n",
      " [ 3.21737414  2.1609065   4.50550676]\n",
      " [-4.98047238 -0.94240842  5.08767007]]\n",
      "[5 1 5 2 4 1 2 4 2 4]\n"
     ]
    }
   ],
   "source": [
    "print(\"Another example\")\n",
    "#make a random array between two numbers\n",
    "print(np.random.uniform(low=-5,high=6,size=(3,3)))\n",
    "#make random integers\n",
    "print(np.random.randint(low=1,high=6,size=10))"
   ]
  },
  {
   "cell_type": "code",
   "execution_count": 12,
   "metadata": {},
   "outputs": [
    {
     "name": "stdout",
     "output_type": "stream",
     "text": [
      "[[1. 0. 0.]\n",
      " [0. 1. 0.]\n",
      " [0. 0. 1.]]\n"
     ]
    }
   ],
   "source": [
    "#3 x 3 identity matrix\n",
    "identity33 = np.identity(3)\n",
    "print(identity33)"
   ]
  },
  {
   "cell_type": "markdown",
   "metadata": {},
   "source": [
    "Operations on arrays - common operators are overloaded to accomplish this in NumPy"
   ]
  },
  {
   "cell_type": "code",
   "execution_count": 13,
   "metadata": {},
   "outputs": [
    {
     "name": "stdout",
     "output_type": "stream",
     "text": [
      "[1. 1. 1.] + [2. 2. 2.] = [3. 3. 3.]\n",
      "[1. 1. 1.] - [2. 2. 2.] = [-1. -1. -1.]\n"
     ]
    }
   ],
   "source": [
    "#vector addition\n",
    "x = np.ones(3) #3-vector of ones\n",
    "y = 3*np.ones(3)-1 #3-vector of 2’s\n",
    "print(x,\"+\",y,\"=\",x+y)\n",
    "print(x,\"-\",y,\"=\",x-y)"
   ]
  },
  {
   "cell_type": "markdown",
   "metadata": {},
   "source": [
    "Multiplication and division occur \"element-wise\"..."
   ]
  },
  {
   "cell_type": "code",
   "execution_count": 15,
   "metadata": {},
   "outputs": [
    {
     "name": "stdout",
     "output_type": "stream",
     "text": [
      "[1. 1. 1.] * [1. 2. 3.] = [1. 2. 3.]\n",
      "[1. 1. 1.] / [1. 2. 3.] = [1.         0.5        0.33333333]\n"
     ]
    }
   ],
   "source": [
    "y = np.array([1.0,2.0,3.0])\n",
    "print(x,\"*\",y,\"=\",x*y)\n",
    "print(x,\"/\",y,\"=\",x/y)"
   ]
  },
  {
   "cell_type": "code",
   "execution_count": 16,
   "metadata": {},
   "outputs": [
    {
     "name": "stdout",
     "output_type": "stream",
     "text": [
      "[1. 1. 1.] . [1. 2. 3.] = 6.0\n"
     ]
    }
   ],
   "source": [
    "print(x,\".\",y,\"=\",np.dot(x,y)) #dot product..."
   ]
  },
  {
   "cell_type": "code",
   "execution_count": 17,
   "metadata": {},
   "outputs": [
    {
     "name": "stdout",
     "output_type": "stream",
     "text": [
      "The sum of\n",
      " [[1. 0. 0.]\n",
      " [0. 1. 0.]\n",
      " [0. 0. 1.]] \n",
      "and\n",
      " [[1 2 3]\n",
      " [1 2 3]\n",
      " [1 2 3]] \n",
      "is\n",
      " [[2. 2. 3.]\n",
      " [1. 3. 3.]\n",
      " [1. 2. 4.]]\n"
     ]
    }
   ],
   "source": [
    "silly_matrix = np.array([(1,2,3),(1,2,3),(1,2,3)])\n",
    "print(\"The sum of\\n\",identity33,\"\\nand\\n\",\n",
    "      silly_matrix,\"\\nis\\n\",identity33+silly_matrix)"
   ]
  },
  {
   "cell_type": "code",
   "execution_count": 18,
   "metadata": {},
   "outputs": [
    {
     "data": {
      "text/plain": [
       "array([[1., 0., 0.],\n",
       "       [0., 2., 0.],\n",
       "       [0., 0., 3.]])"
      ]
     },
     "execution_count": 18,
     "metadata": {},
     "output_type": "execute_result"
    }
   ],
   "source": [
    "identity33 * silly_matrix"
   ]
  },
  {
   "cell_type": "code",
   "execution_count": 19,
   "metadata": {},
   "outputs": [
    {
     "data": {
      "text/plain": [
       "array([[1.        , 0.        , 0.        ],\n",
       "       [0.        , 0.5       , 0.        ],\n",
       "       [0.        , 0.        , 0.33333333]])"
      ]
     },
     "execution_count": 19,
     "metadata": {},
     "output_type": "execute_result"
    }
   ],
   "source": [
    "identity33 / silly_matrix"
   ]
  },
  {
   "cell_type": "code",
   "execution_count": 20,
   "metadata": {},
   "outputs": [
    {
     "name": "stdout",
     "output_type": "stream",
     "text": [
      "The matrix product of\n",
      " [[1. 0. 0.]\n",
      " [0. 1. 0.]\n",
      " [0. 0. 1.]] \n",
      "and\n",
      " [[1 2 3]\n",
      " [1 2 3]\n",
      " [1 2 3]] \n",
      "is\n",
      " [[1. 2. 3.]\n",
      " [1. 2. 3.]\n",
      " [1. 2. 3.]]\n"
     ]
    }
   ],
   "source": [
    "print(\"The matrix product of\\n\",identity33,\"\\nand\\n\",\n",
    "      silly_matrix,\"\\nis\\n\",\n",
    "      np.dot(identity33,silly_matrix))"
   ]
  },
  {
   "cell_type": "code",
   "execution_count": 21,
   "metadata": {},
   "outputs": [
    {
     "name": "stdout",
     "output_type": "stream",
     "text": [
      "[[1 2 3]\n",
      " [1 2 3]\n",
      " [1 2 3]] times [1. 2. 3.] is\n",
      "[14. 14. 14.]\n"
     ]
    }
   ],
   "source": [
    "#matrix times a vector\n",
    "print(silly_matrix,\"times\", y, \"is\")\n",
    "print(np.dot(silly_matrix,y))"
   ]
  },
  {
   "cell_type": "markdown",
   "metadata": {},
   "source": [
    "Note: Python will give you an error if you don't provide matrices and vectors with the appropriate sizes...\n",
    "\n",
    "## Universal functions\n",
    "\n",
    "These are common mathematical functions that act on vectors...  Very useful for plotting!"
   ]
  },
  {
   "cell_type": "code",
   "execution_count": 22,
   "metadata": {},
   "outputs": [
    {
     "name": "stdout",
     "output_type": "stream",
     "text": [
      "[0.         0.10300304 0.20600608 0.30900911 0.41201215 0.51501519\n",
      " 0.61801823 0.72102126 0.8240243  0.92702734 1.03003038 1.13303342\n",
      " 1.23603645 1.33903949 1.44204253 1.54504557 1.64804861 1.75105164\n",
      " 1.85405468 1.95705772 2.06006076 2.16306379 2.26606683 2.36906987\n",
      " 2.47207291 2.57507595 2.67807898 2.78108202 2.88408506 2.9870881\n",
      " 3.09009113 3.19309417 3.29609721 3.39910025 3.50210329 3.60510632\n",
      " 3.70810936 3.8111124  3.91411544 4.01711848 4.12012151 4.22312455\n",
      " 4.32612759 4.42913063 4.53213366 4.6351367  4.73813974 4.84114278\n",
      " 4.94414582 5.04714885 5.15015189 5.25315493 5.35615797 5.459161\n",
      " 5.56216404 5.66516708 5.76817012 5.87117316 5.97417619 6.07717923\n",
      " 6.18018227 6.28318531]\n",
      "[ 0.00000000e+00  1.02820997e-01  2.04552066e-01  3.04114832e-01\n",
      "  4.00453906e-01  4.92548068e-01  5.79421098e-01  6.60152121e-01\n",
      "  7.33885366e-01  7.99839245e-01  8.57314628e-01  9.05702263e-01\n",
      "  9.44489229e-01  9.73264374e-01  9.91722674e-01  9.99668468e-01\n",
      "  9.97017526e-01  9.83797952e-01  9.60149874e-01  9.26323968e-01\n",
      "  8.82678798e-01  8.29677014e-01  7.67880446e-01  6.97944155e-01\n",
      "  6.20609482e-01  5.36696194e-01  4.47093793e-01  3.52752087e-01\n",
      "  2.54671120e-01  1.53890577e-01  5.14787548e-02 -5.14787548e-02\n",
      " -1.53890577e-01 -2.54671120e-01 -3.52752087e-01 -4.47093793e-01\n",
      " -5.36696194e-01 -6.20609482e-01 -6.97944155e-01 -7.67880446e-01\n",
      " -8.29677014e-01 -8.82678798e-01 -9.26323968e-01 -9.60149874e-01\n",
      " -9.83797952e-01 -9.97017526e-01 -9.99668468e-01 -9.91722674e-01\n",
      " -9.73264374e-01 -9.44489229e-01 -9.05702263e-01 -8.57314628e-01\n",
      " -7.99839245e-01 -7.33885366e-01 -6.60152121e-01 -5.79421098e-01\n",
      " -4.92548068e-01 -4.00453906e-01 -3.04114832e-01 -2.04552066e-01\n",
      " -1.02820997e-01 -2.44929360e-16]\n"
     ]
    }
   ],
   "source": [
    "#recall we defined X as a linspace from 0 to 2pi\n",
    "print(X)\n",
    "#taking the sin(X) should be one whole sine wave\n",
    "print(np.sin(X))"
   ]
  },
  {
   "cell_type": "code",
   "execution_count": 23,
   "metadata": {},
   "outputs": [
    {
     "data": {
      "image/png": "[encoded data removed]",
      "text/plain": [
       "<Figure size 432x288 with 1 Axes>"
      ]
     },
     "metadata": {
      "needs_background": "light"
     },
     "output_type": "display_data"
    }
   ],
   "source": [
    "import matplotlib.pyplot as plt\n",
    "plt.plot(X,np.sin(X));"
   ]
  },
  {
   "cell_type": "code",
   "execution_count": 24,
   "metadata": {},
   "outputs": [
    {
     "data": {
      "image/png": "[encoded data removed]",
      "text/plain": [
       "<Figure size 432x288 with 1 Axes>"
      ]
     },
     "metadata": {
      "needs_background": "light"
     },
     "output_type": "display_data"
    }
   ],
   "source": [
    "X = np.linspace(0,10,100)\n",
    "Y = np.sin(np.pi*X/10)\n",
    "plt.plot(X,Y);"
   ]
  },
  {
   "cell_type": "markdown",
   "metadata": {},
   "source": [
    "## Copying Arrays and Scope\n",
    "\n",
    "Things are different with NumPy and arrays than they are for other data types.  Assigning a new variable name to an existing array is like giving that object two names.  The data is not copied into the new array...  The reason is for memory management.  "
   ]
  },
  {
   "cell_type": "code",
   "execution_count": 25,
   "metadata": {},
   "outputs": [
    {
     "name": "stdout",
     "output_type": "stream",
     "text": [
      "[1. 2. 3. 4. 5. 6.]\n",
      "The value of array a is [1.   2.   2.56 4.   5.   6.  ]\n",
      "The value of array b is [1.   2.   2.56 4.   5.   6.  ]\n"
     ]
    }
   ],
   "source": [
    "a = np.array([1.0,2,3,4,5,6])\n",
    "print(a)\n",
    "#this will make a and b different names for the same array\n",
    "b = a\n",
    "#changing b at position 2, also changes a\n",
    "b[2] = 2.56\n",
    "print(\"The value of array a is\",a)\n",
    "print(\"The value of array b is\",b)"
   ]
  },
  {
   "cell_type": "code",
   "execution_count": 26,
   "metadata": {},
   "outputs": [
    {
     "name": "stdout",
     "output_type": "stream",
     "text": [
      "[1. 2. 3. 4. 5. 6.]\n",
      "The value of array a is [1. 2. 3. 4. 5. 6.]\n",
      "The value of array b is [1.   2.   2.56 4.   5.   6.  ]\n"
     ]
    }
   ],
   "source": [
    "a = np.array([1.0,2,3,4,5,6])\n",
    "print(a)\n",
    "#this will make a and b different copies for the same array\n",
    "b = a.copy()\n",
    "#changing b at position 2, will not change a\n",
    "b[2] = 2.56\n",
    "print(\"The value of array a is\",a)\n",
    "print(\"The value of array b is\",b)"
   ]
  },
  {
   "cell_type": "markdown",
   "metadata": {},
   "source": [
    "Passing a variable into a function normally means that variable is copied into the function's memory scope.  Not with NumPy arrays.  When the array is passed, the function just assigns that array another name.  Bottom line: if the array is changed in the function, it is changed outside the function."
   ]
  },
  {
   "cell_type": "code",
   "execution_count": 27,
   "metadata": {},
   "outputs": [
    {
     "name": "stdout",
     "output_type": "stream",
     "text": [
      "Before the function a = [1. 2. 3. 4. 5. 6.]\n",
      "After the function a = [-1.e+06  2.e+00  3.e+00  4.e+00  5.e+00  6.e+00]\n"
     ]
    }
   ],
   "source": [
    "def devious_function(func_array):\n",
    "    #changes the value of array passed in\n",
    "    func_array[0] = -1.0e6\n",
    "    \n",
    "a = np.array([1.0,2,3,4,5,6])\n",
    "print(\"Before the function a =\",a)\n",
    "devious_function(a)\n",
    "print(\"After the function a =\",a)"
   ]
  },
  {
   "cell_type": "code",
   "execution_count": 28,
   "metadata": {},
   "outputs": [
    {
     "name": "stdout",
     "output_type": "stream",
     "text": [
      "The vector [1 2 3 4]\n",
      "The matrix\n",
      " [[1 2 3]\n",
      " [4 5 6]\n",
      " [7 8 9]]\n",
      "a_vector[:] = [1 2 3 4]\n",
      "a_vector[1:3] = [2 3]\n",
      "For a matrix, we can slice in each dimension\n",
      "a_matrix[0,:] = [1 2 3]\n",
      "a_matrix[0,1:3] = [2 3]\n",
      "a_matrix[:,2] = [3 6 9]\n"
     ]
    }
   ],
   "source": [
    "#bring these guys back\n",
    "a_vector = np.array([1,2,3,4])\n",
    "a_matrix = np.array([(1,2,3),(4,5,6),(7,8,9)])\n",
    "print(\"The vector\",a_vector)\n",
    "print(\"The matrix\\n\",a_matrix)\n",
    "#single colon gives everything\n",
    "print(\"a_vector[:] =\",a_vector[:])\n",
    "#print out position 1 to position 2 (same as for lists)\n",
    "print(\"a_vector[1:3] =\",a_vector[1:3])\n",
    "print(\"For a matrix, we can slice in each dimension\")\n",
    "#every column in row 0\n",
    "print(\"a_matrix[0,:] =\",a_matrix[0,:])\n",
    "#columns 1 and 2 in row 0\n",
    "print(\"a_matrix[0,1:3] =\",a_matrix[0,1:3])\n",
    "#every row in column 2\n",
    "print(\"a_matrix[:,2] =\",a_matrix[:,2])"
   ]
  },
  {
   "cell_type": "code",
   "execution_count": 29,
   "metadata": {},
   "outputs": [
    {
     "name": "stdout",
     "output_type": "stream",
     "text": [
      "Row 0 of a_matrix is [1 2 3]\n",
      "Row 1 of a_matrix is [4 5 6]\n",
      "Row 2 of a_matrix is [7 8 9]\n",
      "Column 0 of a_matrix is [1 4 7]\n",
      "Column 1 of a_matrix is [2 5 8]\n",
      "Column 2 of a_matrix is [3 6 9]\n"
     ]
    }
   ],
   "source": [
    "a_matrix = np.array([(1,2,3),(4,5,6),(7,8,9)])\n",
    "count = 0\n",
    "for row in a_matrix:\n",
    "    print(\"Row\",count,\"of a_matrix is\",row)\n",
    "    count += 1\n",
    "\n",
    "count = 0\n",
    "for column in a_matrix.transpose():\n",
    "    print(\"Column\",count,\"of a_matrix is\",column)\n",
    "    count += 1"
   ]
  },
  {
   "cell_type": "code",
   "execution_count": 30,
   "metadata": {},
   "outputs": [
    {
     "name": "stdout",
     "output_type": "stream",
     "text": [
      "Row 0 Column 0 of a_matrix is 1\n",
      "Row 0 Column 1 of a_matrix is 2\n",
      "Row 0 Column 2 of a_matrix is 3\n",
      "Row 1 Column 0 of a_matrix is 4\n",
      "Row 1 Column 1 of a_matrix is 5\n",
      "Row 1 Column 2 of a_matrix is 6\n",
      "Row 2 Column 0 of a_matrix is 7\n",
      "Row 2 Column 1 of a_matrix is 8\n",
      "Row 2 Column 2 of a_matrix is 9\n"
     ]
    }
   ],
   "source": [
    "a_matrix = np.array([(1,2,3),(4,5,6),(7,8,9)])\n",
    "row_count = 0\n",
    "col_count = 0\n",
    "for row in a_matrix:\n",
    "    col_count = 0\n",
    "    for col in row:\n",
    "        print(\"Row\",row_count,\"Column\",col_count,\n",
    "              \"of a_matrix is\",col)\n",
    "        col_count += 1\n",
    "    row_count += 1"
   ]
  },
  {
   "cell_type": "markdown",
   "metadata": {},
   "source": [
    "## Matplotlib Basics\n",
    "\n",
    "This example contains: axis labels and title..."
   ]
  },
  {
   "cell_type": "code",
   "execution_count": 31,
   "metadata": {},
   "outputs": [
    {
     "data": {
      "image/png": "[encoded data removed]",
      "text/plain": [
       "<Figure size 432x288 with 1 Axes>"
      ]
     },
     "metadata": {
      "needs_background": "light"
     },
     "output_type": "display_data"
    }
   ],
   "source": [
    "import matplotlib.pyplot as plt\n",
    "import numpy as np\n",
    "#make a simple plot\n",
    "x = np.linspace(-100,100,1000)\n",
    "y = np.sin(x)/x\n",
    "#plot x versus y\n",
    "plt.plot(x,y)\n",
    "#label the y axis\n",
    "plt.ylabel(\"sinc(x) (arb units)\");\n",
    "#label the x axis\n",
    "plt.xlabel(\"x (cm)\")\n",
    "#give the plot a title\n",
    "plt.title(\"Line plot of the sinc function\")\n",
    "#show the plot\n",
    "plt.show()"
   ]
  },
  {
   "cell_type": "markdown",
   "metadata": {},
   "source": [
    "There are lots of options that can be specified in the plot command, like going from a line to dots..."
   ]
  },
  {
   "cell_type": "code",
   "execution_count": 32,
   "metadata": {},
   "outputs": [
    {
     "data": {
      "image/png": "[encoded data removed]",
      "text/plain": [
       "<Figure size 432x288 with 1 Axes>"
      ]
     },
     "metadata": {
      "needs_background": "light"
     },
     "output_type": "display_data"
    }
   ],
   "source": [
    "x = np.linspace(-3,3,100)\n",
    "y = np.exp(-x**2)\n",
    "plt.plot(x,y,\"ro\"); #red dots on the plot\n",
    "plt.ylabel(\"$e^{-x^2}$ (arb units)\");\n",
    "plt.xlabel(\"x (cm)\")\n",
    "plt.title(\"Plot of $e^{-x^2}$\")\n",
    "plt.show()"
   ]
  },
  {
   "cell_type": "markdown",
   "metadata": {},
   "source": [
    "How about dots and a line?"
   ]
  },
  {
   "cell_type": "code",
   "execution_count": 33,
   "metadata": {},
   "outputs": [
    {
     "data": {
      "image/png": "[encoded data removed]",
      "text/plain": [
       "<Figure size 432x288 with 1 Axes>"
      ]
     },
     "metadata": {
      "needs_background": "light"
     },
     "output_type": "display_data"
    }
   ],
   "source": [
    "x = np.linspace(-3,3,100)\n",
    "y = np.exp(-x**2)\n",
    "plt.plot(x,y,\"ko-\"); #black dots and a line on the plot\n",
    "plt.ylabel(\"$e^{-x^2}$ (arb units)\");\n",
    "plt.xlabel(\"x (cm)\")\n",
    "plt.title(\"Plot of $e^{-x^2}$\")\n",
    "plt.show()"
   ]
  },
  {
   "cell_type": "markdown",
   "metadata": {},
   "source": [
    "In this example we have multiple data sets on the plot and a legend. We see the label command being used to pass information into the legend box, and linestyle, color and marker being used to make sure the lines are distinct..."
   ]
  },
  {
   "cell_type": "code",
   "execution_count": 34,
   "metadata": {},
   "outputs": [
    {
     "data": {
      "image/png": "[encoded data removed]",
      "text/plain": [
       "<Figure size 432x288 with 1 Axes>"
      ]
     },
     "metadata": {
      "needs_background": "light"
     },
     "output_type": "display_data"
    }
   ],
   "source": [
    "x = np.linspace(-3,3,100)\n",
    "y = np.exp(-x**2)\n",
    "y1 = np.exp(-x**2/2)\n",
    "y2 = np.exp(-x**2/4)\n",
    "plt.plot(x,y,marker=\"\", color=\"r\",\n",
    "         linestyle=\"--\", label=\"$\\sigma^2 = 1$\")\n",
    "plt.plot(x,y1,color=\"blue\",\n",
    "         label=\"$\\sigma^2 = 2$\")\n",
    "plt.plot(x,y2,color=\"black\",\n",
    "         marker = \"+\", label=\"$\\sigma^2 = 4$\")\n",
    "plt.ylabel(\"$e^{-x^2/\\sigma^2}$ (arb units)\");\n",
    "plt.xlabel(\"x (cm)\")\n",
    "plt.title(\"Plot of $e^{-x^2/\\sigma^2}$\")\n",
    "plt.legend()\n",
    "plt.show()"
   ]
  },
  {
   "cell_type": "code",
   "execution_count": 38,
   "metadata": {},
   "outputs": [
    {
     "data": {
      "image/png": "[encoded data removed]",
      "text/plain": [
       "<Figure size 432x288 with 1 Axes>"
      ]
     },
     "metadata": {
      "needs_background": "light"
     },
     "output_type": "display_data"
    }
   ],
   "source": [
    "phi_m = np.linspace(0, 1, 100)\n",
    "phi_p = np.linspace(0, 1, 100)\n",
    "X,Y = np.meshgrid(phi_p, phi_m)\n",
    "Z = np.sin(X*2*np.pi)*np.cos(Y*2*np.pi)\n",
    "CS = plt.contour(X,Y,Z, colors=\"k\")\n",
    "plt.clabel(CS, fontsize=9, inline=1)\n",
    "plt.xlabel(\"x (cm)\");\n",
    "plt.ylabel(\"y (cm)\");\n",
    "plt.title(\"Second harmonic of $\\phi$ (arb units)\");\n",
    "plt.show()"
   ]
  },
  {
   "cell_type": "code",
   "execution_count": null,
   "metadata": {},
   "outputs": [],
   "source": []
  }
 ],
 "metadata": {
  "kernelspec": {
   "display_name": "Python 3",
   "language": "python",
   "name": "python3"
  },
  "language_info": {
   "codemirror_mode": {
    "name": "ipython",
    "version": 3
   },
   "file_extension": ".py",
   "mimetype": "text/x-python",
   "name": "python",
   "nbconvert_exporter": "python",
   "pygments_lexer": "ipython3",
   "version": "3.8.5"
  }
 },
 "nbformat": 4,
 "nbformat_minor": 4
}
