{
 "cells": [
  {
   "cell_type": "markdown",
   "metadata": {},
   "source": [
    "# Getting Started in Python (Chapter 1), and Digging Deeper... (Chapter 2)\n",
    "\n",
    "\n",
    "## Chapter 1 - Print command, comments, errors, indention"
   ]
  },
  {
   "cell_type": "markdown",
   "metadata": {},
   "source": [
    "Print statements in Python are helpful to us -- we can show users (or ourselves) information as code is being executed. \n"
   ]
  },
  {
   "cell_type": "code",
   "execution_count": null,
   "metadata": {},
   "outputs": [],
   "source": [
    "# Here I enter a string variable and i don't necessarily see it. \n",
    "a=\"Aren't strings used for sewing?\""
   ]
  },
  {
   "cell_type": "code",
   "execution_count": null,
   "metadata": {},
   "outputs": [],
   "source": [
    "a"
   ]
  },
  {
   "cell_type": "markdown",
   "metadata": {},
   "source": [
    "The print statement instead formats our variable in a way that's user friendly and readable. We can do even more fancy things with strings. You can check out [string formatting](https://docs.python.org/3/tutorial/inputoutput.html) docs for this"
   ]
  },
  {
   "cell_type": "code",
   "execution_count": null,
   "metadata": {},
   "outputs": [],
   "source": [
    "print(a)"
   ]
  },
  {
   "cell_type": "markdown",
   "metadata": {},
   "source": [
    "I can also check the `type` of my variable. with the `type()` function"
   ]
  },
  {
   "cell_type": "code",
   "execution_count": null,
   "metadata": {},
   "outputs": [],
   "source": [
    "type(a)"
   ]
  },
  {
   "cell_type": "code",
   "execution_count": null,
   "metadata": {},
   "outputs": [],
   "source": [
    "print(\"Numerical Methods are the Coolest\")\n",
    "## This is a true statement"
   ]
  },
  {
   "cell_type": "code",
   "execution_count": null,
   "metadata": {},
   "outputs": [],
   "source": [
    "#This next line should compute 9*9 + 19 = 100\n",
    "print(9*9 + 19)\n",
    "# Ok, so what if I want to add a comment in my print function? \n",
    "# You can also make comments inside a line, or can you?\n",
    "print(9*9, #+ 19)"
   ]
  },
  {
   "cell_type": "markdown",
   "metadata": {},
   "source": [
    "In Python we can add single line comments with a `#` sign, and a multiline comment with triple quotes, e.g. `\"\"\"` and `\"\"\"` at the start and end of the comment. You've seen me use `#` signs for inline comments in the code so far. Now let's see a multline one. \n"
   ]
  },
  {
   "cell_type": "code",
   "execution_count": null,
   "metadata": {},
   "outputs": [],
   "source": [
    "'''The beginning of a multiline comment.\n",
    "This comment will be followed by meaningless\n",
    "code. Enjoy '''\n",
    "print(\"Did you know there's a eurovision song about Saunas this year?\")"
   ]
  },
  {
   "cell_type": "markdown",
   "metadata": {},
   "source": [
    "Now let's talk about errors and bugs. Python does its best to throw an error for us is something happens that it doesn't expect."
   ]
  },
  {
   "cell_type": "code",
   "execution_count": null,
   "metadata": {},
   "outputs": [],
   "source": [
    "#This is a good bug because the Python interpreter complains\n",
    "9*9 +"
   ]
  },
  {
   "cell_type": "markdown",
   "metadata": {},
   "source": [
    "However, if we correctly enter syntax, the computer does *exactly* what we ask it to do, even if we think we're asking it something else. This is how we get bugs in code that can be hard to track down. "
   ]
  },
  {
   "cell_type": "code",
   "execution_count": null,
   "metadata": {},
   "outputs": [],
   "source": [
    "#This is a bad error because\n",
    "#it doesn’t do what you might think\n",
    "#Say you want to compute (3 + 5)^2 = 8^2 = 64,\n",
    "#but you actually input\n",
    "print(3 + 5**2)\n",
    "#You don’t get the correct answer,\n",
    "# and no one tells you that you’re wrong."
   ]
  },
  {
   "cell_type": "markdown",
   "metadata": {},
   "source": [
    "Now let's talk about Python indentation. Indentation is important in python, and it is sensitive. "
   ]
  },
  {
   "cell_type": "code",
   "execution_count": null,
   "metadata": {},
   "outputs": [],
   "source": [
    "#If I improperly indent, my code won’t work"
   ]
  },
  {
   "cell_type": "markdown",
   "metadata": {},
   "source": [
    "## Numeric variables - integers, floating point numbers, complex numbers - math library\n"
   ]
  },
  {
   "cell_type": "markdown",
   "metadata": {},
   "source": [
    "So far we've used strings as variables. Let's talk more about numerics now and how they're represented on our machines. "
   ]
  },
  {
   "cell_type": "code",
   "execution_count": null,
   "metadata": {},
   "outputs": [],
   "source": [
    "#assign the value 2 to x\n",
    "x = \n",
    "#check that x is an integer\n",
    "print()"
   ]
  },
  {
   "cell_type": "markdown",
   "metadata": {},
   "source": [
    "That's an integer, but we can also represent non-integers as floating point numbers. "
   ]
  },
  {
   "cell_type": "code",
   "execution_count": null,
   "metadata": {},
   "outputs": [],
   "source": [
    "#Now make some other floating point variables\n",
    "y = 4.2\n",
    "print(\"x =\",x)\n",
    "print(type(y))\n",
    "#note that exponentiation is **\n",
    "z = \n",
    "print()"
   ]
  },
  {
   "cell_type": "markdown",
   "metadata": {},
   "source": [
    "### Think-pair-share: have you heard of a library as it relates to programming? What do you think one could be? And why would you use it?  "
   ]
  },
  {
   "cell_type": "markdown",
   "metadata": {},
   "source": [
    "We don't want to have to rewrite every basic function in python. In fact, the scientific ecosystem in Python is substantial and will be extremely useful to us. Some libraries that I particularly like are `numpy`,  `scipy`, and `matplotlib`. Let's use the `math` library here to get the cosine. "
   ]
  },
  {
   "cell_type": "code",
   "execution_count": null,
   "metadata": {},
   "outputs": [],
   "source": [
    "import math\n",
    "#take cosine of a number close to pi\n",
    "#use the exponential to give e\n",
    "print(\"The base of the natural logarithm is\",e)\n",
    "#Python has a built-in pi as well\n",
    "print(\"The value of pi is\",math.pi)"
   ]
  },
  {
   "cell_type": "markdown",
   "metadata": {},
   "source": [
    "In python, we don't have to type out full modules. We can use tab completion. In Jupyter notebooks we also have the ability to look at a function's documentation with the `?`. "
   ]
  },
  {
   "cell_type": "code",
   "execution_count": null,
   "metadata": {},
   "outputs": [],
   "source": [
    "math.exp?"
   ]
  },
  {
   "cell_type": "markdown",
   "metadata": {},
   "source": [
    "We can also get log functions from the math module. "
   ]
  },
  {
   "cell_type": "code",
   "execution_count": null,
   "metadata": {},
   "outputs": [],
   "source": [
    "#Natural log vs. log base 10...\n",
    "print(\"The natural log of 10 is\",)\n",
    "print(\"The log base-10 of 10 is\",)"
   ]
  },
  {
   "cell_type": "markdown",
   "metadata": {},
   "source": [
    "You've seen already that multiplication is `*` and power is `**`. Division is `/`. There are also special characters for integer division and the remainder. "
   ]
  },
  {
   "cell_type": "code",
   "execution_count": null,
   "metadata": {},
   "outputs": [],
   "source": [
    "# integer division: //,      and the modulus (or remainder): %\n",
    "# 7 / 3 is 2 remainder 1"
   ]
  },
  {
   "cell_type": "markdown",
   "metadata": {},
   "source": [
    "In engineering and physics, we'll often need use complex numbers, at times. We can do that with `1j`. "
   ]
  },
  {
   "cell_type": "code",
   "execution_count": null,
   "metadata": {},
   "outputs": [],
   "source": [
    "# With complex numbers, we use 1j to denote the square root of -1\n",
    "z1 = 1.0 + 3.14 * 1j\n",
    "z2 = -6.28 + 2*1j\n",
    "print(z1,\"+\", z2,\"=\", z1+z2)\n",
    "print(z1,\"-\", z2,\"=\", z1-z2)\n",
    "print(z1,\"*\", z2,\"=\", z1*z2)\n",
    "print(z1,\"/\", z2,\"=\", z1/z2)"
   ]
  },
  {
   "cell_type": "markdown",
   "metadata": {},
   "source": [
    "If we'll be using complex numbers with mathematical functions, the `cmath` module is a helpful addition. "
   ]
  },
  {
   "cell_type": "code",
   "execution_count": null,
   "metadata": {},
   "outputs": [],
   "source": [
    "import cmath\n",
    "a = 1.0\n",
    "b = (2 - math.sqrt(2))\n",
    "c = -2*math.sqrt(2)\n",
    "root1 = \n",
    "root2 = \n",
    "print(\"Roots are\",root1,root2)"
   ]
  },
  {
   "cell_type": "markdown",
   "metadata": {},
   "source": [
    "cmath has constants `cmath.pi` and `cmath.e` defined. We can see it in action here. "
   ]
  },
  {
   "cell_type": "code",
   "execution_count": null,
   "metadata": {},
   "outputs": [],
   "source": [
    "print(cmath.exp(cmath.pi*1j))"
   ]
  },
  {
   "cell_type": "markdown",
   "metadata": {},
   "source": [
    "### Think-pair-share: is this number what you'd expect? Why or why not? "
   ]
  },
  {
   "cell_type": "markdown",
   "metadata": {},
   "source": [
    "## Strings and overloading"
   ]
  },
  {
   "cell_type": "code",
   "execution_count": null,
   "metadata": {},
   "outputs": [],
   "source": [
    "#This is a string of a song entered by Estonia to Eurovision in 2025\n",
    "aString = \"Esspresso Macchiato\"\n",
    "print(aString)\n",
    "print(\"aString\")"
   ]
  },
  {
   "cell_type": "markdown",
   "metadata": {},
   "source": [
    "Why do the two print statements return different values? \n",
    "\n",
    "\n",
    "Objects in python that are comprised of smaller objects can also be selected using square bracket `[]` notation. In this case, the string is comprised of a set of characters. The first character is at index number `0`. Note that this is different in other programming languages (indexing errors are VERY common bugs in programming).  "
   ]
  },
  {
   "cell_type": "code",
   "execution_count": null,
   "metadata": {},
   "outputs": [],
   "source": []
  },
  {
   "cell_type": "code",
   "execution_count": null,
   "metadata": {},
   "outputs": [],
   "source": []
  },
  {
   "cell_type": "markdown",
   "metadata": {},
   "source": [
    "To get multiple items we can use the `:` to select between indexes `[from:to]`"
   ]
  },
  {
   "cell_type": "code",
   "execution_count": null,
   "metadata": {},
   "outputs": [],
   "source": []
  },
  {
   "cell_type": "code",
   "execution_count": null,
   "metadata": {},
   "outputs": [],
   "source": []
  },
  {
   "cell_type": "markdown",
   "metadata": {},
   "source": [
    "This can also be chained together to get every other item in the set. "
   ]
  },
  {
   "cell_type": "code",
   "execution_count": null,
   "metadata": {},
   "outputs": [],
   "source": []
  },
  {
   "cell_type": "markdown",
   "metadata": {},
   "source": [
    "What if you want to get the last number in the list? We can use `len()` to get the length of the string. "
   ]
  },
  {
   "cell_type": "code",
   "execution_count": null,
   "metadata": {},
   "outputs": [],
   "source": []
  },
  {
   "cell_type": "markdown",
   "metadata": {},
   "source": [
    "Or we could use a special ending selector. "
   ]
  },
  {
   "cell_type": "code",
   "execution_count": null,
   "metadata": {},
   "outputs": [],
   "source": []
  },
  {
   "cell_type": "code",
   "execution_count": null,
   "metadata": {
    "scrolled": true
   },
   "outputs": [],
   "source": []
  },
  {
   "cell_type": "markdown",
   "metadata": {},
   "source": [
    "Strings can be added together. \n",
    "\n",
    "\n",
    "### Think-pair-share: What do you think happens when two strings are added together? "
   ]
  },
  {
   "cell_type": "code",
   "execution_count": null,
   "metadata": {},
   "outputs": [],
   "source": [
    "# Some more lyrics for this song\n"
   ]
  },
  {
   "cell_type": "markdown",
   "metadata": {},
   "source": [
    "Note here that the space is a part of the string, so we need to include it. "
   ]
  },
  {
   "cell_type": "code",
   "execution_count": null,
   "metadata": {
    "scrolled": true
   },
   "outputs": [],
   "source": []
  },
  {
   "cell_type": "markdown",
   "metadata": {},
   "source": [
    "We just added strings. Do you think you can multiply them? "
   ]
  },
  {
   "cell_type": "code",
   "execution_count": null,
   "metadata": {},
   "outputs": [],
   "source": []
  },
  {
   "cell_type": "markdown",
   "metadata": {},
   "source": [
    "Addition and multiplication work well with strings, but subtraction and division are less straightforward. "
   ]
  },
  {
   "cell_type": "code",
   "execution_count": null,
   "metadata": {},
   "outputs": [],
   "source": []
  },
  {
   "cell_type": "markdown",
   "metadata": {},
   "source": [
    "## Input"
   ]
  },
  {
   "cell_type": "markdown",
   "metadata": {},
   "source": [
    "Often, we'll want a user or some input added to the code when we're using it. The `input` command is a place where we can query the user for a variable and then use it later. \n",
    "\n",
    "\n",
    "Aside: asking for input interactively is not always necessary. In your future studies you will see `input files` as common places where lots of variables and the problem will be defined. "
   ]
  },
  {
   "cell_type": "code",
   "execution_count": null,
   "metadata": {},
   "outputs": [],
   "source": [
    "user_value = input(\"Enter a number: \")"
   ]
  },
  {
   "cell_type": "code",
   "execution_count": null,
   "metadata": {},
   "outputs": [],
   "source": [
    "user_value*3 "
   ]
  },
  {
   "cell_type": "markdown",
   "metadata": {},
   "source": [
    "Think-pair-share: What does this tell us about the dtype of `user_value`? "
   ]
  },
  {
   "cell_type": "code",
   "execution_count": null,
   "metadata": {},
   "outputs": [],
   "source": [
    "type(user_value) "
   ]
  },
  {
   "cell_type": "markdown",
   "metadata": {},
   "source": [
    "So, we'll need to convert the value to a type that is useful to us. "
   ]
  },
  {
   "cell_type": "code",
   "execution_count": null,
   "metadata": {},
   "outputs": [],
   "source": []
  },
  {
   "cell_type": "markdown",
   "metadata": {},
   "source": [
    "## Branching"
   ]
  },
  {
   "cell_type": "markdown",
   "metadata": {},
   "source": [
    "Sometimes we'll want to execute code differently depending on some conditions. We can use conditional statements `if`, `else`, `elif` to execute code when a particular condition is met. \n",
    "\n",
    "Note that we can have multiple elif statements, but these will be read in sequential order. You can imagine that it is possible a situation could happen where your conditional statements may have overlap and you can get unexpected behavior. "
   ]
  },
  {
   "cell_type": "code",
   "execution_count": null,
   "metadata": {},
   "outputs": [],
   "source": [
    "coffee_opinion=input(\"How much milk do you want with your espresso? \")\n",
    "coffee = \"\"\n",
    "if (coffee_opinion == \"a little\"):\n",
    "    coffee = \"Cappuccino\"\n",
    "elif (coffee_opinion == \"a lot\"):\n",
    "    coffee = \"Latte\"\n",
    "else:\n",
    "    coffee = \"Americano\"\n",
    "print(coffee)"
   ]
  },
  {
   "cell_type": "markdown",
   "metadata": {},
   "source": [
    "### Think-pair-share: Do you see the `==` and `=` in the above cell? What do each mean? "
   ]
  },
  {
   "cell_type": "markdown",
   "metadata": {},
   "source": [
    "In conditionals we don't have to check for equality. We can also use `<`, `<=`, `>`, `>=`, and `!=`. \n",
    "\n",
    "Under the hood, these conditionals execute if something is `True`. \n",
    "\n",
    "Python also has logic with `is` and `not`. Note that `is` and `not` do different things than `==`. "
   ]
  },
  {
   "cell_type": "code",
   "execution_count": null,
   "metadata": {},
   "outputs": [],
   "source": []
  },
  {
   "cell_type": "markdown",
   "metadata": {},
   "source": [
    "Earlier we talked about floating point numbers. Floating point is a way to represent real numbers (non integers) on our machine. However, computers can be limited in the way they represent numbers. "
   ]
  },
  {
   "cell_type": "code",
   "execution_count": null,
   "metadata": {},
   "outputs": [],
   "source": []
  },
  {
   "cell_type": "code",
   "execution_count": null,
   "metadata": {},
   "outputs": [],
   "source": []
  },
  {
   "cell_type": "markdown",
   "metadata": {},
   "source": [
    "### Think-pair-share: What do you think this means about how we deal with numerical values and control flow? "
   ]
  },
  {
   "cell_type": "code",
   "execution_count": null,
   "metadata": {},
   "outputs": [],
   "source": [
    "#Checking if two numbers are close to each other can be tricky...\n",
    "import math\n",
    "pi_approx = 22/7\n",
    "if math.fabs(pi_approx - math.pi) < 1.0e-6:\n",
    "    print(\"Yes, that is a good approximation\")\n",
    "else:\n",
    "    print(\"No,\",pi_approx, \n",
    "          \"is not a good approximation of\", \n",
    "          math.pi,\".\")"
   ]
  },
  {
   "cell_type": "markdown",
   "metadata": {},
   "source": [
    "## Iteration"
   ]
  },
  {
   "cell_type": "markdown",
   "metadata": {},
   "source": [
    "In the previous example, we saw that our approximation was not good within our desired tolerance. We can use iteration to repeatedly do a task until we reach a tolerance we desire. In this case, we can use a `while` condition, and `while` the condition is True, the code will continue to execute. "
   ]
  },
  {
   "cell_type": "code",
   "execution_count": null,
   "metadata": {},
   "outputs": [],
   "source": [
    "#this code finds a decent approximation to pi\n",
    "converged = 0\n",
    "guess = 3.14\n",
    "iteration = 0\n",
    "#Define tolerance for approximating pi\n",
    "eps = 1.0e-6\n",
    "#converged will be 0 if false, 1 if true\n",
    "converged = math.fabs(guess - math.pi) < eps\n",
    "while (converged == 0):\n",
    "    guess = guess + eps/2\n",
    "    converged = math.fabs(guess - math.pi) < eps\n",
    "    iteration += 1 #same as iteration = iteration + 1\n",
    "print(\"Our approximation of pi is\", guess)\n",
    "print(\"It took us\", iteration,\"guesses to approximate pi\")"
   ]
  },
  {
   "cell_type": "code",
   "execution_count": null,
   "metadata": {},
   "outputs": [],
   "source": [
    "print(converged)\n",
    "print(converged == 1)"
   ]
  },
  {
   "cell_type": "markdown",
   "metadata": {},
   "source": [
    "## Chapter 2 - More Python!!\n",
    "\n",
    "### First numerical program. \n",
    "\n",
    "Suppose we need to compute \n",
    "\n",
    "$$y = \\frac{1}{\\sqrt{x}}$$, \n",
    "\n",
    "but we don't want to use the built in function in the math library, because, well, I don't know...\n",
    "\n",
    "We could instead seek (by guessing and iterating...) the value of $y$ that satistifes this equation: \n",
    "\n",
    "$$y \\sqrt{x} -1 = 0.$$\n",
    "\n",
    "For any guess $y_i$, the residual is what is calculated when you stick the guess into the equation: \n",
    "\n",
    "$$ \\text{residual} = y_i \\sqrt{x} -1.$$\n",
    "\n",
    "[When $y_i$ is equal to $y$, the residual will be zero.] We also know that if the residual is very small, we are close to the answer. \n",
    "\n",
    "If we assume that $x>1$, then we know that\n",
    "\n",
    "$$ x >  \\frac{1}{\\sqrt{x}}.$$\n",
    "\n",
    "This means that if we start with a guess for $x$ that is greater than 1, we can keep decreasing the guess and we should get closer and closer to the right answer.  *Exhaustive enumeration*\n"
   ]
  },
  {
   "cell_type": "code",
   "execution_count": null,
   "metadata": {},
   "outputs": [],
   "source": [
    "#this code computes 1/sqrt(x), for x > 1\n",
    "import math\n",
    "x = float(input(\"Enter a number greater than 1: \"))\n",
    "if (x<=1):\n",
    "    print(\"I said a number greater than 1\")\n",
    "else:\n",
    "    converged = 0\n",
    "    answer = x #initial guess is x\n",
    "    eps = 1.0e-6 #the residual tolerance\n",
    "    converged = math.fabs(answer * math.sqrt(x) - 1.0) < eps\n",
    "    iteration = 0\n",
    "    while not(converged):\n",
    "        answer = answer - 0.5*eps\n",
    "        converged = math.fabs(answer * math.sqrt(x) - 1.0) < eps\n",
    "        iteration += 1\n",
    "    print(\"1/sqrt(\",x,\") =\",answer)\n",
    "    print(\"It took\",iteration,\"guesses to get that answer.\")"
   ]
  },
  {
   "cell_type": "markdown",
   "metadata": {},
   "source": [
    "This is a slow algorithm. However, starting with a clear solution (even if it is slow) is a perfectly acceptable start when we approach problems programattically. We can always refine and optimize our code once we have an initial approach (and often, this is a good way to help avoid bugs). \n",
    "\n",
    "\n",
    "One improvement that we can make is that if we can bracket the solution (check if it lies between particular numbers), then we can use *bisection* to repeatedly pin down the root of the equation in a smaller and smaller interval until we are satisfied.\n",
    "\n",
    "We know, for example, that the answer is between $1/x$ and $x$ for $x>1$. We can then check to see which half of the interval the solution is in and *then* proceed with that information. "
   ]
  },
  {
   "cell_type": "code",
   "execution_count": null,
   "metadata": {},
   "outputs": [],
   "source": [
    "#this code computes 1/sqrt(x), for x > 1\n"
   ]
  },
  {
   "cell_type": "markdown",
   "metadata": {},
   "source": [
    "## For loops"
   ]
  },
  {
   "cell_type": "markdown",
   "metadata": {},
   "source": [
    "While loops can be very powerful, but we saw that we want to be careful with tolerances. (With floating point numbers it is possible you could never reach a condition to turn the loop off! So your loop will be infinite!\n",
    "\n",
    "What if we want to do an iteration for a particular number of times? With a while loop we'll need to create a counter to keep track of. "
   ]
  },
  {
   "cell_type": "code",
   "execution_count": null,
   "metadata": {},
   "outputs": [],
   "source": [
    "#Some code that counts to ten\n",
    "count = 1\n",
    "while (count <= 10):\n",
    "    print(count)\n",
    "    count += 1"
   ]
  },
  {
   "cell_type": "markdown",
   "metadata": {},
   "source": [
    "Instead, we can use `for` loops, where we iterate through logic for a particular number of times. This is an `iterator`, where code is executed once for each object in the data structure. "
   ]
  },
  {
   "cell_type": "code",
   "execution_count": null,
   "metadata": {},
   "outputs": [],
   "source": []
  },
  {
   "cell_type": "markdown",
   "metadata": {},
   "source": [
    "Note here that I used the `range` function. `range` takes up to three inputs (start, stop, step). It increments by `step` (defaulting to 1), starts with start, and increments up to (but not including) the stop value. "
   ]
  },
  {
   "cell_type": "code",
   "execution_count": null,
   "metadata": {},
   "outputs": [],
   "source": [
    "print(list(range(1,10)))\n",
    "#the list command tells Python to write out the range"
   ]
  },
  {
   "cell_type": "code",
   "execution_count": null,
   "metadata": {},
   "outputs": [],
   "source": [
    "#These should be the same\n",
    "print(list(range(0,10)))\n",
    "print(list(range(10)))"
   ]
  },
  {
   "cell_type": "code",
   "execution_count": null,
   "metadata": {},
   "outputs": [],
   "source": [
    "#Here’s something using the step parameter\n",
    "print(list(range(0,10,2)))"
   ]
  },
  {
   "cell_type": "markdown",
   "metadata": {},
   "source": [
    "Let's try a more fun example with for loops. \n",
    "\n",
    "Let's pick random points in a unit sphere to compute an estimate of $\\pi$."
   ]
  },
  {
   "cell_type": "code",
   "execution_count": null,
   "metadata": {},
   "outputs": [],
   "source": [
    "'''Compute pi by picking random points between x = -1 and 1,\n",
    "y = -1 and 1. The fraction of points\n",
    "such that x^2 + y^2 < 1, compared with the total number\n",
    "of points is an approximation to pi/4'''\n",
    "import random\n",
    "number_of_points = 10**8\n",
    "number_inside_circle = 0\n",
    "random.seed() #this seeds the random number generator\n",
    "for point in range(number_of_points):\n",
    "    ## FILL IN THIS FUNCTION.\n",
    "pi_approx = 4.0*number_inside_circle/number_of_points\n",
    "print(\"With\",number_of_points,\n",
    "      \"points our approximation to pi is\",pi_approx)"
   ]
  },
  {
   "cell_type": "markdown",
   "metadata": {},
   "source": [
    "We'll cover plotting in a future lecture. But let's take a look at what this will look like visually! "
   ]
  },
  {
   "cell_type": "code",
   "execution_count": null,
   "metadata": {},
   "outputs": [],
   "source": [
    "%matplotlib inline"
   ]
  },
  {
   "cell_type": "code",
   "execution_count": null,
   "metadata": {},
   "outputs": [],
   "source": [
    "import numpy as np\n",
    "import matplotlib.pyplot as plt\n",
    "#pick our points\n",
    "number_of_points = 10**3\n",
    "x = np.random.uniform(-1,1,number_of_points)\n",
    "y = np.random.uniform(-1,1,number_of_points)\n",
    "#compute pi\n",
    "pi_approx = 4.0*np.sum(x**2 + y**2 <= 1)/number_of_points\n",
    "\n",
    "maize = \"#ffcb05\"\n",
    "blue = \"#00274c\"\n",
    "fig = plt.figure(figsize=(8,6), dpi=600)\n",
    "#scatter plot with hex color\n",
    "plt.scatter(x, y, alpha=0.5, color=maize)\n",
    "#draw a circle of radius 1 with center (0,0)\n",
    "circle = plt.Circle((0,0),1,color=blue, alpha=0.7,\n",
    "fill=False, linewidth=4)\n",
    "#add the circle to the plot\n",
    "plt.gca().add_patch(circle)\n",
    "#make sure that the axes are square so that our circle is circular\n",
    "plt.axis('equal')\n",
    "#set axes bounds: axis([min x, max x, min y, max y])\n",
    "plt.axis([-1,1,-1,1])\n",
    "#make the title have the approximation to pi\n",
    "plt.title(\"$\\\\pi \\\\approx $\" + str(pi_approx))\n",
    "plt.figure(figsize=(3,2))\n",
    "#show the plot\n",
    "plt.show()"
   ]
  },
  {
   "cell_type": "markdown",
   "metadata": {},
   "source": [
    "We can use for loops on any object that can be iterated upon. For example, let's look at a list. \n"
   ]
  },
  {
   "cell_type": "code",
   "execution_count": null,
   "metadata": {},
   "outputs": [],
   "source": [
    "#silly hat code\n",
    "hats = [\"fedora\",\"trilby\",\"porkpie\",\"tam o’shanter\",\n",
    "        \"Phrygian cap\",\"Beefeaters’ hat\",\"sombrero\"]\n",
    "days = [\"Monday\",\"Tuesday\",\"Wednesday\",\"Thursday\",\n",
    "        \"Friday\",\"Saturday\",\"Sunday\"]\n",
    "count = 0\n",
    "for today in hats:\n",
    "    ## print a day and a hat in a sentence."
   ]
  },
  {
   "cell_type": "markdown",
   "metadata": {},
   "source": [
    "To get the same item in another list, I needed to create a variable to index where I was in the list. \n",
    "\n",
    "But I can also randomly choose (rather than wearing the same hat the same day each week!). "
   ]
  },
  {
   "cell_type": "code",
   "execution_count": null,
   "metadata": {},
   "outputs": [],
   "source": [
    "#sillier hat code\n",
    "import random\n",
    "hats = [\"fedora\",\"trilby\",\"porkpie\",\"tam o’shanter\",\n",
    "        \"Phrygian cap\",\"Beefeaters’ hat\",\"sombrero\"]\n",
    "days = [\"Monday\",\"Tuesday\",\"Wednesday\",\"Thursday\",\n",
    "        \"Friday\",\"Saturday\",\"Sunday\"]\n",
    "for count in range(30):\n",
    "    # make a random choice to print a day and a hat in a sentence. "
   ]
  },
  {
   "cell_type": "markdown",
   "metadata": {},
   "source": [
    "## Lists and Tuples"
   ]
  },
  {
   "cell_type": "markdown",
   "metadata": {},
   "source": [
    "Lists are special in Python. They can contain any collection of objects (strings, floats, ints, whatever!) and different objects within the list. "
   ]
  },
  {
   "cell_type": "code",
   "execution_count": null,
   "metadata": {},
   "outputs": [],
   "source": [
    "hats = [\"fedora\",\"trilby\",\"porkpie\",\"tam o’shanter\",\"Phrygian cap\",\n",
    "\"Beefeaters’ hat\",\"sombrero\"]\n",
    "print(hats)"
   ]
  },
  {
   "cell_type": "markdown",
   "metadata": {},
   "source": [
    "just like we indexed with strings earlier in this lesson, we can get a particular value from a list with square bracket notation `[]`"
   ]
  },
  {
   "cell_type": "code",
   "execution_count": null,
   "metadata": {},
   "outputs": [],
   "source": [
    "hats[2]"
   ]
  },
  {
   "cell_type": "code",
   "execution_count": null,
   "metadata": {},
   "outputs": [],
   "source": [
    "print(hats[3:7])"
   ]
  },
  {
   "cell_type": "markdown",
   "metadata": {},
   "source": [
    "We can also add and remove objects from a list. "
   ]
  },
  {
   "cell_type": "code",
   "execution_count": null,
   "metadata": {},
   "outputs": [],
   "source": [
    "hats.append(# pick a hat)\n",
    "print(hats)"
   ]
  },
  {
   "cell_type": "code",
   "execution_count": null,
   "metadata": {},
   "outputs": [],
   "source": [
    "hats.remove(#pick a hat)\n",
    "print(hats)"
   ]
  },
  {
   "cell_type": "code",
   "execution_count": null,
   "metadata": {},
   "outputs": [],
   "source": [
    "#Lists can contain different types of items\n",
    "my_list = [\"Item 0\", \"Item 1\", 2]\n",
    "print(my_list)"
   ]
  },
  {
   "cell_type": "code",
   "execution_count": null,
   "metadata": {},
   "outputs": [],
   "source": [
    "len(my_list)"
   ]
  },
  {
   "cell_type": "markdown",
   "metadata": {},
   "source": [
    "The `in` operator can be used to see if an object is contained within a collection. It will return `True` if it is, and `False` if it is not. "
   ]
  },
  {
   "cell_type": "code",
   "execution_count": null,
   "metadata": {},
   "outputs": [],
   "source": [
    "\"Item 2\" in my_list"
   ]
  },
  {
   "cell_type": "code",
   "execution_count": null,
   "metadata": {},
   "outputs": [],
   "source": [
    "2 in my_list"
   ]
  },
  {
   "cell_type": "code",
   "execution_count": null,
   "metadata": {},
   "outputs": [],
   "source": [
    "#Plus operator is overloaded to concatenate two lists...\n",
    "print(my_list+hats)"
   ]
  },
  {
   "cell_type": "markdown",
   "metadata": {},
   "source": [
    "Lists are created with square brackets. If we use round brackets `()`, we create a different object, called a tuple. Tuples are special because they are immutable. That is, they can't be changed after they are initially defined. "
   ]
  },
  {
   "cell_type": "code",
   "execution_count": null,
   "metadata": {},
   "outputs": [],
   "source": [
    "#Tuple - regular parentheses...\n",
    "hats_tuple = (\"fedora\",\"trilby\",\"porkpie\",\n",
    "\"tam o’shanter\",\"Phrygian cap\",\n",
    "\"Beefeaters’ hat\",\"sombrero\")\n",
    "print(hats_tuple)"
   ]
  },
  {
   "cell_type": "code",
   "execution_count": null,
   "metadata": {},
   "outputs": [],
   "source": [
    "hats_tuple[1]"
   ]
  },
  {
   "cell_type": "code",
   "execution_count": null,
   "metadata": {},
   "outputs": [],
   "source": [
    "hats_tuple[1] = # choose a different hat to replace. "
   ]
  },
  {
   "cell_type": "code",
   "execution_count": null,
   "metadata": {},
   "outputs": [],
   "source": []
  }
 ],
 "metadata": {
  "kernelspec": {
   "display_name": "Python 3 (ipykernel)",
   "language": "python",
   "name": "python3"
  },
  "language_info": {
   "codemirror_mode": {
    "name": "ipython",
    "version": 3
   },
   "file_extension": ".py",
   "mimetype": "text/x-python",
   "name": "python",
   "nbconvert_exporter": "python",
   "pygments_lexer": "ipython3",
   "version": "3.13.2"
  }
 },
 "nbformat": 4,
 "nbformat_minor": 4
}
