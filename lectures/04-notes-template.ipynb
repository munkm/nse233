{
 "cells": [
  {
   "cell_type": "markdown",
   "metadata": {},
   "source": [
    "# Lecture 4 - Dictionaries and Functions as Arguments (Chapter 5)\n",
    "\n",
    "Housekeeping item:\n",
    "\n",
    "Today we'll be using the `ChemicalSymbols.csv` and `ChemicalSymbolsZ.csv` files in the miscellaneous files module on canvas. Download it and put it alongside our lecture notes for today. \n",
    "\n",
    "## Dictionaries\n",
    "\n",
    "Dictionaries are another data type in Python that is useful for complex data representation (like arrays). Dictionaries are special lists where the elements are accessed via special names, called keys.\n",
    "\n",
    "More technically, a dictionary is a set of key:value pairs.  The key is the analog to the index of a list, and is, in effect the name of the item.  Dictionaries are defined using curly braces: { }"
   ]
  },
  {
   "cell_type": "code",
   "execution_count": null,
   "metadata": {},
   "outputs": [],
   "source": [
    "#simple dictionary\n",
    "days_of_week = {\"M\":\"Monday\", \"T\":\"Tuesday\",\n",
    "                \"W\":\"Wednesday\", \"R\":\"Thursday\",\n",
    "                \"F\":\"Friday\", \"S\":\"Saturday\",\n",
    "                \"U\":\"Sunday\"}\n",
    "print(\"Key M gives\", ## FILL IN)\n",
    "print(\"Key R gives\", ## FILL IN)\n",
    "#is G a key in days_of_week?\n"
   ]
  },
  {
   "cell_type": "markdown",
   "metadata": {},
   "source": [
    "What happens when we try to access an item that isn't in the dictionary? "
   ]
  },
  {
   "cell_type": "code",
   "execution_count": null,
   "metadata": {},
   "outputs": [],
   "source": []
  },
  {
   "cell_type": "markdown",
   "metadata": {},
   "source": [
    "Here's a cool example of creating a dictionary that relates the chemical symbol for an element to its name.  Also, we use the csv library to import a file in the comma-separated-value (csv) format. First let's take a look at the file: "
   ]
  },
  {
   "cell_type": "code",
   "execution_count": null,
   "metadata": {},
   "outputs": [],
   "source": [
    "!cat ChemicalSymbols.csv | head -n 5"
   ]
  },
  {
   "cell_type": "markdown",
   "metadata": {},
   "source": [
    "Now let's load the file into a dictionary object. "
   ]
  },
  {
   "cell_type": "code",
   "execution_count": null,
   "metadata": {},
   "outputs": [],
   "source": [
    "import csv\n",
    "#create an empty dictionary\n",
    "element_dict = {}\n",
    "#this block will only execute if the file opens\n",
    "with open(\"ChemicalSymbols.csv\") as csvfile:\n",
    "    chemreader = csv.reader(csvfile)\n",
    "    #have for loop that loops over each line\n",
    "    #add a key:value pair"
   ]
  },
  {
   "cell_type": "code",
   "execution_count": null,
   "metadata": {},
   "outputs": [],
   "source": [
    "key = str(input(\"Enter a valid chemical symbol: \"))\n",
    "if key in element_dict:\n",
    "    print(key,\"is\",element_dict[key])\n",
    "else:\n",
    "    print(\"Not a valid element\")"
   ]
  },
  {
   "cell_type": "markdown",
   "metadata": {},
   "source": [
    "Note: \n",
    "* Shift+Enter with the input option will make the cell keep trying to execute. Use a simple Enter after inputting the element you want. \n",
    "* line endings have different representations in UNIX and DOS systems.\n",
    "\n",
    "\n",
    "That was a rather fancy way of accessing the element in the dictionary. Under the hood, we accessed the `value` of the element by using the `key`. Because this is a dictionary, it may be helpful to think of the `key` as a word, and `value` as the definition or variable associated with the word. "
   ]
  },
  {
   "cell_type": "code",
   "execution_count": null,
   "metadata": {},
   "outputs": [],
   "source": [
    "element_dict[# THE ELEMENT WE CHOSE]"
   ]
  },
  {
   "cell_type": "markdown",
   "metadata": {},
   "source": [
    "As crazy as it sounds, you can also have dictionaries of dictionaries: the value in the key:value pair can be another dictionary!  Crazy..."
   ]
  },
  {
   "cell_type": "code",
   "execution_count": null,
   "metadata": {},
   "outputs": [],
   "source": [
    "#simple dictionary of dictionaries\n",
    "days_of_week = {\"M\":{\"name\":\"Monday\",\"weekday\":True,\"weekend\":False},\n",
    "                \"T\":{\"name\":\"Tuesday\",\"weekday\":True,\"weekend\":False},\n",
    "                \"W\":{\"name\":\"Wednesday\",\"weekday\":True,\"weekend\":False},\n",
    "                \"R\":{\"name\":\"Thursday\",\"weekday\":True,\"weekend\":False},\n",
    "                \"F\":{\"name\":\"Friday\",\"weekday\":True,\"weekend\":False},\n",
    "                \"S\":{\"name\":\"Saturday\",\"weekday\":False,\"weekend\":True},\n",
    "                \"U\":{\"name\":\"Sunday\",\"weekday\":False,\"weekend\":True}}\n",
    "print(\"The days that are weekdays:\")\n",
    "for day in days_of_week: #for loop over dictionary, loops over keys\n",
    "    if days_of_week[day][\"weekday\"] == True:\n",
    "        print(days_of_week[day][\"name\"],\"is a weekday. More coffee please.\")\n",
    "for day in days_of_week: #for loop over dictionary, loops over keys\n",
    "    if days_of_week[day][\"weekend\"] == True:\n",
    "        print(days_of_week[day][\"name\"],\"is a weekend, woohoo!!!!!!!!!!\")"
   ]
  },
  {
   "cell_type": "markdown",
   "metadata": {},
   "source": [
    "This was a pretty trivial example. \n",
    "\n",
    "## Think-pair-share: what kinds of data might you represent with a nested dictionary? "
   ]
  },
  {
   "cell_type": "markdown",
   "metadata": {},
   "source": [
    "Let's go back and try some more loading. Now we'll access a different file that sorts elements by their atomic number. Peeking at the file.... "
   ]
  },
  {
   "cell_type": "code",
   "execution_count": null,
   "metadata": {},
   "outputs": [],
   "source": [
    "!cat ChemicalSymbolsZ.csv | head -n 5"
   ]
  },
  {
   "cell_type": "code",
   "execution_count": null,
   "metadata": {},
   "outputs": [],
   "source": [
    "import csv\n",
    "element_dict = {} #create a blank dictionary\n",
    "#this block will only execute if the file opens\n",
    "with open(\"ChemicalSymbolsZ.csv\") as csvfile:\n",
    "    chemreader = csv.reader(csvfile)\n",
    "    #have for loop that loops over each row\n",
    "    for row in chemreader:\n",
    "        #add a key:value pair\n",
    "        # FILL IN DICT"
   ]
  },
  {
   "cell_type": "code",
   "execution_count": null,
   "metadata": {},
   "outputs": [],
   "source": [
    "key = input(\"Enter a valid atomic number: \")\n",
    "if key in element_dict:\n",
    "    print(key,\"is\",element_dict[key][\"symbol\"],\n",
    "          \":\",element_dict[key][\"name\"])\n",
    "else:\n",
    "    print(\"Not a valid element\")"
   ]
  },
  {
   "cell_type": "markdown",
   "metadata": {},
   "source": [
    "This is the same thing as doing: "
   ]
  },
  {
   "cell_type": "code",
   "execution_count": null,
   "metadata": {},
   "outputs": [],
   "source": [
    "element_dict['12']"
   ]
  },
  {
   "cell_type": "markdown",
   "metadata": {},
   "source": [
    "## Quick Check: Why do you think I used '' around the 12? "
   ]
  },
  {
   "cell_type": "code",
   "execution_count": null,
   "metadata": {},
   "outputs": [],
   "source": []
  },
  {
   "cell_type": "code",
   "execution_count": null,
   "metadata": {},
   "outputs": [],
   "source": []
  },
  {
   "cell_type": "markdown",
   "metadata": {},
   "source": [
    "*Dictionary Example*: We can use the dictionary of dictionaries to develop a function that will compute the product of an alpha decay:"
   ]
  },
  {
   "cell_type": "code",
   "execution_count": null,
   "metadata": {},
   "outputs": [],
   "source": [
    "def alpha_decay(Z,A,elements):\n",
    "    \"\"\"Alpha decay a nuclide\n",
    "    Args:\n",
    "        Z: atomic number of nuclide\n",
    "        A: mass number of nuclide\n",
    "        elements: dictionary of elements\n",
    "        Returns:\n",
    "            Z and A of daughter nuclide (both ints)\n",
    "    Side effects:\n",
    "        Prints a descriptive string of the decay\n",
    "        \"\"\"\n",
    "    newZ = int(Z) - 2 #lose two protons in alpha decay\n",
    "    newA = int(A) - 4 #lose four nucleons in alpha decay\n",
    "    print(elements[str(Z)][\"name\"],\"-\",A,\"(\",\n",
    "          elements[str(Z)][\"symbol\"],\"-\",A,\"), alpha decays to\",\n",
    "          elements[str(newZ)][\"name\"],\"-\",newA,\"(\",\n",
    "          elements[str(newZ)][\"symbol\"],\"-\",newA,\")\")\n",
    "    return newZ,newA\n",
    "\n",
    "z_value = input(\"Enter the Z of the nuclide: \")\n",
    "a_value = input(\"Enter the mass number of the nuclide: \")\n",
    "Z,A = alpha_decay(z_value, a_value, element_dict)"
   ]
  },
  {
   "cell_type": "code",
   "execution_count": null,
   "metadata": {},
   "outputs": [],
   "source": [
    "#alpha decay something 10 times\n",
    "Z = # USE Z from BEFORE\n",
    "A = # USE A FROM BEFORE\n",
    "for decays in range(10):\n",
    "    Z,A = alpha_decay(Z, A, element_dict)"
   ]
  },
  {
   "cell_type": "markdown",
   "metadata": {},
   "source": [
    "*Another example*: keeping data about different nuclear fuel types.  Two fuel types: LEU (low enriched uranium) and HEU (highly enriched uranium)..."
   ]
  },
  {
   "cell_type": "code",
   "execution_count": null,
   "metadata": {},
   "outputs": [],
   "source": [
    "import matplotlib.pyplot as plt\n",
    "fuel_types = {}\n",
    "fuel_types[\"heu\"] = {\"fuel\":{\"nu sigma_f\":12.0,\n",
    "                             \"D\":3.0, \"thickness\":5.0},\n",
    "                     \"clad\":{\"nu sigma_f\":0.0, \n",
    "                             \"D\":300.0, \"thickness\":0.5}}\n",
    "fuel_types[\"leu\"] = {\"fuel\":{\"nu sigma_f\":8.5,\n",
    "                             \"D\":1.25, \"thickness\":4.25},\n",
    "                     \"clad\":{\"nu sigma_f\":0.0,\n",
    "                             \"D\":300.0, \"thickness\":1.25}}\n",
    "#plot heu\n",
    "#heu fuel\n",
    "fuel_radius = fuel_types[\"heu\"][\"fuel\"][\"thickness\"]\n",
    "clad_radius = fuel_radius + fuel_types[\"heu\"][\"clad\"][\"thickness\"]\n",
    "fuel = plt.Circle((0,0),fuel_radius,\n",
    "                  facecolor=\"white\",label=\"Fuel\", hatch=\"//\")\n",
    "clad = plt.Circle((0,0),clad_radius,color=\"gray\",label=\"Clad\")\n",
    "fig = plt.figure(figsize=(8,6), dpi=600)\n",
    "plt.gca().add_patch(clad)\n",
    "plt.gca().add_patch(fuel)\n",
    "plt.title(\"HEU Fuel\")\n",
    "plt.axis(\"equal\")\n",
    "plt.legend()\n",
    "plt.axis([-clad_radius,clad_radius,-clad_radius,clad_radius])\n",
    "plt.show();"
   ]
  },
  {
   "cell_type": "markdown",
   "metadata": {},
   "source": [
    "We can do the same thing for the LEU fuel:"
   ]
  },
  {
   "cell_type": "code",
   "execution_count": null,
   "metadata": {},
   "outputs": [],
   "source": [
    "fuel_radius = fuel_types[\"leu\"][\"fuel\"][\"thickness\"]\n",
    "clad_radius = fuel_radius + fuel_types[\"leu\"][\"clad\"][\"thickness\"]\n",
    "fig = plt.figure(figsize=(8,6), dpi=600)\n",
    "fuel = plt.Circle((0,0),fuel_radius,\n",
    "                  facecolor=\"white\",label=\"Fuel\", hatch=\"+\")\n",
    "clad = plt.Circle((0,0),clad_radius,color=\"gray\",label=\"Clad\")\n",
    "plt.gca().add_patch(clad)\n",
    "plt.gca().add_patch(fuel)\n",
    "plt.title(\"LEU Fuel\")\n",
    "plt.axis(\"equal\")\n",
    "plt.legend()\n",
    "plt.axis([-clad_radius,clad_radius,-clad_radius,clad_radius])\n",
    "plt.show();"
   ]
  },
  {
   "cell_type": "markdown",
   "metadata": {},
   "source": [
    "So we have two different fuel pins. One for HEU and one for LEU. We can use these definitions and build a 10x10 lattice of fuel elements. "
   ]
  },
  {
   "cell_type": "code",
   "execution_count": null,
   "metadata": {},
   "outputs": [],
   "source": [
    "import numpy as np\n",
    "fuel_placements = {}\n",
    "#10 x 10 lattice with 0.5 cm spacing\n",
    "#every third pin is heu\n",
    "x = np.arange(6.,120,12)\n",
    "y = np.arange(6.,120,12)\n",
    "fig = plt.figure(figsize=(7,6), dpi=600)\n",
    "count = 1 #set up counting variable\n",
    "for i in x:\n",
    "    for j in y:\n",
    "        if not(count % 3): #if count mod 3 is 0, then heu\n",
    "            pin_type = \"heu\"\n",
    "            hatch = \"/\"\n",
    "        else: #else leu\n",
    "            pin_type = \"leu\"\n",
    "            hatch = \"+\"\n",
    "        fuel_radius = fuel_types[pin_type][\"fuel\"][\"thickness\"]\n",
    "        clad_radius = fuel_radius + fuel_types[pin_type][\"clad\"][\"thickness\"]\n",
    "        fuel = plt.Circle((i,j),fuel_radius,facecolor=\"white\",\n",
    "                          edgecolor=\"black\",hatch=hatch,\n",
    "                          label=\"Fuel\")\n",
    "        clad = plt.Circle((i,j),clad_radius,color=\"gray\",label=\"Clad\")\n",
    "        plt.gca().add_patch(clad)\n",
    "        plt.gca().add_patch(fuel)\n",
    "        count += 1 #increment count\n",
    "plt.title(\"Fuel Lattice\")\n",
    "plt.axis(\"equal\")\n",
    "plt.axis([0,120,0,120])\n",
    "plt.show();"
   ]
  },
  {
   "cell_type": "markdown",
   "metadata": {},
   "source": [
    "If we have some idea about the shape of the flux in this system, then we can calculate reaction rates in this lattice. Let's try to do that. "
   ]
  },
  {
   "cell_type": "code",
   "execution_count": null,
   "metadata": {},
   "outputs": [],
   "source": [
    "fuel_placements = {}\n",
    "#10 x 10 lattice with 0.5 cm spacing\n",
    "#every third pin is heu\n",
    "x = np.arange(6.,120,12)\n",
    "y = np.arange(6.,120,12)\n",
    "fig = plt.figure(figsize=(8,6), dpi=600)\n",
    "X = np.zeros((x.size, x.size))\n",
    "Y = X.copy()\n",
    "Z = X.copy()\n",
    "Zflux = Z.copy()\n",
    "row = 0\n",
    "col = 0\n",
    "count = 1\n",
    "for i in x:\n",
    "    for j in y:\n",
    "        if not(count % 3): #if count mod 3 is 0, then heu\n",
    "            pin_type = \"heu\"\n",
    "        else: #else leu\n",
    "            pin_type = \"leu\"\n",
    "        nusigf = fuel_types[pin_type][\"fuel\"][\"nu sigma_f\"]\n",
    "        X[row,col] = i\n",
    "        Y[row,col] = j\n",
    "        Z[row,col]=nusigf*np.sin(i*np.pi/120)*np.sin(j*np.pi/120)\n",
    "        Zflux[row,col]=np.sin(i*np.pi/120)*np.sin(j*np.pi/120)\n",
    "        row += 1 #increment row\n",
    "        count += 1 #increment count\n",
    "    col += 1 #increment column\n",
    "    row = 0\n",
    "    \n",
    "CS = plt.contour(X,Y,Zflux, colors=\"k\")\n",
    "plt.clabel(CS, fontsize=9, inline=1)\n",
    "plt.xlabel(\"x (cm)\");\n",
    "plt.ylabel(\"y (cm)\");\n",
    "plt.title(\"fundamental mode scalar flux\");\n",
    "plt.show();"
   ]
  },
  {
   "cell_type": "markdown",
   "metadata": {},
   "source": [
    "Now plot the reaction rates "
   ]
  },
  {
   "cell_type": "code",
   "execution_count": null,
   "metadata": {},
   "outputs": [],
   "source": [
    "fig = plt.figure(figsize=(7,6), dpi=600)\n",
    "CS = plt.contour(X,Y,Z, colors=\"k\")\n",
    "plt.clabel(CS, fontsize=9, inline=1)\n",
    "plt.xlabel(\"x (cm)\");\n",
    "plt.ylabel(\"y (cm)\");\n",
    "plt.title(\"fission neutron production rate (neutrons/cm$^3$/s)\");\n",
    "plt.show();"
   ]
  },
  {
   "cell_type": "markdown",
   "metadata": {},
   "source": [
    "When we get to diffusion and Monte Carlo methods later this term, some of these techniques will be useful to us. "
   ]
  },
  {
   "cell_type": "markdown",
   "metadata": {},
   "source": [
    "## Functions passed to functions\n",
    "\n",
    "In the example below, we are going to perform the integral of a function $f$ over the range between $a$ and $b$ using the midpoint, or rectangle rule of integration.  Break the domain $\\left[a,b\\right]$ into a finite number of intervals and evaluate the function at the midpoint of the interval.  Multiply the function evaluation by $\\Delta x$, and sum over all the intervals to approximate the integral (area under the curve...)."
   ]
  },
  {
   "cell_type": "code",
   "execution_count": null,
   "metadata": {},
   "outputs": [],
   "source": [
    "def midpoint_rule(f,a,b,num_intervals):\n",
    "    \"\"\"integrate function f using the midpoint rule\n",
    "    Args:\n",
    "        f: function to be integrated, it must take 1 argument\n",
    "        a: lower bound of integral range\n",
    "        b: upper bound of integral range\n",
    "        num_intervals: the number of intervals in [a,b]\n",
    "    Returns:\n",
    "        estimate of the integral\n",
    "    \"\"\"\n",
    "    L = (b-a) #how big is the range\n",
    "    dx = L/num_intervals #how big is each interval\n",
    "    #midpoints are a+dx/2, a+3dx/2, ..., b-dx/2\n",
    "    midpoints = np.arange(num_intervals)*dx+0.5*dx+a\n",
    "    integral = 0\n",
    "    for point in midpoints:\n",
    "        integral = integral + f(point)\n",
    "    return integral*dx"
   ]
  },
  {
   "cell_type": "code",
   "execution_count": null,
   "metadata": {},
   "outputs": [],
   "source": [
    "# we'll pass the np.sin function in as the first argument...\n",
    "import numpy as np\n",
    "print(midpoint_rule(np.sin,0,np.pi,10))"
   ]
  },
  {
   "cell_type": "markdown",
   "metadata": {},
   "source": [
    "We can see how rapidly the error in this algorithm decreases as we make increase the number of intervals, decreasing the $\\Delta x$...\n",
    "\n",
    "First let's set up some of our variables for the problem... "
   ]
  },
  {
   "cell_type": "code",
   "execution_count": null,
   "metadata": {},
   "outputs": [],
   "source": [
    "import matplotlib.pyplot as plt\n",
    "num_intervals = 8 #number of interval sizes\n",
    "#run several different intervals\n",
    "intervals = 10**np.arange(num_intervals)\n",
    "error = np.zeros(num_intervals)\n",
    "count = 0\n",
    "a = 0\n",
    "b = np.pi\n",
    "\n",
    "print(intervals)\n",
    "print(error)"
   ]
  },
  {
   "cell_type": "markdown",
   "metadata": {},
   "source": [
    "Now let's go through each interval and get the value of the rule. "
   ]
  },
  {
   "cell_type": "code",
   "execution_count": null,
   "metadata": {},
   "outputs": [],
   "source": [
    "for interval in intervals:\n",
    "    error[count] = np.fabs(midpoint_rule(np.sin,a,b,interval)-2)\n",
    "    count += 1\n",
    "fig = plt.figure(figsize=(8,6), dpi=600)\n",
    "plt.loglog(intervals,error,marker=\"o\",\n",
    "           markersize = 10,linewidth=2);\n",
    "plt.xlabel(\"# of intervals\")\n",
    "plt.ylabel(\"Error in midpoint rule\")\n",
    "plt.show()"
   ]
  },
  {
   "cell_type": "markdown",
   "metadata": {},
   "source": [
    "We can define our own functions and pass them to the midpoint rule function we defined.  For example, the Exponential Integral function:\n",
    "\n",
    "$$ E_n (x) = \\int\\limits_1^{\\infty} dt \\frac{e^{-xt}}{t^n} $$"
   ]
  },
  {
   "cell_type": "code",
   "execution_count": null,
   "metadata": {},
   "outputs": [],
   "source": [
    "def exp_int_argument(t,n=1,x=1):\n",
    "    return np.exp(-x*t)/t**n\n",
    "num_points = 10**6\n",
    "upper_bound = 1000\n",
    "print(\"Exact answer is 0.2193839343\")\n",
    "print(\"Our approximation with upper bound\",upper_bound,\n",
    "      \"and\",num_points,\n",
    "      \"points is\",\n",
    "      midpoint_rule(exp_int_argument,1,upper_bound,num_points))"
   ]
  },
  {
   "cell_type": "markdown",
   "metadata": {},
   "source": [
    "We can employ Matplotlib to illustrate the midpoint rule for integration..."
   ]
  },
  {
   "cell_type": "code",
   "execution_count": null,
   "metadata": {},
   "outputs": [],
   "source": [
    "def midpoint_rule_graphical(f,a,b,num_intervals):\n",
    "    \"\"\"integrate function f using the midpoint rule\n",
    "    Args:\n",
    "        f: function to be integrated, it must take one argument\n",
    "        a: lower bound of integral range\n",
    "        b: upper bound of integral range\n",
    "        num_intervals: the number of intervals to break [a,b] into\n",
    "    Returns:\n",
    "        estimate of the integral\n",
    "    Side Effect:\n",
    "        Plots intervals and areas of midpoint rule\n",
    "    \"\"\"\n",
    "    fig = plt.figure()\n",
    "    ax = plt.subplot(111)\n",
    "    L = (b-a) #how big is the range\n",
    "    dx = L/num_intervals #how big is each interval\n",
    "    midpoints = np.arange(num_intervals)*dx+0.5*dx+a\n",
    "    x = midpoints\n",
    "    y = np.zeros(num_intervals)\n",
    "    integral = 0\n",
    "    count = 0\n",
    "    for point in midpoints:\n",
    "        y[count] = f(point)\n",
    "        integral = integral + f(point)\n",
    "        verts = [(point-dx/2,0)] + [(point-dx/2,f(point))]\n",
    "        verts += [(point+dx/2,f(point))] + [(point+dx/2,0)]\n",
    "        poly = plt.Polygon(verts, facecolor=\"0.8\", edgecolor=\"k\")\n",
    "        ax.add_patch(poly)\n",
    "        count += 1\n",
    "    y = f(x)\n",
    "    smooth_x = np.linspace(a,b,10000)\n",
    "    smooth_y = f(smooth_x)\n",
    "    plt.plot(smooth_x, smooth_y, linewidth=1)\n",
    "    plt.xlabel(\"x\")\n",
    "    plt.ylabel(\"f(x)\")\n",
    "    plt.title(\"Integral Estimate is \" + str(integral*dx))\n",
    "    plt.show()\n",
    "    return integral*dx\n",
    "\n",
    "midpoint_rule_graphical(np.sin,0,2*np.pi,10)"
   ]
  },
  {
   "cell_type": "code",
   "execution_count": null,
   "metadata": {},
   "outputs": [],
   "source": [
    "num_points = 20\n",
    "upper_bound = 5\n",
    "print(\"Answer is 0.2193839343\")\n",
    "print(\"Our approximation with upper bound\",upper_bound,\n",
    "      \"and\",num_points,\"points is\",\n",
    "      midpoint_rule_graphical(exp_int_argument,1,upper_bound,num_points))"
   ]
  },
  {
   "cell_type": "markdown",
   "metadata": {},
   "source": [
    "## Lambda functions\n",
    "\n",
    "These are simple, one line functions. Important difference: lambda functions\n",
    "give you access to all the variables available in the scope they are defined. This means\n",
    "that lambda functions do not have their own variable scope.\n",
    "\n",
    "By that I mean, `lambda x: f(x)` evaluates `f(x)` using whatever value of parameter x that is passed to it. \n",
    "\n",
    "If you define a lambda function inside another function, it has the same scope as the function it is defined in. "
   ]
  },
  {
   "cell_type": "code",
   "execution_count": null,
   "metadata": {},
   "outputs": [],
   "source": [
    "simple_line = lambda x: 2.0*x + 1.0\n",
    "print(\"The line at x = ## is\", simple_line(##))\n",
    "print(\"The line at x = ## is\", simple_line(##))\n",
    "print(\"The line at x = ## is\", simple_line(###))\n",
    "x = np.linspace(0,##,50) ## Set linspace that makes sense\n",
    "y = simple_line(x)\n",
    "plt.plot(x,y)\n",
    "plt.ylabel(\"y\")\n",
    "plt.xlabel(\"x\")\n",
    "plt.show()"
   ]
  },
  {
   "cell_type": "markdown",
   "metadata": {},
   "source": [
    "Here we define the probability density function of a Gaussian as the integrand. A unit variance and zero\n",
    "mean Gaussian is given by:\n",
    "\n",
    "$$ f(x) = \\frac{e^{-x^2}}{\\sqrt{\\pi}} $$"
   ]
  },
  {
   "cell_type": "code",
   "execution_count": null,
   "metadata": {},
   "outputs": [],
   "source": [
    "#function to compute gaussian\n",
    "gaussian = lambda x: np.exp(-x**2)/np.sqrt(np.pi)\n",
    "midpoint_rule_graphical(gaussian,-3,3,20)"
   ]
  },
  {
   "cell_type": "markdown",
   "metadata": {},
   "source": [
    "We can trick our midpoint integration scheme into performing two dimensional integrals by observing that:\n",
    "\n",
    "$$\\int\\limits_{a_y}^{b_y} dy \\int\\limits_{a_x}^{b_x} dx f(x,y) = \\int\\limits_{a_y}^{b_y} dy g(y), $$\n",
    "\n",
    "where \n",
    "\n",
    "$$g(y) = \\int\\limits_{a_x}^{b_x} dx f(x,y). $$\n",
    "\n",
    "We can use slightly modify our existing midpoint code and use a lambda function to compute an approximation to:\n",
    "\n",
    "$$ \\int\\limits_{0}^{\\pi} dy \\int\\limits_{0}^{\\pi} dx \\sin{(x)} \\sin{(y)} = 4. $$"
   ]
  },
  {
   "cell_type": "code",
   "execution_count": null,
   "metadata": {},
   "outputs": [],
   "source": [
    "def midpoint_2D(f,ax,bx,ay,by,num_intervals_x,num_intervals_y):\n",
    "    \"\"\"integrate function f(x,y) using the midpoint rule\n",
    "    Args:\n",
    "        f: function to be integrated, it must take 2 arguments\n",
    "        ax: lower bound of integral range in x\n",
    "        bx: upper bound of integral range in x\n",
    "        ay: lower bound of integral range in y\n",
    "        by: upper bound of integral range in y\n",
    "        num_intervals_x: the number of intervals in x\n",
    "        num_intervals_y: the number of intervals in y\n",
    "    Returns:\n",
    "        estimate of the integral\n",
    "    \"\"\"\n",
    "    g = lambda y: midpoint_rule(lambda x: f(x,y),ax,bx,num_intervals_x)\n",
    "    return midpoint_rule(g,ay,by,num_intervals_y)\n",
    "\n",
    "sin2 = lambda x,y:np.sin(x)*np.sin(y)\n",
    "print(\"Estimate of the integral of sin(x)sin(y), over [0,pi] x [0,pi] is\",\n",
    "midpoint_2D(sin2,0,np.pi,0,np.pi,1000,1000))"
   ]
  },
  {
   "cell_type": "markdown",
   "metadata": {},
   "source": [
    "The lambda functions in this example tell Python to treat only a single variable as the\n",
    "function parameter, and evaluate everything else based on the current scope:\n",
    "\n",
    "$\\texttt{lambda x: f(x,y)}$ evaluates $\\texttt{f(x,y)}$ using whatever the current value of y is and the parameter x that the function was passed. \n",
    "\n",
    "The value of y is supplied by a parameter to the lambda function g.\n",
    "\n",
    "The intricacies of defining lambda functions inside other lambda functions can get a bit\n",
    "abstract, but remembering that they treat all variables in an expression that is not specified in\n",
    "the parameter list as “known”, is the key to understanding how they function."
   ]
  },
  {
   "cell_type": "code",
   "execution_count": null,
   "metadata": {},
   "outputs": [],
   "source": []
  }
 ],
 "metadata": {
  "kernelspec": {
   "display_name": "Python 3 (ipykernel)",
   "language": "python",
   "name": "python3"
  },
  "language_info": {
   "codemirror_mode": {
    "name": "ipython",
    "version": 3
   },
   "file_extension": ".py",
   "mimetype": "text/x-python",
   "name": "python",
   "nbconvert_exporter": "python",
   "pygments_lexer": "ipython3",
   "version": "3.13.2"
  }
 },
 "nbformat": 4,
 "nbformat_minor": 4
}
